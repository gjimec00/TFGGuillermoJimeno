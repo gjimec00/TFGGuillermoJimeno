{
 "cells": [
  {
   "cell_type": "code",
   "execution_count": 1,
   "id": "11cbb329-337e-4756-b37e-67f10ec6e28e",
   "metadata": {},
   "outputs": [
    {
     "name": "stdout",
     "output_type": "stream",
     "text": [
      "CUDA disponible: True\n",
      "Número de GPUs disponibles: 1\n",
      "Nombre de la GPU: NVIDIA GeForce RTX 4060 Ti\n"
     ]
    }
   ],
   "source": [
    "import torch\n",
    "\n",
    "# Verificar si CUDA está disponible\n",
    "print(\"CUDA disponible:\", torch.cuda.is_available())\n",
    "\n",
    "# Si CUDA está disponible, muestra información de la GPU\n",
    "if torch.cuda.is_available():\n",
    "    print(\"Número de GPUs disponibles:\", torch.cuda.device_count())\n",
    "    print(\"Nombre de la GPU:\", torch.cuda.get_device_name(0))\n"
   ]
  },
  {
   "cell_type": "code",
   "execution_count": null,
   "id": "1653d34f-cb51-4d1a-ada1-e4a2c97e0be1",
   "metadata": {
    "scrolled": true
   },
   "outputs": [],
   "source": [
    "!pip install ultralytics==8.0.28\n"
   ]
  },
  {
   "cell_type": "code",
   "execution_count": 2,
   "id": "f8e359b8-b3ea-439e-89f2-4c2c712ce291",
   "metadata": {
    "scrolled": true
   },
   "outputs": [
    {
     "name": "stdout",
     "output_type": "stream",
     "text": [
      "C:\\Users\\Guille\\Documents\\TFG\\yolov8\n"
     ]
    }
   ],
   "source": [
    "%cd yolov8"
   ]
  },
  {
   "cell_type": "code",
   "execution_count": 4,
   "id": "a37a53fe-43ec-4995-a68c-26e90be7bb54",
   "metadata": {},
   "outputs": [
    {
     "name": "stdout",
     "output_type": "stream",
     "text": [
      "Downloading https://github.com/ultralytics/assets/releases/download/v8.3.0/yolov8s-cls.pt to 'yolov8s-cls.pt'...\n"
     ]
    },
    {
     "name": "stderr",
     "output_type": "stream",
     "text": [
      "100%|█████████████████████████████████████████████████████████████████████████████| 12.3M/12.3M [00:00<00:00, 38.8MB/s]\n"
     ]
    }
   ],
   "source": [
    "from ultralytics import YOLO\n",
    "\n",
    "# Cargar el modelo\n",
    "model = YOLO('yolov8s-cls.pt')"
   ]
  },
  {
   "cell_type": "code",
   "execution_count": null,
   "id": "58a3bd8f-926f-4f66-b16e-94a79a607771",
   "metadata": {},
   "outputs": [],
   "source": [
    "from ultralytics import YOLO\n",
    "\n",
    "# Cargar el modelo\n",
    "model = YOLO('yolov8s.pt')"
   ]
  },
  {
   "cell_type": "code",
   "execution_count": 7,
   "id": "bcf6a8b2-9a4a-4fc5-9e8b-8a62168a81c1",
   "metadata": {
    "scrolled": true
   },
   "outputs": [
    {
     "name": "stdout",
     "output_type": "stream",
     "text": [
      "New https://pypi.org/project/ultralytics/8.3.96 available  Update with 'pip install -U ultralytics'\n",
      "Ultralytics 8.3.68  Python-3.9.21 torch-2.5.1+cu124 CUDA:0 (NVIDIA GeForce RTX 4060 Ti, 8188MiB)\n",
      "\u001b[34m\u001b[1mengine\\trainer: \u001b[0mtask=classify, mode=train, model=yolov8s-cls.pt, data=../datasetHoja, epochs=50, time=None, patience=100, batch=16, imgsz=224, save=True, save_period=-1, cache=False, device=None, workers=8, project=None, name=train, exist_ok=False, pretrained=True, optimizer=auto, verbose=True, seed=0, deterministic=True, single_cls=False, rect=False, cos_lr=False, close_mosaic=10, resume=False, amp=True, fraction=1.0, profile=False, freeze=None, multi_scale=False, overlap_mask=True, mask_ratio=4, dropout=0.0, val=True, split=val, save_json=False, save_hybrid=False, conf=None, iou=0.7, max_det=300, half=False, dnn=False, plots=True, source=None, vid_stride=1, stream_buffer=False, visualize=False, augment=False, agnostic_nms=False, classes=None, retina_masks=False, embed=None, show=False, save_frames=False, save_txt=False, save_conf=False, save_crop=False, show_labels=True, show_conf=True, show_boxes=True, line_width=None, format=torchscript, keras=False, optimize=False, int8=False, dynamic=False, simplify=True, opset=None, workspace=None, nms=False, lr0=0.01, lrf=0.01, momentum=0.937, weight_decay=0.0005, warmup_epochs=3.0, warmup_momentum=0.8, warmup_bias_lr=0.1, box=7.5, cls=0.5, dfl=1.5, pose=12.0, kobj=1.0, nbs=64, hsv_h=0.015, hsv_s=0.7, hsv_v=0.4, degrees=0.0, translate=0.1, scale=0.5, shear=0.0, perspective=0.0, flipud=0.0, fliplr=0.5, bgr=0.0, mosaic=1.0, mixup=0.0, copy_paste=0.0, copy_paste_mode=flip, auto_augment=randaugment, erasing=0.4, crop_fraction=1.0, cfg=None, tracker=botsort.yaml, save_dir=runs\\classify\\train\n",
      "\u001b[34m\u001b[1mtrain:\u001b[0m C:\\Users\\Guille\\Documents\\TFG\\datasetHoja\\train... found 19426 images in 7 classes  \n",
      "\u001b[34m\u001b[1mval:\u001b[0m C:\\Users\\Guille\\Documents\\TFG\\datasetHoja\\val... found 5125 images in 7 classes  \n",
      "\u001b[34m\u001b[1mtest:\u001b[0m None...\n",
      "\n",
      "                   from  n    params  module                                       arguments                     \n",
      "  0                  -1  1       928  ultralytics.nn.modules.conv.Conv             [3, 32, 3, 2]                 \n",
      "  1                  -1  1     18560  ultralytics.nn.modules.conv.Conv             [32, 64, 3, 2]                \n",
      "  2                  -1  1     29056  ultralytics.nn.modules.block.C2f             [64, 64, 1, True]             \n",
      "  3                  -1  1     73984  ultralytics.nn.modules.conv.Conv             [64, 128, 3, 2]               \n",
      "  4                  -1  2    197632  ultralytics.nn.modules.block.C2f             [128, 128, 2, True]           \n",
      "  5                  -1  1    295424  ultralytics.nn.modules.conv.Conv             [128, 256, 3, 2]              \n",
      "  6                  -1  2    788480  ultralytics.nn.modules.block.C2f             [256, 256, 2, True]           \n",
      "  7                  -1  1   1180672  ultralytics.nn.modules.conv.Conv             [256, 512, 3, 2]              \n",
      "  8                  -1  1   1838080  ultralytics.nn.modules.block.C2f             [512, 512, 1, True]           \n",
      "  9                  -1  1    666887  ultralytics.nn.modules.head.Classify         [512, 7]                      \n",
      "YOLOv8s-cls summary: 99 layers, 5,089,703 parameters, 5,089,703 gradients, 12.6 GFLOPs\n",
      "Transferred 158/158 items from pretrained weights\n",
      "\u001b[34m\u001b[1mAMP: \u001b[0mrunning Automatic Mixed Precision (AMP) checks...\n",
      "\u001b[34m\u001b[1mAMP: \u001b[0mchecks passed \n"
     ]
    },
    {
     "name": "stderr",
     "output_type": "stream",
     "text": [
      "\u001b[34m\u001b[1mtrain: \u001b[0mScanning C:\\Users\\Guille\\Documents\\TFG\\datasetHoja\\train... 19426 images, 0 corrupt: 100%|██████████| 19426/1942\u001b[0m\n"
     ]
    },
    {
     "name": "stdout",
     "output_type": "stream",
     "text": [
      "\u001b[34m\u001b[1mtrain: \u001b[0mNew cache created: C:\\Users\\Guille\\Documents\\TFG\\datasetHoja\\train.cache\n"
     ]
    },
    {
     "name": "stderr",
     "output_type": "stream",
     "text": [
      "\u001b[34m\u001b[1mval: \u001b[0mScanning C:\\Users\\Guille\\Documents\\TFG\\datasetHoja\\val... 5125 images, 0 corrupt: 100%|██████████| 5125/5125 [00:0\u001b[0m\n"
     ]
    },
    {
     "name": "stdout",
     "output_type": "stream",
     "text": [
      "\u001b[34m\u001b[1mval: \u001b[0mNew cache created: C:\\Users\\Guille\\Documents\\TFG\\datasetHoja\\val.cache\n",
      "\u001b[34m\u001b[1moptimizer:\u001b[0m 'optimizer=auto' found, ignoring 'lr0=0.01' and 'momentum=0.937' and determining best 'optimizer', 'lr0' and 'momentum' automatically... \n",
      "\u001b[34m\u001b[1moptimizer:\u001b[0m SGD(lr=0.01, momentum=0.9) with parameter groups 26 weight(decay=0.0), 27 weight(decay=0.0005), 27 bias(decay=0.0)\n",
      "Image sizes 224 train, 224 val\n",
      "Using 8 dataloader workers\n",
      "Logging results to \u001b[1mruns\\classify\\train\u001b[0m\n",
      "Starting training for 50 epochs...\n",
      "\n",
      "      Epoch    GPU_mem       loss  Instances       Size\n"
     ]
    },
    {
     "name": "stderr",
     "output_type": "stream",
     "text": [
      "       1/50      3.07G     0.8345          2        224: 100%|██████████| 1215/1215 [00:24<00:00, 49.69it/s]\n",
      "               classes   top1_acc   top5_acc: 100%|██████████| 161/161 [00:01<00:00, 84.54it/s]"
     ]
    },
    {
     "name": "stdout",
     "output_type": "stream",
     "text": [
      "                   all      0.798      0.998\n"
     ]
    },
    {
     "name": "stderr",
     "output_type": "stream",
     "text": [
      "\n"
     ]
    },
    {
     "name": "stdout",
     "output_type": "stream",
     "text": [
      "\n",
      "      Epoch    GPU_mem       loss  Instances       Size\n"
     ]
    },
    {
     "name": "stderr",
     "output_type": "stream",
     "text": [
      "       2/50     0.491G      0.542          2        224: 100%|██████████| 1215/1215 [00:22<00:00, 53.56it/s]\n",
      "               classes   top1_acc   top5_acc: 100%|██████████| 161/161 [00:01<00:00, 88.23it/s]"
     ]
    },
    {
     "name": "stdout",
     "output_type": "stream",
     "text": [
      "                   all       0.83      0.999\n"
     ]
    },
    {
     "name": "stderr",
     "output_type": "stream",
     "text": [
      "\n"
     ]
    },
    {
     "name": "stdout",
     "output_type": "stream",
     "text": [
      "\n",
      "      Epoch    GPU_mem       loss  Instances       Size\n"
     ]
    },
    {
     "name": "stderr",
     "output_type": "stream",
     "text": [
      "       3/50     0.463G     0.5389          2        224: 100%|██████████| 1215/1215 [00:20<00:00, 58.08it/s]\n",
      "               classes   top1_acc   top5_acc: 100%|██████████| 161/161 [00:01<00:00, 88.61it/s]"
     ]
    },
    {
     "name": "stdout",
     "output_type": "stream",
     "text": [
      "                   all      0.776      0.998\n"
     ]
    },
    {
     "name": "stderr",
     "output_type": "stream",
     "text": [
      "\n"
     ]
    },
    {
     "name": "stdout",
     "output_type": "stream",
     "text": [
      "\n",
      "      Epoch    GPU_mem       loss  Instances       Size\n"
     ]
    },
    {
     "name": "stderr",
     "output_type": "stream",
     "text": [
      "       4/50     0.472G     0.5829          2        224: 100%|██████████| 1215/1215 [00:20<00:00, 58.79it/s]\n",
      "               classes   top1_acc   top5_acc: 100%|██████████| 161/161 [00:01<00:00, 86.62it/s]"
     ]
    },
    {
     "name": "stdout",
     "output_type": "stream",
     "text": [
      "                   all      0.823      0.999\n"
     ]
    },
    {
     "name": "stderr",
     "output_type": "stream",
     "text": [
      "\n"
     ]
    },
    {
     "name": "stdout",
     "output_type": "stream",
     "text": [
      "\n",
      "      Epoch    GPU_mem       loss  Instances       Size\n"
     ]
    },
    {
     "name": "stderr",
     "output_type": "stream",
     "text": [
      "       5/50     0.478G     0.5396          2        224: 100%|██████████| 1215/1215 [00:20<00:00, 58.40it/s]\n",
      "               classes   top1_acc   top5_acc: 100%|██████████| 161/161 [00:01<00:00, 87.75it/s]"
     ]
    },
    {
     "name": "stdout",
     "output_type": "stream",
     "text": [
      "                   all      0.846      0.999\n"
     ]
    },
    {
     "name": "stderr",
     "output_type": "stream",
     "text": [
      "\n"
     ]
    },
    {
     "name": "stdout",
     "output_type": "stream",
     "text": [
      "\n",
      "      Epoch    GPU_mem       loss  Instances       Size\n"
     ]
    },
    {
     "name": "stderr",
     "output_type": "stream",
     "text": [
      "       6/50     0.478G     0.4919          2        224: 100%|██████████| 1215/1215 [00:20<00:00, 58.48it/s]\n",
      "               classes   top1_acc   top5_acc: 100%|██████████| 161/161 [00:01<00:00, 87.98it/s]"
     ]
    },
    {
     "name": "stdout",
     "output_type": "stream",
     "text": [
      "                   all      0.833      0.999\n"
     ]
    },
    {
     "name": "stderr",
     "output_type": "stream",
     "text": [
      "\n"
     ]
    },
    {
     "name": "stdout",
     "output_type": "stream",
     "text": [
      "\n",
      "      Epoch    GPU_mem       loss  Instances       Size\n"
     ]
    },
    {
     "name": "stderr",
     "output_type": "stream",
     "text": [
      "       7/50      0.47G     0.4648          2        224: 100%|██████████| 1215/1215 [00:20<00:00, 58.60it/s]\n",
      "               classes   top1_acc   top5_acc: 100%|██████████| 161/161 [00:01<00:00, 87.45it/s]"
     ]
    },
    {
     "name": "stdout",
     "output_type": "stream",
     "text": [
      "                   all       0.85          1\n"
     ]
    },
    {
     "name": "stderr",
     "output_type": "stream",
     "text": [
      "\n"
     ]
    },
    {
     "name": "stdout",
     "output_type": "stream",
     "text": [
      "\n",
      "      Epoch    GPU_mem       loss  Instances       Size\n"
     ]
    },
    {
     "name": "stderr",
     "output_type": "stream",
     "text": [
      "       8/50     0.472G     0.4435          2        224: 100%|██████████| 1215/1215 [00:20<00:00, 58.40it/s]\n",
      "               classes   top1_acc   top5_acc: 100%|██████████| 161/161 [00:01<00:00, 87.19it/s]"
     ]
    },
    {
     "name": "stdout",
     "output_type": "stream",
     "text": [
      "                   all      0.864          1\n"
     ]
    },
    {
     "name": "stderr",
     "output_type": "stream",
     "text": [
      "\n"
     ]
    },
    {
     "name": "stdout",
     "output_type": "stream",
     "text": [
      "\n",
      "      Epoch    GPU_mem       loss  Instances       Size\n"
     ]
    },
    {
     "name": "stderr",
     "output_type": "stream",
     "text": [
      "       9/50     0.478G     0.4274          2        224: 100%|██████████| 1215/1215 [00:20<00:00, 58.93it/s]\n",
      "               classes   top1_acc   top5_acc: 100%|██████████| 161/161 [00:01<00:00, 87.71it/s]"
     ]
    },
    {
     "name": "stdout",
     "output_type": "stream",
     "text": [
      "                   all      0.872          1\n"
     ]
    },
    {
     "name": "stderr",
     "output_type": "stream",
     "text": [
      "\n"
     ]
    },
    {
     "name": "stdout",
     "output_type": "stream",
     "text": [
      "\n",
      "      Epoch    GPU_mem       loss  Instances       Size\n"
     ]
    },
    {
     "name": "stderr",
     "output_type": "stream",
     "text": [
      "      10/50     0.461G     0.4118          2        224: 100%|██████████| 1215/1215 [00:20<00:00, 58.91it/s]\n",
      "               classes   top1_acc   top5_acc: 100%|██████████| 161/161 [00:01<00:00, 88.21it/s]"
     ]
    },
    {
     "name": "stdout",
     "output_type": "stream",
     "text": [
      "                   all      0.881          1\n"
     ]
    },
    {
     "name": "stderr",
     "output_type": "stream",
     "text": [
      "\n"
     ]
    },
    {
     "name": "stdout",
     "output_type": "stream",
     "text": [
      "\n",
      "      Epoch    GPU_mem       loss  Instances       Size\n"
     ]
    },
    {
     "name": "stderr",
     "output_type": "stream",
     "text": [
      "      11/50      0.47G      0.384          2        224: 100%|██████████| 1215/1215 [00:21<00:00, 55.58it/s]\n",
      "               classes   top1_acc   top5_acc: 100%|██████████| 161/161 [00:01<00:00, 87.67it/s]"
     ]
    },
    {
     "name": "stdout",
     "output_type": "stream",
     "text": [
      "                   all      0.882          1\n"
     ]
    },
    {
     "name": "stderr",
     "output_type": "stream",
     "text": [
      "\n"
     ]
    },
    {
     "name": "stdout",
     "output_type": "stream",
     "text": [
      "\n",
      "      Epoch    GPU_mem       loss  Instances       Size\n"
     ]
    },
    {
     "name": "stderr",
     "output_type": "stream",
     "text": [
      "      12/50     0.472G     0.3821          2        224: 100%|██████████| 1215/1215 [00:20<00:00, 58.76it/s]\n",
      "               classes   top1_acc   top5_acc: 100%|██████████| 161/161 [00:01<00:00, 88.98it/s]"
     ]
    },
    {
     "name": "stdout",
     "output_type": "stream",
     "text": [
      "                   all      0.886          1\n"
     ]
    },
    {
     "name": "stderr",
     "output_type": "stream",
     "text": [
      "\n"
     ]
    },
    {
     "name": "stdout",
     "output_type": "stream",
     "text": [
      "\n",
      "      Epoch    GPU_mem       loss  Instances       Size\n"
     ]
    },
    {
     "name": "stderr",
     "output_type": "stream",
     "text": [
      "      13/50     0.476G     0.3586          2        224: 100%|██████████| 1215/1215 [00:20<00:00, 59.48it/s]\n",
      "               classes   top1_acc   top5_acc: 100%|██████████| 161/161 [00:01<00:00, 85.99it/s]"
     ]
    },
    {
     "name": "stdout",
     "output_type": "stream",
     "text": [
      "                   all      0.891          1\n"
     ]
    },
    {
     "name": "stderr",
     "output_type": "stream",
     "text": [
      "\n"
     ]
    },
    {
     "name": "stdout",
     "output_type": "stream",
     "text": [
      "\n",
      "      Epoch    GPU_mem       loss  Instances       Size\n"
     ]
    },
    {
     "name": "stderr",
     "output_type": "stream",
     "text": [
      "      14/50     0.461G     0.3612          2        224: 100%|██████████| 1215/1215 [00:20<00:00, 59.85it/s]\n",
      "               classes   top1_acc   top5_acc: 100%|██████████| 161/161 [00:01<00:00, 86.64it/s]"
     ]
    },
    {
     "name": "stdout",
     "output_type": "stream",
     "text": [
      "                   all      0.893          1\n"
     ]
    },
    {
     "name": "stderr",
     "output_type": "stream",
     "text": [
      "\n"
     ]
    },
    {
     "name": "stdout",
     "output_type": "stream",
     "text": [
      "\n",
      "      Epoch    GPU_mem       loss  Instances       Size\n"
     ]
    },
    {
     "name": "stderr",
     "output_type": "stream",
     "text": [
      "      15/50      0.47G     0.3418          2        224: 100%|██████████| 1215/1215 [00:20<00:00, 59.19it/s]\n",
      "               classes   top1_acc   top5_acc: 100%|██████████| 161/161 [00:01<00:00, 87.53it/s]"
     ]
    },
    {
     "name": "stdout",
     "output_type": "stream",
     "text": [
      "                   all      0.897          1\n"
     ]
    },
    {
     "name": "stderr",
     "output_type": "stream",
     "text": [
      "\n"
     ]
    },
    {
     "name": "stdout",
     "output_type": "stream",
     "text": [
      "\n",
      "      Epoch    GPU_mem       loss  Instances       Size\n"
     ]
    },
    {
     "name": "stderr",
     "output_type": "stream",
     "text": [
      "      16/50     0.472G     0.3312          2        224: 100%|██████████| 1215/1215 [00:20<00:00, 60.19it/s]\n",
      "               classes   top1_acc   top5_acc: 100%|██████████| 161/161 [00:01<00:00, 88.26it/s]"
     ]
    },
    {
     "name": "stdout",
     "output_type": "stream",
     "text": [
      "                   all      0.898          1\n"
     ]
    },
    {
     "name": "stderr",
     "output_type": "stream",
     "text": [
      "\n"
     ]
    },
    {
     "name": "stdout",
     "output_type": "stream",
     "text": [
      "\n",
      "      Epoch    GPU_mem       loss  Instances       Size\n"
     ]
    },
    {
     "name": "stderr",
     "output_type": "stream",
     "text": [
      "      17/50     0.476G     0.3188          2        224: 100%|██████████| 1215/1215 [00:20<00:00, 59.86it/s]\n",
      "               classes   top1_acc   top5_acc: 100%|██████████| 161/161 [00:01<00:00, 85.19it/s]"
     ]
    },
    {
     "name": "stdout",
     "output_type": "stream",
     "text": [
      "                   all        0.9          1\n"
     ]
    },
    {
     "name": "stderr",
     "output_type": "stream",
     "text": [
      "\n"
     ]
    },
    {
     "name": "stdout",
     "output_type": "stream",
     "text": [
      "\n",
      "      Epoch    GPU_mem       loss  Instances       Size\n"
     ]
    },
    {
     "name": "stderr",
     "output_type": "stream",
     "text": [
      "      18/50     0.461G     0.3103          2        224: 100%|██████████| 1215/1215 [00:20<00:00, 58.43it/s]\n",
      "               classes   top1_acc   top5_acc: 100%|██████████| 161/161 [00:01<00:00, 89.16it/s]"
     ]
    },
    {
     "name": "stdout",
     "output_type": "stream",
     "text": [
      "                   all      0.905          1\n"
     ]
    },
    {
     "name": "stderr",
     "output_type": "stream",
     "text": [
      "\n"
     ]
    },
    {
     "name": "stdout",
     "output_type": "stream",
     "text": [
      "\n",
      "      Epoch    GPU_mem       loss  Instances       Size\n"
     ]
    },
    {
     "name": "stderr",
     "output_type": "stream",
     "text": [
      "      19/50      0.47G     0.3013          2        224: 100%|██████████| 1215/1215 [00:20<00:00, 58.87it/s]\n",
      "               classes   top1_acc   top5_acc: 100%|██████████| 161/161 [00:01<00:00, 87.45it/s]"
     ]
    },
    {
     "name": "stdout",
     "output_type": "stream",
     "text": [
      "                   all      0.909          1\n"
     ]
    },
    {
     "name": "stderr",
     "output_type": "stream",
     "text": [
      "\n"
     ]
    },
    {
     "name": "stdout",
     "output_type": "stream",
     "text": [
      "\n",
      "      Epoch    GPU_mem       loss  Instances       Size\n"
     ]
    },
    {
     "name": "stderr",
     "output_type": "stream",
     "text": [
      "      20/50     0.472G     0.3017          2        224: 100%|██████████| 1215/1215 [00:21<00:00, 57.37it/s]\n",
      "               classes   top1_acc   top5_acc: 100%|██████████| 161/161 [00:01<00:00, 89.45it/s]"
     ]
    },
    {
     "name": "stdout",
     "output_type": "stream",
     "text": [
      "                   all      0.912          1\n"
     ]
    },
    {
     "name": "stderr",
     "output_type": "stream",
     "text": [
      "\n"
     ]
    },
    {
     "name": "stdout",
     "output_type": "stream",
     "text": [
      "\n",
      "      Epoch    GPU_mem       loss  Instances       Size\n"
     ]
    },
    {
     "name": "stderr",
     "output_type": "stream",
     "text": [
      "      21/50     0.476G     0.2949          2        224: 100%|██████████| 1215/1215 [00:20<00:00, 59.10it/s]\n",
      "               classes   top1_acc   top5_acc: 100%|██████████| 161/161 [00:01<00:00, 85.90it/s]"
     ]
    },
    {
     "name": "stdout",
     "output_type": "stream",
     "text": [
      "                   all      0.917          1\n"
     ]
    },
    {
     "name": "stderr",
     "output_type": "stream",
     "text": [
      "\n"
     ]
    },
    {
     "name": "stdout",
     "output_type": "stream",
     "text": [
      "\n",
      "      Epoch    GPU_mem       loss  Instances       Size\n"
     ]
    },
    {
     "name": "stderr",
     "output_type": "stream",
     "text": [
      "      22/50     0.461G     0.2837          2        224: 100%|██████████| 1215/1215 [00:20<00:00, 58.55it/s]\n",
      "               classes   top1_acc   top5_acc: 100%|██████████| 161/161 [00:01<00:00, 85.47it/s]"
     ]
    },
    {
     "name": "stdout",
     "output_type": "stream",
     "text": [
      "                   all      0.916          1\n"
     ]
    },
    {
     "name": "stderr",
     "output_type": "stream",
     "text": [
      "\n"
     ]
    },
    {
     "name": "stdout",
     "output_type": "stream",
     "text": [
      "\n",
      "      Epoch    GPU_mem       loss  Instances       Size\n"
     ]
    },
    {
     "name": "stderr",
     "output_type": "stream",
     "text": [
      "      23/50      0.47G     0.2734          2        224: 100%|██████████| 1215/1215 [00:20<00:00, 58.91it/s]\n",
      "               classes   top1_acc   top5_acc: 100%|██████████| 161/161 [00:01<00:00, 88.10it/s]"
     ]
    },
    {
     "name": "stdout",
     "output_type": "stream",
     "text": [
      "                   all      0.916          1\n"
     ]
    },
    {
     "name": "stderr",
     "output_type": "stream",
     "text": [
      "\n"
     ]
    },
    {
     "name": "stdout",
     "output_type": "stream",
     "text": [
      "\n",
      "      Epoch    GPU_mem       loss  Instances       Size\n"
     ]
    },
    {
     "name": "stderr",
     "output_type": "stream",
     "text": [
      "      24/50     0.472G     0.2703          2        224: 100%|██████████| 1215/1215 [00:20<00:00, 59.42it/s]\n",
      "               classes   top1_acc   top5_acc: 100%|██████████| 161/161 [00:01<00:00, 86.11it/s]"
     ]
    },
    {
     "name": "stdout",
     "output_type": "stream",
     "text": [
      "                   all      0.921          1\n"
     ]
    },
    {
     "name": "stderr",
     "output_type": "stream",
     "text": [
      "\n"
     ]
    },
    {
     "name": "stdout",
     "output_type": "stream",
     "text": [
      "\n",
      "      Epoch    GPU_mem       loss  Instances       Size\n"
     ]
    },
    {
     "name": "stderr",
     "output_type": "stream",
     "text": [
      "      25/50     0.476G     0.2573          2        224: 100%|██████████| 1215/1215 [00:20<00:00, 58.59it/s]\n",
      "               classes   top1_acc   top5_acc: 100%|██████████| 161/161 [00:01<00:00, 88.92it/s]"
     ]
    },
    {
     "name": "stdout",
     "output_type": "stream",
     "text": [
      "                   all      0.921          1\n"
     ]
    },
    {
     "name": "stderr",
     "output_type": "stream",
     "text": [
      "\n"
     ]
    },
    {
     "name": "stdout",
     "output_type": "stream",
     "text": [
      "\n",
      "      Epoch    GPU_mem       loss  Instances       Size\n"
     ]
    },
    {
     "name": "stderr",
     "output_type": "stream",
     "text": [
      "      26/50     0.461G     0.2535          2        224: 100%|██████████| 1215/1215 [00:20<00:00, 58.15it/s]\n",
      "               classes   top1_acc   top5_acc: 100%|██████████| 161/161 [00:01<00:00, 87.66it/s]"
     ]
    },
    {
     "name": "stdout",
     "output_type": "stream",
     "text": [
      "                   all      0.919          1\n"
     ]
    },
    {
     "name": "stderr",
     "output_type": "stream",
     "text": [
      "\n"
     ]
    },
    {
     "name": "stdout",
     "output_type": "stream",
     "text": [
      "\n",
      "      Epoch    GPU_mem       loss  Instances       Size\n"
     ]
    },
    {
     "name": "stderr",
     "output_type": "stream",
     "text": [
      "      27/50      0.47G     0.2421          2        224: 100%|██████████| 1215/1215 [00:20<00:00, 59.11it/s]\n",
      "               classes   top1_acc   top5_acc: 100%|██████████| 161/161 [00:01<00:00, 87.88it/s]"
     ]
    },
    {
     "name": "stdout",
     "output_type": "stream",
     "text": [
      "                   all      0.922          1\n"
     ]
    },
    {
     "name": "stderr",
     "output_type": "stream",
     "text": [
      "\n"
     ]
    },
    {
     "name": "stdout",
     "output_type": "stream",
     "text": [
      "\n",
      "      Epoch    GPU_mem       loss  Instances       Size\n"
     ]
    },
    {
     "name": "stderr",
     "output_type": "stream",
     "text": [
      "      28/50     0.472G     0.2383          2        224: 100%|██████████| 1215/1215 [00:20<00:00, 58.74it/s]\n",
      "               classes   top1_acc   top5_acc: 100%|██████████| 161/161 [00:01<00:00, 85.45it/s]"
     ]
    },
    {
     "name": "stdout",
     "output_type": "stream",
     "text": [
      "                   all      0.929          1\n"
     ]
    },
    {
     "name": "stderr",
     "output_type": "stream",
     "text": [
      "\n"
     ]
    },
    {
     "name": "stdout",
     "output_type": "stream",
     "text": [
      "\n",
      "      Epoch    GPU_mem       loss  Instances       Size\n"
     ]
    },
    {
     "name": "stderr",
     "output_type": "stream",
     "text": [
      "      29/50     0.476G     0.2263          2        224: 100%|██████████| 1215/1215 [00:20<00:00, 58.10it/s]\n",
      "               classes   top1_acc   top5_acc: 100%|██████████| 161/161 [00:01<00:00, 87.55it/s]"
     ]
    },
    {
     "name": "stdout",
     "output_type": "stream",
     "text": [
      "                   all      0.926          1\n"
     ]
    },
    {
     "name": "stderr",
     "output_type": "stream",
     "text": [
      "\n"
     ]
    },
    {
     "name": "stdout",
     "output_type": "stream",
     "text": [
      "\n",
      "      Epoch    GPU_mem       loss  Instances       Size\n"
     ]
    },
    {
     "name": "stderr",
     "output_type": "stream",
     "text": [
      "      30/50     0.461G     0.2244          2        224: 100%|██████████| 1215/1215 [00:20<00:00, 60.13it/s]\n",
      "               classes   top1_acc   top5_acc: 100%|██████████| 161/161 [00:01<00:00, 87.43it/s]"
     ]
    },
    {
     "name": "stdout",
     "output_type": "stream",
     "text": [
      "                   all      0.927          1\n"
     ]
    },
    {
     "name": "stderr",
     "output_type": "stream",
     "text": [
      "\n"
     ]
    },
    {
     "name": "stdout",
     "output_type": "stream",
     "text": [
      "\n",
      "      Epoch    GPU_mem       loss  Instances       Size\n"
     ]
    },
    {
     "name": "stderr",
     "output_type": "stream",
     "text": [
      "      31/50      0.47G     0.2173          2        224: 100%|██████████| 1215/1215 [00:20<00:00, 59.15it/s]\n",
      "               classes   top1_acc   top5_acc: 100%|██████████| 161/161 [00:01<00:00, 87.44it/s]"
     ]
    },
    {
     "name": "stdout",
     "output_type": "stream",
     "text": [
      "                   all       0.93          1\n"
     ]
    },
    {
     "name": "stderr",
     "output_type": "stream",
     "text": [
      "\n"
     ]
    },
    {
     "name": "stdout",
     "output_type": "stream",
     "text": [
      "\n",
      "      Epoch    GPU_mem       loss  Instances       Size\n"
     ]
    },
    {
     "name": "stderr",
     "output_type": "stream",
     "text": [
      "      32/50     0.472G     0.2074          2        224: 100%|██████████| 1215/1215 [00:20<00:00, 58.42it/s]\n",
      "               classes   top1_acc   top5_acc: 100%|██████████| 161/161 [00:01<00:00, 88.81it/s]"
     ]
    },
    {
     "name": "stdout",
     "output_type": "stream",
     "text": [
      "                   all      0.929          1\n"
     ]
    },
    {
     "name": "stderr",
     "output_type": "stream",
     "text": [
      "\n"
     ]
    },
    {
     "name": "stdout",
     "output_type": "stream",
     "text": [
      "\n",
      "      Epoch    GPU_mem       loss  Instances       Size\n"
     ]
    },
    {
     "name": "stderr",
     "output_type": "stream",
     "text": [
      "      33/50     0.476G      0.204          2        224: 100%|██████████| 1215/1215 [00:20<00:00, 58.72it/s]\n",
      "               classes   top1_acc   top5_acc: 100%|██████████| 161/161 [00:01<00:00, 88.42it/s]"
     ]
    },
    {
     "name": "stdout",
     "output_type": "stream",
     "text": [
      "                   all       0.93          1\n"
     ]
    },
    {
     "name": "stderr",
     "output_type": "stream",
     "text": [
      "\n"
     ]
    },
    {
     "name": "stdout",
     "output_type": "stream",
     "text": [
      "\n",
      "      Epoch    GPU_mem       loss  Instances       Size\n"
     ]
    },
    {
     "name": "stderr",
     "output_type": "stream",
     "text": [
      "      34/50     0.461G     0.1995          2        224: 100%|██████████| 1215/1215 [00:21<00:00, 57.85it/s]\n",
      "               classes   top1_acc   top5_acc: 100%|██████████| 161/161 [00:01<00:00, 88.75it/s]"
     ]
    },
    {
     "name": "stdout",
     "output_type": "stream",
     "text": [
      "                   all      0.929          1\n"
     ]
    },
    {
     "name": "stderr",
     "output_type": "stream",
     "text": [
      "\n"
     ]
    },
    {
     "name": "stdout",
     "output_type": "stream",
     "text": [
      "\n",
      "      Epoch    GPU_mem       loss  Instances       Size\n"
     ]
    },
    {
     "name": "stderr",
     "output_type": "stream",
     "text": [
      "      35/50      0.47G     0.1909          2        224: 100%|██████████| 1215/1215 [00:21<00:00, 57.75it/s]\n",
      "               classes   top1_acc   top5_acc: 100%|██████████| 161/161 [00:01<00:00, 88.97it/s]"
     ]
    },
    {
     "name": "stdout",
     "output_type": "stream",
     "text": [
      "                   all      0.932          1\n"
     ]
    },
    {
     "name": "stderr",
     "output_type": "stream",
     "text": [
      "\n"
     ]
    },
    {
     "name": "stdout",
     "output_type": "stream",
     "text": [
      "\n",
      "      Epoch    GPU_mem       loss  Instances       Size\n"
     ]
    },
    {
     "name": "stderr",
     "output_type": "stream",
     "text": [
      "      36/50     0.472G     0.1877          2        224: 100%|██████████| 1215/1215 [00:20<00:00, 58.85it/s]\n",
      "               classes   top1_acc   top5_acc: 100%|██████████| 161/161 [00:01<00:00, 89.48it/s]"
     ]
    },
    {
     "name": "stdout",
     "output_type": "stream",
     "text": [
      "                   all      0.933          1\n"
     ]
    },
    {
     "name": "stderr",
     "output_type": "stream",
     "text": [
      "\n"
     ]
    },
    {
     "name": "stdout",
     "output_type": "stream",
     "text": [
      "\n",
      "      Epoch    GPU_mem       loss  Instances       Size\n"
     ]
    },
    {
     "name": "stderr",
     "output_type": "stream",
     "text": [
      "      37/50     0.476G     0.1761          2        224: 100%|██████████| 1215/1215 [00:21<00:00, 57.31it/s]\n",
      "               classes   top1_acc   top5_acc: 100%|██████████| 161/161 [00:01<00:00, 89.69it/s]"
     ]
    },
    {
     "name": "stdout",
     "output_type": "stream",
     "text": [
      "                   all      0.934          1\n"
     ]
    },
    {
     "name": "stderr",
     "output_type": "stream",
     "text": [
      "\n"
     ]
    },
    {
     "name": "stdout",
     "output_type": "stream",
     "text": [
      "\n",
      "      Epoch    GPU_mem       loss  Instances       Size\n"
     ]
    },
    {
     "name": "stderr",
     "output_type": "stream",
     "text": [
      "      38/50     0.461G     0.1721          2        224: 100%|██████████| 1215/1215 [00:20<00:00, 58.51it/s]\n",
      "               classes   top1_acc   top5_acc: 100%|██████████| 161/161 [00:01<00:00, 87.24it/s]"
     ]
    },
    {
     "name": "stdout",
     "output_type": "stream",
     "text": [
      "                   all      0.935          1\n"
     ]
    },
    {
     "name": "stderr",
     "output_type": "stream",
     "text": [
      "\n"
     ]
    },
    {
     "name": "stdout",
     "output_type": "stream",
     "text": [
      "\n",
      "      Epoch    GPU_mem       loss  Instances       Size\n"
     ]
    },
    {
     "name": "stderr",
     "output_type": "stream",
     "text": [
      "      39/50      0.47G      0.168          2        224: 100%|██████████| 1215/1215 [00:20<00:00, 58.59it/s]\n",
      "               classes   top1_acc   top5_acc: 100%|██████████| 161/161 [00:01<00:00, 88.59it/s]"
     ]
    },
    {
     "name": "stdout",
     "output_type": "stream",
     "text": [
      "                   all      0.936          1\n"
     ]
    },
    {
     "name": "stderr",
     "output_type": "stream",
     "text": [
      "\n"
     ]
    },
    {
     "name": "stdout",
     "output_type": "stream",
     "text": [
      "\n",
      "      Epoch    GPU_mem       loss  Instances       Size\n"
     ]
    },
    {
     "name": "stderr",
     "output_type": "stream",
     "text": [
      "      40/50     0.472G     0.1575          2        224: 100%|██████████| 1215/1215 [00:20<00:00, 58.01it/s]\n",
      "               classes   top1_acc   top5_acc: 100%|██████████| 161/161 [00:01<00:00, 88.11it/s]"
     ]
    },
    {
     "name": "stdout",
     "output_type": "stream",
     "text": [
      "                   all      0.935          1\n"
     ]
    },
    {
     "name": "stderr",
     "output_type": "stream",
     "text": [
      "\n"
     ]
    },
    {
     "name": "stdout",
     "output_type": "stream",
     "text": [
      "\n",
      "      Epoch    GPU_mem       loss  Instances       Size\n"
     ]
    },
    {
     "name": "stderr",
     "output_type": "stream",
     "text": [
      "      41/50     0.476G     0.1599          2        224: 100%|██████████| 1215/1215 [00:21<00:00, 57.09it/s]\n",
      "               classes   top1_acc   top5_acc: 100%|██████████| 161/161 [00:01<00:00, 90.56it/s]"
     ]
    },
    {
     "name": "stdout",
     "output_type": "stream",
     "text": [
      "                   all      0.934          1\n"
     ]
    },
    {
     "name": "stderr",
     "output_type": "stream",
     "text": [
      "\n"
     ]
    },
    {
     "name": "stdout",
     "output_type": "stream",
     "text": [
      "\n",
      "      Epoch    GPU_mem       loss  Instances       Size\n"
     ]
    },
    {
     "name": "stderr",
     "output_type": "stream",
     "text": [
      "      42/50     0.461G     0.1477          2        224: 100%|██████████| 1215/1215 [00:20<00:00, 59.36it/s]\n",
      "               classes   top1_acc   top5_acc: 100%|██████████| 161/161 [00:01<00:00, 88.24it/s]"
     ]
    },
    {
     "name": "stdout",
     "output_type": "stream",
     "text": [
      "                   all      0.934          1\n"
     ]
    },
    {
     "name": "stderr",
     "output_type": "stream",
     "text": [
      "\n"
     ]
    },
    {
     "name": "stdout",
     "output_type": "stream",
     "text": [
      "\n",
      "      Epoch    GPU_mem       loss  Instances       Size\n"
     ]
    },
    {
     "name": "stderr",
     "output_type": "stream",
     "text": [
      "      43/50      0.47G     0.1425          2        224: 100%|██████████| 1215/1215 [00:20<00:00, 58.32it/s]\n",
      "               classes   top1_acc   top5_acc: 100%|██████████| 161/161 [00:01<00:00, 86.98it/s]"
     ]
    },
    {
     "name": "stdout",
     "output_type": "stream",
     "text": [
      "                   all      0.934          1\n"
     ]
    },
    {
     "name": "stderr",
     "output_type": "stream",
     "text": [
      "\n"
     ]
    },
    {
     "name": "stdout",
     "output_type": "stream",
     "text": [
      "\n",
      "      Epoch    GPU_mem       loss  Instances       Size\n"
     ]
    },
    {
     "name": "stderr",
     "output_type": "stream",
     "text": [
      "      44/50     0.472G     0.1362          2        224: 100%|██████████| 1215/1215 [00:20<00:00, 58.58it/s]\n",
      "               classes   top1_acc   top5_acc: 100%|██████████| 161/161 [00:01<00:00, 89.26it/s]"
     ]
    },
    {
     "name": "stdout",
     "output_type": "stream",
     "text": [
      "                   all      0.933          1\n"
     ]
    },
    {
     "name": "stderr",
     "output_type": "stream",
     "text": [
      "\n"
     ]
    },
    {
     "name": "stdout",
     "output_type": "stream",
     "text": [
      "\n",
      "      Epoch    GPU_mem       loss  Instances       Size\n"
     ]
    },
    {
     "name": "stderr",
     "output_type": "stream",
     "text": [
      "      45/50     0.476G     0.1313          2        224: 100%|██████████| 1215/1215 [00:20<00:00, 58.91it/s]\n",
      "               classes   top1_acc   top5_acc: 100%|██████████| 161/161 [00:01<00:00, 87.03it/s]"
     ]
    },
    {
     "name": "stdout",
     "output_type": "stream",
     "text": [
      "                   all      0.934          1\n"
     ]
    },
    {
     "name": "stderr",
     "output_type": "stream",
     "text": [
      "\n"
     ]
    },
    {
     "name": "stdout",
     "output_type": "stream",
     "text": [
      "\n",
      "      Epoch    GPU_mem       loss  Instances       Size\n"
     ]
    },
    {
     "name": "stderr",
     "output_type": "stream",
     "text": [
      "      46/50     0.461G     0.1298          2        224: 100%|██████████| 1215/1215 [00:20<00:00, 57.99it/s]\n",
      "               classes   top1_acc   top5_acc: 100%|██████████| 161/161 [00:01<00:00, 88.54it/s]"
     ]
    },
    {
     "name": "stdout",
     "output_type": "stream",
     "text": [
      "                   all      0.933          1\n"
     ]
    },
    {
     "name": "stderr",
     "output_type": "stream",
     "text": [
      "\n"
     ]
    },
    {
     "name": "stdout",
     "output_type": "stream",
     "text": [
      "\n",
      "      Epoch    GPU_mem       loss  Instances       Size\n"
     ]
    },
    {
     "name": "stderr",
     "output_type": "stream",
     "text": [
      "      47/50      0.47G      0.118          2        224: 100%|██████████| 1215/1215 [00:20<00:00, 58.87it/s]\n",
      "               classes   top1_acc   top5_acc: 100%|██████████| 161/161 [00:01<00:00, 89.76it/s]"
     ]
    },
    {
     "name": "stdout",
     "output_type": "stream",
     "text": [
      "                   all      0.935          1\n"
     ]
    },
    {
     "name": "stderr",
     "output_type": "stream",
     "text": [
      "\n"
     ]
    },
    {
     "name": "stdout",
     "output_type": "stream",
     "text": [
      "\n",
      "      Epoch    GPU_mem       loss  Instances       Size\n"
     ]
    },
    {
     "name": "stderr",
     "output_type": "stream",
     "text": [
      "      48/50     0.472G     0.1163          2        224: 100%|██████████| 1215/1215 [00:20<00:00, 58.43it/s]\n",
      "               classes   top1_acc   top5_acc: 100%|██████████| 161/161 [00:01<00:00, 87.08it/s]"
     ]
    },
    {
     "name": "stdout",
     "output_type": "stream",
     "text": [
      "                   all      0.934          1\n"
     ]
    },
    {
     "name": "stderr",
     "output_type": "stream",
     "text": [
      "\n"
     ]
    },
    {
     "name": "stdout",
     "output_type": "stream",
     "text": [
      "\n",
      "      Epoch    GPU_mem       loss  Instances       Size\n"
     ]
    },
    {
     "name": "stderr",
     "output_type": "stream",
     "text": [
      "      49/50     0.476G     0.1136          2        224: 100%|██████████| 1215/1215 [00:20<00:00, 58.04it/s]\n",
      "               classes   top1_acc   top5_acc: 100%|██████████| 161/161 [00:01<00:00, 88.83it/s]"
     ]
    },
    {
     "name": "stdout",
     "output_type": "stream",
     "text": [
      "                   all      0.934          1\n"
     ]
    },
    {
     "name": "stderr",
     "output_type": "stream",
     "text": [
      "\n"
     ]
    },
    {
     "name": "stdout",
     "output_type": "stream",
     "text": [
      "\n",
      "      Epoch    GPU_mem       loss  Instances       Size\n"
     ]
    },
    {
     "name": "stderr",
     "output_type": "stream",
     "text": [
      "      50/50     0.461G     0.1102          2        224: 100%|██████████| 1215/1215 [00:20<00:00, 58.27it/s]\n",
      "               classes   top1_acc   top5_acc: 100%|██████████| 161/161 [00:01<00:00, 86.98it/s]"
     ]
    },
    {
     "name": "stdout",
     "output_type": "stream",
     "text": [
      "                   all      0.933          1\n"
     ]
    },
    {
     "name": "stderr",
     "output_type": "stream",
     "text": [
      "\n"
     ]
    },
    {
     "name": "stdout",
     "output_type": "stream",
     "text": [
      "\n",
      "50 epochs completed in 0.325 hours.\n",
      "Optimizer stripped from runs\\classify\\train\\weights\\last.pt, 10.3MB\n",
      "Optimizer stripped from runs\\classify\\train\\weights\\best.pt, 10.3MB\n",
      "\n",
      "Validating runs\\classify\\train\\weights\\best.pt...\n",
      "Ultralytics 8.3.68  Python-3.9.21 torch-2.5.1+cu124 CUDA:0 (NVIDIA GeForce RTX 4060 Ti, 8188MiB)\n",
      "YOLOv8s-cls summary (fused): 73 layers, 5,084,167 parameters, 0 gradients, 12.5 GFLOPs\n",
      "\u001b[34m\u001b[1mtrain:\u001b[0m C:\\Users\\Guille\\Documents\\TFG\\datasetHoja\\train... found 19426 images in 7 classes  \n",
      "\u001b[34m\u001b[1mval:\u001b[0m C:\\Users\\Guille\\Documents\\TFG\\datasetHoja\\val... found 5125 images in 7 classes  \n",
      "\u001b[34m\u001b[1mtest:\u001b[0m None...\n"
     ]
    },
    {
     "name": "stderr",
     "output_type": "stream",
     "text": [
      "               classes   top1_acc   top5_acc: 100%|██████████| 161/161 [00:01<00:00, 88.11it/s]\n"
     ]
    },
    {
     "name": "stdout",
     "output_type": "stream",
     "text": [
      "                   all      0.936          1\n",
      "Speed: 0.1ms preprocess, 0.1ms inference, 0.0ms loss, 0.0ms postprocess per image\n",
      "Results saved to \u001b[1mruns\\classify\\train\u001b[0m\n"
     ]
    },
    {
     "data": {
      "text/plain": [
       "ultralytics.utils.metrics.ClassifyMetrics object with attributes:\n",
       "\n",
       "confusion_matrix: <ultralytics.utils.metrics.ConfusionMatrix object at 0x000002042A99E100>\n",
       "curves: []\n",
       "curves_results: []\n",
       "fitness: 0.967804878950119\n",
       "keys: ['metrics/accuracy_top1', 'metrics/accuracy_top5']\n",
       "results_dict: {'metrics/accuracy_top1': 0.935609757900238, 'metrics/accuracy_top5': 1.0, 'fitness': 0.967804878950119}\n",
       "save_dir: WindowsPath('runs/classify/train')\n",
       "speed: {'preprocess': 0.06636377660239615, 'inference': 0.1481702851086128, 'loss': 0.0, 'postprocess': 0.001170600332864901}\n",
       "task: 'classify'\n",
       "top1: 0.935609757900238\n",
       "top5: 1.0"
      ]
     },
     "execution_count": 7,
     "metadata": {},
     "output_type": "execute_result"
    }
   ],
   "source": [
    "model.train(data='../datasetHoja', epochs=50, imgsz=224, val=True, plots=True)"
   ]
  },
  {
   "cell_type": "code",
   "execution_count": 8,
   "id": "554f1454-b2a2-430f-9acc-8e8d4e06cca0",
   "metadata": {
    "scrolled": true
   },
   "outputs": [
    {
     "name": "stdout",
     "output_type": "stream",
     "text": [
      "Ultralytics 8.3.68  Python-3.9.21 torch-2.5.1+cu124 CUDA:0 (NVIDIA GeForce RTX 4060 Ti, 8188MiB)\n",
      "YOLOv8s-cls summary (fused): 73 layers, 5,084,167 parameters, 0 gradients, 12.5 GFLOPs\n",
      "\u001b[34m\u001b[1mtrain:\u001b[0m C:\\Users\\Guille\\Documents\\TFG\\datasetHoja\\train... found 19426 images in 7 classes  \n",
      "\u001b[34m\u001b[1mval:\u001b[0m C:\\Users\\Guille\\Documents\\TFG\\datasetHoja\\val... found 5125 images in 7 classes  \n",
      "\u001b[34m\u001b[1mtest:\u001b[0m None...\n"
     ]
    },
    {
     "name": "stderr",
     "output_type": "stream",
     "text": [
      "\u001b[34m\u001b[1mval: \u001b[0mScanning C:\\Users\\Guille\\Documents\\TFG\\datasetHoja\\val... 5125 images, 0 corrupt: 100%|██████████| 5125/5125 [00:0\u001b[0m\n",
      "               classes   top1_acc   top5_acc: 100%|██████████| 321/321 [00:02<00:00, 147.69it/s]\n"
     ]
    },
    {
     "name": "stdout",
     "output_type": "stream",
     "text": [
      "                   all      0.936          1\n",
      "Speed: 0.1ms preprocess, 0.3ms inference, 0.0ms loss, 0.0ms postprocess per image\n",
      "Results saved to \u001b[1mruns\\classify\\val\u001b[0m\n"
     ]
    }
   ],
   "source": [
    "from ultralytics import YOLO\n",
    "\n",
    "# Cargar el modelo\n",
    "model = YOLO('runs/classify/train/weights/best.pt')\n",
    "\n",
    "# Realizar la validación\n",
    "results = model.val()"
   ]
  },
  {
   "cell_type": "code",
   "execution_count": 12,
   "id": "0138fc52-56fc-42ef-8469-a02bd42c2a7f",
   "metadata": {
    "scrolled": true
   },
   "outputs": [
    {
     "name": "stdout",
     "output_type": "stream",
     "text": [
      "\n",
      "image 1/254 C:\\Users\\Guille\\Documents\\TFG\\yolov8\\..\\datasetUnificado\\test\\images\\000010.jpg: 384x640 10 maizes, 10 weeds, 4.5ms\n",
      "image 2/254 C:\\Users\\Guille\\Documents\\TFG\\yolov8\\..\\datasetUnificado\\test\\images\\000023.jpg: 384x640 6 maizes, 9 weeds, 6.6ms\n",
      "image 3/254 C:\\Users\\Guille\\Documents\\TFG\\yolov8\\..\\datasetUnificado\\test\\images\\000029.jpg: 384x640 6 maizes, 8 weeds, 4.0ms\n",
      "image 4/254 C:\\Users\\Guille\\Documents\\TFG\\yolov8\\..\\datasetUnificado\\test\\images\\000031.jpg: 384x640 6 maizes, 8 weeds, 4.1ms\n",
      "image 5/254 C:\\Users\\Guille\\Documents\\TFG\\yolov8\\..\\datasetUnificado\\test\\images\\000043.jpg: 384x640 10 maizes, 8 weeds, 4.0ms\n",
      "image 6/254 C:\\Users\\Guille\\Documents\\TFG\\yolov8\\..\\datasetUnificado\\test\\images\\000044.jpg: 384x640 10 maizes, 8 weeds, 4.0ms\n",
      "image 7/254 C:\\Users\\Guille\\Documents\\TFG\\yolov8\\..\\datasetUnificado\\test\\images\\000049.jpg: 384x640 11 maizes, 13 weeds, 7.0ms\n",
      "image 8/254 C:\\Users\\Guille\\Documents\\TFG\\yolov8\\..\\datasetUnificado\\test\\images\\000051.jpg: 384x640 10 maizes, 11 weeds, 4.1ms\n",
      "image 9/254 C:\\Users\\Guille\\Documents\\TFG\\yolov8\\..\\datasetUnificado\\test\\images\\000054.jpg: 384x640 9 maizes, 13 weeds, 4.5ms\n",
      "image 10/254 C:\\Users\\Guille\\Documents\\TFG\\yolov8\\..\\datasetUnificado\\test\\images\\000056.jpg: 384x640 9 maizes, 6 weeds, 5.7ms\n",
      "image 11/254 C:\\Users\\Guille\\Documents\\TFG\\yolov8\\..\\datasetUnificado\\test\\images\\000058.jpg: 384x640 10 maizes, 10 weeds, 5.0ms\n",
      "image 12/254 C:\\Users\\Guille\\Documents\\TFG\\yolov8\\..\\datasetUnificado\\test\\images\\000063.jpg: 384x640 8 maizes, 9 weeds, 5.0ms\n",
      "image 13/254 C:\\Users\\Guille\\Documents\\TFG\\yolov8\\..\\datasetUnificado\\test\\images\\000065.jpg: 384x640 8 maizes, 10 weeds, 5.2ms\n",
      "image 14/254 C:\\Users\\Guille\\Documents\\TFG\\yolov8\\..\\datasetUnificado\\test\\images\\000070.jpg: 384x640 8 maizes, 10 weeds, 4.1ms\n",
      "image 15/254 C:\\Users\\Guille\\Documents\\TFG\\yolov8\\..\\datasetUnificado\\test\\images\\000076.jpg: 384x640 7 maizes, 11 weeds, 5.0ms\n",
      "image 16/254 C:\\Users\\Guille\\Documents\\TFG\\yolov8\\..\\datasetUnificado\\test\\images\\000078.jpg: 384x640 7 maizes, 12 weeds, 7.8ms\n",
      "image 17/254 C:\\Users\\Guille\\Documents\\TFG\\yolov8\\..\\datasetUnificado\\test\\images\\000081.jpg: 384x640 7 maizes, 11 weeds, 4.0ms\n",
      "image 18/254 C:\\Users\\Guille\\Documents\\TFG\\yolov8\\..\\datasetUnificado\\test\\images\\000086.jpg: 384x640 7 maizes, 8 weeds, 4.1ms\n",
      "image 19/254 C:\\Users\\Guille\\Documents\\TFG\\yolov8\\..\\datasetUnificado\\test\\images\\000096.jpg: 384x640 6 maizes, 7 weeds, 3.6ms\n",
      "image 20/254 C:\\Users\\Guille\\Documents\\TFG\\yolov8\\..\\datasetUnificado\\test\\images\\000101.jpg: 384x640 6 maizes, 8 weeds, 3.5ms\n",
      "image 21/254 C:\\Users\\Guille\\Documents\\TFG\\yolov8\\..\\datasetUnificado\\test\\images\\000107.jpg: 384x640 6 maizes, 9 weeds, 6.6ms\n",
      "image 22/254 C:\\Users\\Guille\\Documents\\TFG\\yolov8\\..\\datasetUnificado\\test\\images\\000109.jpg: 384x640 6 maizes, 8 weeds, 4.2ms\n",
      "image 23/254 C:\\Users\\Guille\\Documents\\TFG\\yolov8\\..\\datasetUnificado\\test\\images\\000113.jpg: 384x640 6 maizes, 10 weeds, 4.0ms\n",
      "image 24/254 C:\\Users\\Guille\\Documents\\TFG\\yolov8\\..\\datasetUnificado\\test\\images\\000123.jpg: 384x640 7 maizes, 9 weeds, 4.4ms\n",
      "image 25/254 C:\\Users\\Guille\\Documents\\TFG\\yolov8\\..\\datasetUnificado\\test\\images\\000128.jpg: 384x640 6 maizes, 7 weeds, 4.2ms\n",
      "image 26/254 C:\\Users\\Guille\\Documents\\TFG\\yolov8\\..\\datasetUnificado\\test\\images\\000135.jpg: 384x640 8 maizes, 8 weeds, 4.6ms\n",
      "image 27/254 C:\\Users\\Guille\\Documents\\TFG\\yolov8\\..\\datasetUnificado\\test\\images\\000140.jpg: 384x640 8 maizes, 7 weeds, 6.3ms\n",
      "image 28/254 C:\\Users\\Guille\\Documents\\TFG\\yolov8\\..\\datasetUnificado\\test\\images\\000147.jpg: 384x640 7 maizes, 7 weeds, 4.0ms\n",
      "image 29/254 C:\\Users\\Guille\\Documents\\TFG\\yolov8\\..\\datasetUnificado\\test\\images\\000155.jpg: 384x640 7 maizes, 7 weeds, 4.3ms\n",
      "image 30/254 C:\\Users\\Guille\\Documents\\TFG\\yolov8\\..\\datasetUnificado\\test\\images\\000158.jpg: 384x640 7 maizes, 8 weeds, 3.6ms\n",
      "image 31/254 C:\\Users\\Guille\\Documents\\TFG\\yolov8\\..\\datasetUnificado\\test\\images\\000163.jpg: 384x640 8 maizes, 9 weeds, 4.5ms\n",
      "image 32/254 C:\\Users\\Guille\\Documents\\TFG\\yolov8\\..\\datasetUnificado\\test\\images\\000168.jpg: 384x640 8 maizes, 9 weeds, 4.0ms\n",
      "image 33/254 C:\\Users\\Guille\\Documents\\TFG\\yolov8\\..\\datasetUnificado\\test\\images\\000170.jpg: 384x640 8 maizes, 9 weeds, 4.1ms\n",
      "image 34/254 C:\\Users\\Guille\\Documents\\TFG\\yolov8\\..\\datasetUnificado\\test\\images\\000174.jpg: 384x640 7 maizes, 10 weeds, 4.0ms\n",
      "image 35/254 C:\\Users\\Guille\\Documents\\TFG\\yolov8\\..\\datasetUnificado\\test\\images\\000184.jpg: 384x640 7 maizes, 10 weeds, 5.0ms\n",
      "image 36/254 C:\\Users\\Guille\\Documents\\TFG\\yolov8\\..\\datasetUnificado\\test\\images\\000192.jpg: 384x640 6 maizes, 9 weeds, 7.5ms\n",
      "image 37/254 C:\\Users\\Guille\\Documents\\TFG\\yolov8\\..\\datasetUnificado\\test\\images\\000196.jpg: 384x640 6 maizes, 9 weeds, 4.9ms\n",
      "image 38/254 C:\\Users\\Guille\\Documents\\TFG\\yolov8\\..\\datasetUnificado\\test\\images\\000198.jpg: 384x640 6 maizes, 9 weeds, 5.1ms\n",
      "image 39/254 C:\\Users\\Guille\\Documents\\TFG\\yolov8\\..\\datasetUnificado\\test\\images\\000199.jpg: 384x640 6 maizes, 9 weeds, 6.6ms\n",
      "image 40/254 C:\\Users\\Guille\\Documents\\TFG\\yolov8\\..\\datasetUnificado\\test\\images\\000208.jpg: 384x640 7 maizes, 10 weeds, 7.5ms\n",
      "image 41/254 C:\\Users\\Guille\\Documents\\TFG\\yolov8\\..\\datasetUnificado\\test\\images\\000209.jpg: 384x640 7 maizes, 9 weeds, 4.2ms\n",
      "image 42/254 C:\\Users\\Guille\\Documents\\TFG\\yolov8\\..\\datasetUnificado\\test\\images\\000210.jpg: 384x640 7 maizes, 9 weeds, 4.7ms\n",
      "image 43/254 C:\\Users\\Guille\\Documents\\TFG\\yolov8\\..\\datasetUnificado\\test\\images\\000218.jpg: 384x640 6 maizes, 6 weeds, 5.1ms\n",
      "image 44/254 C:\\Users\\Guille\\Documents\\TFG\\yolov8\\..\\datasetUnificado\\test\\images\\000220.jpg: 384x640 7 maizes, 7 weeds, 5.1ms\n",
      "image 45/254 C:\\Users\\Guille\\Documents\\TFG\\yolov8\\..\\datasetUnificado\\test\\images\\000221.jpg: 384x640 7 maizes, 5 weeds, 5.0ms\n",
      "image 46/254 C:\\Users\\Guille\\Documents\\TFG\\yolov8\\..\\datasetUnificado\\test\\images\\000231.jpg: 384x640 7 maizes, 5 weeds, 6.0ms\n",
      "image 47/254 C:\\Users\\Guille\\Documents\\TFG\\yolov8\\..\\datasetUnificado\\test\\images\\000233.jpg: 384x640 6 maizes, 4 weeds, 4.6ms\n",
      "image 48/254 C:\\Users\\Guille\\Documents\\TFG\\yolov8\\..\\datasetUnificado\\test\\images\\000240.jpg: 384x640 6 maizes, 6 weeds, 5.5ms\n",
      "image 49/254 C:\\Users\\Guille\\Documents\\TFG\\yolov8\\..\\datasetUnificado\\test\\images\\000243.jpg: 384x640 6 maizes, 6 weeds, 8.6ms\n",
      "image 50/254 C:\\Users\\Guille\\Documents\\TFG\\yolov8\\..\\datasetUnificado\\test\\images\\000244.jpg: 384x640 6 maizes, 8 weeds, 6.6ms\n",
      "image 51/254 C:\\Users\\Guille\\Documents\\TFG\\yolov8\\..\\datasetUnificado\\test\\images\\000247.jpg: 384x640 7 maizes, 8 weeds, 5.0ms\n",
      "image 52/254 C:\\Users\\Guille\\Documents\\TFG\\yolov8\\..\\datasetUnificado\\test\\images\\000254.jpg: 384x640 8 maizes, 10 weeds, 4.7ms\n",
      "image 53/254 C:\\Users\\Guille\\Documents\\TFG\\yolov8\\..\\datasetUnificado\\test\\images\\000259.jpg: 384x640 8 maizes, 10 weeds, 4.6ms\n",
      "image 54/254 C:\\Users\\Guille\\Documents\\TFG\\yolov8\\..\\datasetUnificado\\test\\images\\000261.jpg: 384x640 8 maizes, 9 weeds, 6.8ms\n",
      "image 55/254 C:\\Users\\Guille\\Documents\\TFG\\yolov8\\..\\datasetUnificado\\test\\images\\000270.jpg: 384x640 8 maizes, 7 weeds, 5.6ms\n",
      "image 56/254 C:\\Users\\Guille\\Documents\\TFG\\yolov8\\..\\datasetUnificado\\test\\images\\000282.jpg: 384x640 6 maizes, 4 weeds, 5.6ms\n",
      "image 57/254 C:\\Users\\Guille\\Documents\\TFG\\yolov8\\..\\datasetUnificado\\test\\images\\000286.jpg: 384x640 4 maizes, 3 weeds, 6.1ms\n",
      "image 58/254 C:\\Users\\Guille\\Documents\\TFG\\yolov8\\..\\datasetUnificado\\test\\images\\000289.jpg: 384x640 4 maizes, 3 weeds, 6.0ms\n",
      "image 59/254 C:\\Users\\Guille\\Documents\\TFG\\yolov8\\..\\datasetUnificado\\test\\images\\000290.jpg: 384x640 4 maizes, 3 weeds, 5.5ms\n",
      "image 60/254 C:\\Users\\Guille\\Documents\\TFG\\yolov8\\..\\datasetUnificado\\test\\images\\000294.jpg: 384x640 4 maizes, 3 weeds, 5.1ms\n",
      "image 61/254 C:\\Users\\Guille\\Documents\\TFG\\yolov8\\..\\datasetUnificado\\test\\images\\000296.jpg: 384x640 4 maizes, 4 weeds, 6.0ms\n",
      "image 62/254 C:\\Users\\Guille\\Documents\\TFG\\yolov8\\..\\datasetUnificado\\test\\images\\000297.jpg: 384x640 4 maizes, 4 weeds, 7.2ms\n",
      "image 63/254 C:\\Users\\Guille\\Documents\\TFG\\yolov8\\..\\datasetUnificado\\test\\images\\000298.jpg: 384x640 4 maizes, 4 weeds, 8.1ms\n",
      "image 64/254 C:\\Users\\Guille\\Documents\\TFG\\yolov8\\..\\datasetUnificado\\test\\images\\000303.jpg: 384x640 4 maizes, 5 weeds, 6.1ms\n",
      "image 65/254 C:\\Users\\Guille\\Documents\\TFG\\yolov8\\..\\datasetUnificado\\test\\images\\000306.jpg: 384x640 4 maizes, 6 weeds, 6.1ms\n",
      "image 66/254 C:\\Users\\Guille\\Documents\\TFG\\yolov8\\..\\datasetUnificado\\test\\images\\000308.jpg: 384x640 4 maizes, 6 weeds, 6.1ms\n",
      "image 67/254 C:\\Users\\Guille\\Documents\\TFG\\yolov8\\..\\datasetUnificado\\test\\images\\000309.jpg: 384x640 4 maizes, 4 weeds, 5.0ms\n",
      "image 68/254 C:\\Users\\Guille\\Documents\\TFG\\yolov8\\..\\datasetUnificado\\test\\images\\000312.jpg: 384x640 3 maizes, 5 weeds, 6.0ms\n",
      "image 69/254 C:\\Users\\Guille\\Documents\\TFG\\yolov8\\..\\datasetUnificado\\test\\images\\000327.jpg: 384x640 3 maizes, 6 weeds, 6.0ms\n",
      "image 70/254 C:\\Users\\Guille\\Documents\\TFG\\yolov8\\..\\datasetUnificado\\test\\images\\000328.jpg: 384x640 3 maizes, 5 weeds, 6.1ms\n",
      "image 71/254 C:\\Users\\Guille\\Documents\\TFG\\yolov8\\..\\datasetUnificado\\test\\images\\000331.jpg: 384x640 5 maizes, 3 weeds, 6.1ms\n",
      "image 72/254 C:\\Users\\Guille\\Documents\\TFG\\yolov8\\..\\datasetUnificado\\test\\images\\000332.jpg: 384x640 4 maizes, 2 weeds, 6.0ms\n",
      "image 73/254 C:\\Users\\Guille\\Documents\\TFG\\yolov8\\..\\datasetUnificado\\test\\images\\000333.jpg: 384x640 4 maizes, 2 weeds, 5.2ms\n",
      "image 74/254 C:\\Users\\Guille\\Documents\\TFG\\yolov8\\..\\datasetUnificado\\test\\images\\000342.jpg: 384x640 7 maizes, 6 weeds, 7.1ms\n",
      "image 75/254 C:\\Users\\Guille\\Documents\\TFG\\yolov8\\..\\datasetUnificado\\test\\images\\000344.jpg: 384x640 7 maizes, 7 weeds, 5.1ms\n",
      "image 76/254 C:\\Users\\Guille\\Documents\\TFG\\yolov8\\..\\datasetUnificado\\test\\images\\000346.jpg: 384x640 7 maizes, 6 weeds, 6.2ms\n",
      "image 77/254 C:\\Users\\Guille\\Documents\\TFG\\yolov8\\..\\datasetUnificado\\test\\images\\000350.jpg: 384x640 6 maizes, 5 weeds, 6.5ms\n",
      "image 78/254 C:\\Users\\Guille\\Documents\\TFG\\yolov8\\..\\datasetUnificado\\test\\images\\000352.jpg: 384x640 6 maizes, 5 weeds, 8.1ms\n",
      "image 79/254 C:\\Users\\Guille\\Documents\\TFG\\yolov8\\..\\datasetUnificado\\test\\images\\000355.jpg: 384x640 6 maizes, 5 weeds, 6.2ms\n",
      "image 80/254 C:\\Users\\Guille\\Documents\\TFG\\yolov8\\..\\datasetUnificado\\test\\images\\000363.jpg: 384x640 6 maizes, 7 weeds, 5.0ms\n",
      "image 81/254 C:\\Users\\Guille\\Documents\\TFG\\yolov8\\..\\datasetUnificado\\test\\images\\000367.jpg: 384x640 9 maizes, 8 weeds, 6.6ms\n",
      "image 82/254 C:\\Users\\Guille\\Documents\\TFG\\yolov8\\..\\datasetUnificado\\test\\images\\000371.jpg: 384x640 6 maizes, 8 weeds, 6.0ms\n",
      "image 83/254 C:\\Users\\Guille\\Documents\\TFG\\yolov8\\..\\datasetUnificado\\test\\images\\000374.jpg: 384x640 6 maizes, 6 weeds, 7.6ms\n",
      "image 84/254 C:\\Users\\Guille\\Documents\\TFG\\yolov8\\..\\datasetUnificado\\test\\images\\000381.jpg: 384x640 6 maizes, 8 weeds, 6.1ms\n",
      "image 85/254 C:\\Users\\Guille\\Documents\\TFG\\yolov8\\..\\datasetUnificado\\test\\images\\000382.jpg: 384x640 6 maizes, 10 weeds, 7.0ms\n",
      "image 86/254 C:\\Users\\Guille\\Documents\\TFG\\yolov8\\..\\datasetUnificado\\test\\images\\000390.jpg: 384x640 6 maizes, 5 weeds, 7.1ms\n",
      "image 87/254 C:\\Users\\Guille\\Documents\\TFG\\yolov8\\..\\datasetUnificado\\test\\images\\000405.jpg: 384x640 6 maizes, 8 weeds, 8.1ms\n",
      "image 88/254 C:\\Users\\Guille\\Documents\\TFG\\yolov8\\..\\datasetUnificado\\test\\images\\000409.jpg: 384x640 9 maizes, 9 weeds, 6.5ms\n",
      "image 89/254 C:\\Users\\Guille\\Documents\\TFG\\yolov8\\..\\datasetUnificado\\test\\images\\000411.jpg: 384x640 9 maizes, 8 weeds, 6.6ms\n",
      "image 90/254 C:\\Users\\Guille\\Documents\\TFG\\yolov8\\..\\datasetUnificado\\test\\images\\000413.jpg: 384x640 8 maizes, 9 weeds, 6.6ms\n",
      "image 91/254 C:\\Users\\Guille\\Documents\\TFG\\yolov8\\..\\datasetUnificado\\test\\images\\000415.jpg: 384x640 7 maizes, 12 weeds, 7.1ms\n",
      "image 92/254 C:\\Users\\Guille\\Documents\\TFG\\yolov8\\..\\datasetUnificado\\test\\images\\000422.jpg: 384x640 6 maizes, 7 weeds, 8.4ms\n",
      "image 93/254 C:\\Users\\Guille\\Documents\\TFG\\yolov8\\..\\datasetUnificado\\test\\images\\000424.jpg: 384x640 8 maizes, 7 weeds, 7.1ms\n",
      "image 94/254 C:\\Users\\Guille\\Documents\\TFG\\yolov8\\..\\datasetUnificado\\test\\images\\000427.jpg: 384x640 8 maizes, 9 weeds, 6.6ms\n",
      "image 95/254 C:\\Users\\Guille\\Documents\\TFG\\yolov8\\..\\datasetUnificado\\test\\images\\000435.jpg: 384x640 4 maizes, 3 weeds, 7.5ms\n",
      "image 96/254 C:\\Users\\Guille\\Documents\\TFG\\yolov8\\..\\datasetUnificado\\test\\images\\000442.jpg: 384x640 7 maizes, 2 weeds, 7.1ms\n",
      "image 97/254 C:\\Users\\Guille\\Documents\\TFG\\yolov8\\..\\datasetUnificado\\test\\images\\000447.jpg: 384x640 6 maizes, 5 weeds, 8.1ms\n",
      "image 98/254 C:\\Users\\Guille\\Documents\\TFG\\yolov8\\..\\datasetUnificado\\test\\images\\000453.jpg: 384x640 6 maizes, 9 weeds, 7.5ms\n",
      "image 99/254 C:\\Users\\Guille\\Documents\\TFG\\yolov8\\..\\datasetUnificado\\test\\images\\000462.jpg: 384x640 9 maizes, 8 weeds, 7.1ms\n",
      "image 100/254 C:\\Users\\Guille\\Documents\\TFG\\yolov8\\..\\datasetUnificado\\test\\images\\000464.jpg: 384x640 6 maizes, 8 weeds, 9.6ms\n",
      "image 101/254 C:\\Users\\Guille\\Documents\\TFG\\yolov8\\..\\datasetUnificado\\test\\images\\000471.jpg: 384x640 8 maizes, 9 weeds, 7.2ms\n",
      "image 102/254 C:\\Users\\Guille\\Documents\\TFG\\yolov8\\..\\datasetUnificado\\test\\images\\000481.jpg: 384x640 4 maizes, 3 weeds, 7.2ms\n",
      "image 103/254 C:\\Users\\Guille\\Documents\\TFG\\yolov8\\..\\datasetUnificado\\test\\images\\000485.jpg: 384x640 4 maizes, 5 weeds, 7.2ms\n",
      "image 104/254 C:\\Users\\Guille\\Documents\\TFG\\yolov8\\..\\datasetUnificado\\test\\images\\000486.jpg: 384x640 5 maizes, 4 weeds, 7.0ms\n",
      "image 105/254 C:\\Users\\Guille\\Documents\\TFG\\yolov8\\..\\datasetUnificado\\test\\images\\000490.jpg: 384x640 7 maizes, 5 weeds, 10.1ms\n",
      "image 106/254 C:\\Users\\Guille\\Documents\\TFG\\yolov8\\..\\datasetUnificado\\test\\images\\000493.jpg: 384x640 6 maizes, 7 weeds, 7.5ms\n",
      "image 107/254 C:\\Users\\Guille\\Documents\\TFG\\yolov8\\..\\datasetUnificado\\test\\images\\000513.jpg: 640x640 6 maizes, 3 weeds, 13.6ms\n",
      "image 108/254 C:\\Users\\Guille\\Documents\\TFG\\yolov8\\..\\datasetUnificado\\test\\images\\000522.jpg: 640x640 5 maizes, 11.9ms\n",
      "image 109/254 C:\\Users\\Guille\\Documents\\TFG\\yolov8\\..\\datasetUnificado\\test\\images\\000527.jpg: 640x640 10 maizes, 3 weeds, 10.7ms\n",
      "image 110/254 C:\\Users\\Guille\\Documents\\TFG\\yolov8\\..\\datasetUnificado\\test\\images\\000528.jpg: 640x640 3 maizes, 1 weed, 11.8ms\n",
      "image 111/254 C:\\Users\\Guille\\Documents\\TFG\\yolov8\\..\\datasetUnificado\\test\\images\\000529.jpg: 640x640 6 maizes, 1 weed, 20.7ms\n",
      "image 112/254 C:\\Users\\Guille\\Documents\\TFG\\yolov8\\..\\datasetUnificado\\test\\images\\000532.jpg: 640x640 5 maizes, 1 weed, 17.0ms\n",
      "image 113/254 C:\\Users\\Guille\\Documents\\TFG\\yolov8\\..\\datasetUnificado\\test\\images\\000533.jpg: 640x640 2 maizes, 17.2ms\n",
      "image 114/254 C:\\Users\\Guille\\Documents\\TFG\\yolov8\\..\\datasetUnificado\\test\\images\\000534.jpg: 640x640 5 maizes, 2 weeds, 19.1ms\n",
      "image 115/254 C:\\Users\\Guille\\Documents\\TFG\\yolov8\\..\\datasetUnificado\\test\\images\\000541.jpg: 640x640 3 maizes, 1 weed, 23.2ms\n",
      "image 116/254 C:\\Users\\Guille\\Documents\\TFG\\yolov8\\..\\datasetUnificado\\test\\images\\000543.jpg: 640x640 2 maizes, 2 weeds, 23.8ms\n",
      "image 117/254 C:\\Users\\Guille\\Documents\\TFG\\yolov8\\..\\datasetUnificado\\test\\images\\000548.jpg: 640x640 2 maizes, 1 weed, 20.8ms\n",
      "image 118/254 C:\\Users\\Guille\\Documents\\TFG\\yolov8\\..\\datasetUnificado\\test\\images\\000552.jpg: 640x640 2 maizes, 16.3ms\n",
      "image 119/254 C:\\Users\\Guille\\Documents\\TFG\\yolov8\\..\\datasetUnificado\\test\\images\\000554.jpg: 640x640 4 maizes, 13.7ms\n",
      "image 120/254 C:\\Users\\Guille\\Documents\\TFG\\yolov8\\..\\datasetUnificado\\test\\images\\000561.jpg: 640x640 6 maizes, 1 weed, 14.7ms\n",
      "image 121/254 C:\\Users\\Guille\\Documents\\TFG\\yolov8\\..\\datasetUnificado\\test\\images\\000573.jpg: 640x640 3 maizes, 1 weed, 21.6ms\n",
      "image 122/254 C:\\Users\\Guille\\Documents\\TFG\\yolov8\\..\\datasetUnificado\\test\\images\\000575.jpg: 640x640 5 maizes, 20.6ms\n",
      "image 123/254 C:\\Users\\Guille\\Documents\\TFG\\yolov8\\..\\datasetUnificado\\test\\images\\000579.jpg: 640x640 4 maizes, 1 weed, 15.1ms\n",
      "image 124/254 C:\\Users\\Guille\\Documents\\TFG\\yolov8\\..\\datasetUnificado\\test\\images\\000581.jpg: 640x640 4 maizes, 1 weed, 5.1ms\n",
      "image 125/254 C:\\Users\\Guille\\Documents\\TFG\\yolov8\\..\\datasetUnificado\\test\\images\\000583.jpg: 640x640 7 maizes, 3.0ms\n",
      "image 126/254 C:\\Users\\Guille\\Documents\\TFG\\yolov8\\..\\datasetUnificado\\test\\images\\000588.jpg: 640x640 3 maizes, 1 weed, 4.0ms\n",
      "image 127/254 C:\\Users\\Guille\\Documents\\TFG\\yolov8\\..\\datasetUnificado\\test\\images\\000591.jpg: 640x640 4 maizes, 4.1ms\n",
      "image 128/254 C:\\Users\\Guille\\Documents\\TFG\\yolov8\\..\\datasetUnificado\\test\\images\\000597.jpg: 640x640 2 maizes, 4.0ms\n",
      "image 129/254 C:\\Users\\Guille\\Documents\\TFG\\yolov8\\..\\datasetUnificado\\test\\images\\000599.jpg: 640x640 2 maizes, 1 weed, 3.6ms\n",
      "image 130/254 C:\\Users\\Guille\\Documents\\TFG\\yolov8\\..\\datasetUnificado\\test\\images\\000609.jpg: 640x640 4 maizes, 2 weeds, 4.0ms\n",
      "image 131/254 C:\\Users\\Guille\\Documents\\TFG\\yolov8\\..\\datasetUnificado\\test\\images\\000615.jpg: 640x640 6 maizes, 2 weeds, 4.1ms\n",
      "image 132/254 C:\\Users\\Guille\\Documents\\TFG\\yolov8\\..\\datasetUnificado\\test\\images\\000620.jpg: 640x640 3 maizes, 4.0ms\n",
      "image 133/254 C:\\Users\\Guille\\Documents\\TFG\\yolov8\\..\\datasetUnificado\\test\\images\\000621.jpg: 640x640 6 maizes, 2 weeds, 5.1ms\n",
      "image 134/254 C:\\Users\\Guille\\Documents\\TFG\\yolov8\\..\\datasetUnificado\\test\\images\\000624.jpg: 640x640 3 maizes, 4.0ms\n",
      "image 135/254 C:\\Users\\Guille\\Documents\\TFG\\yolov8\\..\\datasetUnificado\\test\\images\\000626.jpg: 640x640 1 maize, 4.1ms\n",
      "image 136/254 C:\\Users\\Guille\\Documents\\TFG\\yolov8\\..\\datasetUnificado\\test\\images\\000631.jpg: 640x640 3 maizes, 4.5ms\n",
      "image 137/254 C:\\Users\\Guille\\Documents\\TFG\\yolov8\\..\\datasetUnificado\\test\\images\\000634.jpg: 640x640 6 maizes, 1 weed, 10.7ms\n",
      "image 138/254 C:\\Users\\Guille\\Documents\\TFG\\yolov8\\..\\datasetUnificado\\test\\images\\000643.jpg: 640x640 12 maizes, 5 weeds, 5.1ms\n",
      "image 139/254 C:\\Users\\Guille\\Documents\\TFG\\yolov8\\..\\datasetUnificado\\test\\images\\000651.jpg: 640x640 11 maizes, 5 weeds, 5.0ms\n",
      "image 140/254 C:\\Users\\Guille\\Documents\\TFG\\yolov8\\..\\datasetUnificado\\test\\images\\000660.jpg: 640x640 3 maizes, 2 weeds, 5.0ms\n",
      "image 141/254 C:\\Users\\Guille\\Documents\\TFG\\yolov8\\..\\datasetUnificado\\test\\images\\000661.jpg: 640x640 4 maizes, 4.6ms\n",
      "image 142/254 C:\\Users\\Guille\\Documents\\TFG\\yolov8\\..\\datasetUnificado\\test\\images\\000676.jpg: 640x640 9 maizes, 4.0ms\n",
      "image 143/254 C:\\Users\\Guille\\Documents\\TFG\\yolov8\\..\\datasetUnificado\\test\\images\\000680.jpg: 640x640 5 maizes, 5.0ms\n",
      "image 144/254 C:\\Users\\Guille\\Documents\\TFG\\yolov8\\..\\datasetUnificado\\test\\images\\000693.jpg: 640x640 4 maizes, 4.6ms\n",
      "image 145/254 C:\\Users\\Guille\\Documents\\TFG\\yolov8\\..\\datasetUnificado\\test\\images\\000695.jpg: 640x640 4 maizes, 1 weed, 4.1ms\n",
      "image 146/254 C:\\Users\\Guille\\Documents\\TFG\\yolov8\\..\\datasetUnificado\\test\\images\\000704.jpg: 640x640 2 maizes, 4.0ms\n",
      "image 147/254 C:\\Users\\Guille\\Documents\\TFG\\yolov8\\..\\datasetUnificado\\test\\images\\000706.jpg: 640x640 3 maizes, 4.6ms\n",
      "image 148/254 C:\\Users\\Guille\\Documents\\TFG\\yolov8\\..\\datasetUnificado\\test\\images\\000710.jpg: 640x640 4 maizes, 2 weeds, 4.1ms\n",
      "image 149/254 C:\\Users\\Guille\\Documents\\TFG\\yolov8\\..\\datasetUnificado\\test\\images\\000713.jpg: 640x640 3 maizes, 1 weed, 5.5ms\n",
      "image 150/254 C:\\Users\\Guille\\Documents\\TFG\\yolov8\\..\\datasetUnificado\\test\\images\\000720.jpg: 640x640 2 maizes, 4.1ms\n",
      "image 151/254 C:\\Users\\Guille\\Documents\\TFG\\yolov8\\..\\datasetUnificado\\test\\images\\000743.jpg: 640x640 6 maizes, 5.0ms\n",
      "image 152/254 C:\\Users\\Guille\\Documents\\TFG\\yolov8\\..\\datasetUnificado\\test\\images\\000746.jpg: 640x640 4 maizes, 2 weeds, 5.1ms\n",
      "image 153/254 C:\\Users\\Guille\\Documents\\TFG\\yolov8\\..\\datasetUnificado\\test\\images\\000752.jpg: 640x640 7 maizes, 12 weeds, 4.1ms\n",
      "image 154/254 C:\\Users\\Guille\\Documents\\TFG\\yolov8\\..\\datasetUnificado\\test\\images\\000754.jpg: 640x640 8 maizes, 6 weeds, 4.7ms\n",
      "image 155/254 C:\\Users\\Guille\\Documents\\TFG\\yolov8\\..\\datasetUnificado\\test\\images\\000762.jpg: 640x640 1 maize, 1 weed, 5.0ms\n",
      "image 156/254 C:\\Users\\Guille\\Documents\\TFG\\yolov8\\..\\datasetUnificado\\test\\images\\000767.jpg: 640x640 5 maizes, 2 weeds, 5.1ms\n",
      "image 157/254 C:\\Users\\Guille\\Documents\\TFG\\yolov8\\..\\datasetUnificado\\test\\images\\000771.jpg: 640x640 8 maizes, 4.0ms\n",
      "image 158/254 C:\\Users\\Guille\\Documents\\TFG\\yolov8\\..\\datasetUnificado\\test\\images\\000781.jpg: 640x640 3 maizes, 5.4ms\n",
      "image 159/254 C:\\Users\\Guille\\Documents\\TFG\\yolov8\\..\\datasetUnificado\\test\\images\\000785.jpg: 640x640 4 maizes, 1 weed, 3.9ms\n",
      "image 160/254 C:\\Users\\Guille\\Documents\\TFG\\yolov8\\..\\datasetUnificado\\test\\images\\000796.jpg: 640x640 3 maizes, 4.0ms\n",
      "image 161/254 C:\\Users\\Guille\\Documents\\TFG\\yolov8\\..\\datasetUnificado\\test\\images\\000802.jpg: 640x640 3 maizes, 4.1ms\n",
      "image 162/254 C:\\Users\\Guille\\Documents\\TFG\\yolov8\\..\\datasetUnificado\\test\\images\\000803.jpg: 640x640 2 maizes, 5.6ms\n",
      "image 163/254 C:\\Users\\Guille\\Documents\\TFG\\yolov8\\..\\datasetUnificado\\test\\images\\000807.jpg: 640x640 1 maize, 4.6ms\n",
      "image 164/254 C:\\Users\\Guille\\Documents\\TFG\\yolov8\\..\\datasetUnificado\\test\\images\\000808.jpg: 640x640 1 maize, 4.5ms\n",
      "image 165/254 C:\\Users\\Guille\\Documents\\TFG\\yolov8\\..\\datasetUnificado\\test\\images\\000812.jpg: 640x640 3 maizes, 2 weeds, 4.0ms\n",
      "image 166/254 C:\\Users\\Guille\\Documents\\TFG\\yolov8\\..\\datasetUnificado\\test\\images\\000818.jpg: 640x640 2 maizes, 2 weeds, 4.5ms\n",
      "image 167/254 C:\\Users\\Guille\\Documents\\TFG\\yolov8\\..\\datasetUnificado\\test\\images\\000820.jpg: 640x640 7 maizes, 2 weeds, 4.0ms\n",
      "image 168/254 C:\\Users\\Guille\\Documents\\TFG\\yolov8\\..\\datasetUnificado\\test\\images\\000823.jpg: 640x640 4 maizes, 1 weed, 6.1ms\n",
      "image 169/254 C:\\Users\\Guille\\Documents\\TFG\\yolov8\\..\\datasetUnificado\\test\\images\\000825.jpg: 640x640 5 maizes, 1 weed, 4.7ms\n",
      "image 170/254 C:\\Users\\Guille\\Documents\\TFG\\yolov8\\..\\datasetUnificado\\test\\images\\000848.jpg: 640x640 3 maizes, 8.0ms\n",
      "image 171/254 C:\\Users\\Guille\\Documents\\TFG\\yolov8\\..\\datasetUnificado\\test\\images\\000852.jpg: 640x640 2 maizes, 1 weed, 3.5ms\n",
      "image 172/254 C:\\Users\\Guille\\Documents\\TFG\\yolov8\\..\\datasetUnificado\\test\\images\\000869.jpg: 640x640 3 maizes, 2 weeds, 4.1ms\n",
      "image 173/254 C:\\Users\\Guille\\Documents\\TFG\\yolov8\\..\\datasetUnificado\\test\\images\\000879.jpg: 640x640 9 maizes, 2 weeds, 3.6ms\n",
      "image 174/254 C:\\Users\\Guille\\Documents\\TFG\\yolov8\\..\\datasetUnificado\\test\\images\\000884.jpg: 640x640 4 maizes, 1 weed, 5.0ms\n",
      "image 175/254 C:\\Users\\Guille\\Documents\\TFG\\yolov8\\..\\datasetUnificado\\test\\images\\000886.jpg: 640x640 6 maizes, 4.0ms\n",
      "image 176/254 C:\\Users\\Guille\\Documents\\TFG\\yolov8\\..\\datasetUnificado\\test\\images\\000894.jpg: 640x640 3 maizes, 1 weed, 6.2ms\n",
      "image 177/254 C:\\Users\\Guille\\Documents\\TFG\\yolov8\\..\\datasetUnificado\\test\\images\\000900.jpg: 640x640 6 maizes, 3.6ms\n",
      "image 178/254 C:\\Users\\Guille\\Documents\\TFG\\yolov8\\..\\datasetUnificado\\test\\images\\000908.jpg: 640x640 4 maizes, 1 weed, 4.0ms\n",
      "image 179/254 C:\\Users\\Guille\\Documents\\TFG\\yolov8\\..\\datasetUnificado\\test\\images\\000912.jpg: 640x640 2 maizes, 1 weed, 4.1ms\n",
      "image 180/254 C:\\Users\\Guille\\Documents\\TFG\\yolov8\\..\\datasetUnificado\\test\\images\\000917.jpg: 640x640 2 maizes, 1 weed, 4.2ms\n",
      "image 181/254 C:\\Users\\Guille\\Documents\\TFG\\yolov8\\..\\datasetUnificado\\test\\images\\000919.jpg: 640x640 2 maizes, 1 weed, 7.1ms\n",
      "image 182/254 C:\\Users\\Guille\\Documents\\TFG\\yolov8\\..\\datasetUnificado\\test\\images\\000921.jpg: 640x640 2 maizes, 5.1ms\n",
      "image 183/254 C:\\Users\\Guille\\Documents\\TFG\\yolov8\\..\\datasetUnificado\\test\\images\\000924.jpg: 640x640 3 maizes, 1 weed, 4.6ms\n",
      "image 184/254 C:\\Users\\Guille\\Documents\\TFG\\yolov8\\..\\datasetUnificado\\test\\images\\000925.jpg: 640x640 6 maizes, 2 weeds, 5.0ms\n",
      "image 185/254 C:\\Users\\Guille\\Documents\\TFG\\yolov8\\..\\datasetUnificado\\test\\images\\000932.jpg: 640x640 3 maizes, 3 weeds, 5.0ms\n",
      "image 186/254 C:\\Users\\Guille\\Documents\\TFG\\yolov8\\..\\datasetUnificado\\test\\images\\000934.jpg: 640x640 5 maizes, 3 weeds, 5.6ms\n",
      "image 187/254 C:\\Users\\Guille\\Documents\\TFG\\yolov8\\..\\datasetUnificado\\test\\images\\000936.jpg: 640x640 6 maizes, 1 weed, 4.1ms\n",
      "image 188/254 C:\\Users\\Guille\\Documents\\TFG\\yolov8\\..\\datasetUnificado\\test\\images\\000938.jpg: 640x640 3 maizes, 2 weeds, 4.1ms\n",
      "image 189/254 C:\\Users\\Guille\\Documents\\TFG\\yolov8\\..\\datasetUnificado\\test\\images\\000950.jpg: 640x640 3 maizes, 4.2ms\n",
      "image 190/254 C:\\Users\\Guille\\Documents\\TFG\\yolov8\\..\\datasetUnificado\\test\\images\\000952.jpg: 640x640 4 maizes, 1 weed, 6.1ms\n",
      "image 191/254 C:\\Users\\Guille\\Documents\\TFG\\yolov8\\..\\datasetUnificado\\test\\images\\000953.jpg: 640x640 8 maizes, 3 weeds, 4.1ms\n",
      "image 192/254 C:\\Users\\Guille\\Documents\\TFG\\yolov8\\..\\datasetUnificado\\test\\images\\000967.jpg: 640x640 1 maize, 9.1ms\n",
      "image 193/254 C:\\Users\\Guille\\Documents\\TFG\\yolov8\\..\\datasetUnificado\\test\\images\\000977.jpg: 640x640 3 maizes, 4.2ms\n",
      "image 194/254 C:\\Users\\Guille\\Documents\\TFG\\yolov8\\..\\datasetUnificado\\test\\images\\000978.jpg: 640x640 4 maizes, 1 weed, 4.2ms\n",
      "image 195/254 C:\\Users\\Guille\\Documents\\TFG\\yolov8\\..\\datasetUnificado\\test\\images\\000987.jpg: 640x640 5 maizes, 2 weeds, 5.0ms\n",
      "image 196/254 C:\\Users\\Guille\\Documents\\TFG\\yolov8\\..\\datasetUnificado\\test\\images\\000988.jpg: 640x640 4 maizes, 4.1ms\n",
      "image 197/254 C:\\Users\\Guille\\Documents\\TFG\\yolov8\\..\\datasetUnificado\\test\\images\\000991.jpg: 640x640 4 maizes, 4.0ms\n",
      "image 198/254 C:\\Users\\Guille\\Documents\\TFG\\yolov8\\..\\datasetUnificado\\test\\images\\000994.jpg: 640x640 2 maizes, 1 weed, 4.0ms\n",
      "image 199/254 C:\\Users\\Guille\\Documents\\TFG\\yolov8\\..\\datasetUnificado\\test\\images\\000997.jpg: 640x640 4 maizes, 1 weed, 4.1ms\n",
      "image 200/254 C:\\Users\\Guille\\Documents\\TFG\\yolov8\\..\\datasetUnificado\\test\\images\\001004.jpg: 640x640 8 maizes, 2 weeds, 6.0ms\n",
      "image 201/254 C:\\Users\\Guille\\Documents\\TFG\\yolov8\\..\\datasetUnificado\\test\\images\\001007.jpg: 640x640 6 maizes, 1 weed, 6.0ms\n",
      "image 202/254 C:\\Users\\Guille\\Documents\\TFG\\yolov8\\..\\datasetUnificado\\test\\images\\001009.jpg: 640x640 7 maizes, 1 weed, 5.0ms\n",
      "image 203/254 C:\\Users\\Guille\\Documents\\TFG\\yolov8\\..\\datasetUnificado\\test\\images\\001015.jpg: 640x640 5 maizes, 2 weeds, 5.0ms\n",
      "image 204/254 C:\\Users\\Guille\\Documents\\TFG\\yolov8\\..\\datasetUnificado\\test\\images\\001019.jpg: 640x640 9 maizes, 3 weeds, 5.1ms\n",
      "image 205/254 C:\\Users\\Guille\\Documents\\TFG\\yolov8\\..\\datasetUnificado\\test\\images\\001032.jpg: 640x640 6 maizes, 2 weeds, 4.7ms\n",
      "image 206/254 C:\\Users\\Guille\\Documents\\TFG\\yolov8\\..\\datasetUnificado\\test\\images\\001033.jpg: 640x640 10 maizes, 3 weeds, 5.0ms\n",
      "image 207/254 C:\\Users\\Guille\\Documents\\TFG\\yolov8\\..\\datasetUnificado\\test\\images\\001039.jpg: 640x640 7 maizes, 2 weeds, 4.1ms\n",
      "image 208/254 C:\\Users\\Guille\\Documents\\TFG\\yolov8\\..\\datasetUnificado\\test\\images\\001045.jpg: 640x640 4 maizes, 3 weeds, 5.2ms\n",
      "image 209/254 C:\\Users\\Guille\\Documents\\TFG\\yolov8\\..\\datasetUnificado\\test\\images\\001048.jpg: 640x640 7 maizes, 1 weed, 4.6ms\n",
      "image 210/254 C:\\Users\\Guille\\Documents\\TFG\\yolov8\\..\\datasetUnificado\\test\\images\\001063.jpg: 640x640 1 maize, 5.0ms\n",
      "image 211/254 C:\\Users\\Guille\\Documents\\TFG\\yolov8\\..\\datasetUnificado\\test\\images\\001069.jpg: 640x640 2 maizes, 1 weed, 4.0ms\n",
      "image 212/254 C:\\Users\\Guille\\Documents\\TFG\\yolov8\\..\\datasetUnificado\\test\\images\\001077.jpg: 640x640 6 maizes, 4.0ms\n",
      "image 213/254 C:\\Users\\Guille\\Documents\\TFG\\yolov8\\..\\datasetUnificado\\test\\images\\001079.jpg: 640x640 4 maizes, 1 weed, 4.6ms\n",
      "image 214/254 C:\\Users\\Guille\\Documents\\TFG\\yolov8\\..\\datasetUnificado\\test\\images\\001083.jpg: 640x640 3 maizes, 4.0ms\n",
      "image 215/254 C:\\Users\\Guille\\Documents\\TFG\\yolov8\\..\\datasetUnificado\\test\\images\\001088.jpg: 640x640 2 maizes, 2 weeds, 5.2ms\n",
      "image 216/254 C:\\Users\\Guille\\Documents\\TFG\\yolov8\\..\\datasetUnificado\\test\\images\\001096.jpg: 640x640 2 maizes, 4.5ms\n",
      "image 217/254 C:\\Users\\Guille\\Documents\\TFG\\yolov8\\..\\datasetUnificado\\test\\images\\001098.jpg: 640x640 4 maizes, 7.2ms\n",
      "image 218/254 C:\\Users\\Guille\\Documents\\TFG\\yolov8\\..\\datasetUnificado\\test\\images\\001105.jpg: 640x640 5 maizes, 4.6ms\n",
      "image 219/254 C:\\Users\\Guille\\Documents\\TFG\\yolov8\\..\\datasetUnificado\\test\\images\\001116.jpg: 640x640 2 maizes, 4.0ms\n",
      "image 220/254 C:\\Users\\Guille\\Documents\\TFG\\yolov8\\..\\datasetUnificado\\test\\images\\001117.jpg: 640x640 2 maizes, 5.1ms\n",
      "image 221/254 C:\\Users\\Guille\\Documents\\TFG\\yolov8\\..\\datasetUnificado\\test\\images\\001118.jpg: 640x640 4 maizes, 4.0ms\n",
      "image 222/254 C:\\Users\\Guille\\Documents\\TFG\\yolov8\\..\\datasetUnificado\\test\\images\\001120.jpg: 640x640 3 maizes, 4.7ms\n",
      "image 223/254 C:\\Users\\Guille\\Documents\\TFG\\yolov8\\..\\datasetUnificado\\test\\images\\001124.jpg: 640x640 3 maizes, 1 weed, 6.1ms\n",
      "image 224/254 C:\\Users\\Guille\\Documents\\TFG\\yolov8\\..\\datasetUnificado\\test\\images\\001135.jpg: 640x640 5 maizes, 1 weed, 3.1ms\n",
      "image 225/254 C:\\Users\\Guille\\Documents\\TFG\\yolov8\\..\\datasetUnificado\\test\\images\\001137.jpg: 640x640 3 maizes, 1 weed, 4.2ms\n",
      "image 226/254 C:\\Users\\Guille\\Documents\\TFG\\yolov8\\..\\datasetUnificado\\test\\images\\001139.jpg: 640x640 4 maizes, 4 weeds, 7.6ms\n",
      "image 227/254 C:\\Users\\Guille\\Documents\\TFG\\yolov8\\..\\datasetUnificado\\test\\images\\001145.jpg: 640x640 8 maizes, 11 weeds, 4.0ms\n",
      "image 228/254 C:\\Users\\Guille\\Documents\\TFG\\yolov8\\..\\datasetUnificado\\test\\images\\001149.jpg: 640x640 7 maizes, 10 weeds, 4.2ms\n",
      "image 229/254 C:\\Users\\Guille\\Documents\\TFG\\yolov8\\..\\datasetUnificado\\test\\images\\001157.jpg: 640x640 8 maizes, 9 weeds, 4.0ms\n",
      "image 230/254 C:\\Users\\Guille\\Documents\\TFG\\yolov8\\..\\datasetUnificado\\test\\images\\001160.jpg: 640x640 8 maizes, 9 weeds, 5.0ms\n",
      "image 231/254 C:\\Users\\Guille\\Documents\\TFG\\yolov8\\..\\datasetUnificado\\test\\images\\001161.jpg: 640x640 8 maizes, 7 weeds, 3.8ms\n",
      "image 232/254 C:\\Users\\Guille\\Documents\\TFG\\yolov8\\..\\datasetUnificado\\test\\images\\001163.jpg: 640x640 7 maizes, 9 weeds, 5.0ms\n",
      "image 233/254 C:\\Users\\Guille\\Documents\\TFG\\yolov8\\..\\datasetUnificado\\test\\images\\001165.jpg: 640x640 5 maizes, 7 weeds, 5.6ms\n",
      "image 234/254 C:\\Users\\Guille\\Documents\\TFG\\yolov8\\..\\datasetUnificado\\test\\images\\001172.jpg: 640x640 3 maizes, 3 weeds, 5.0ms\n",
      "image 235/254 C:\\Users\\Guille\\Documents\\TFG\\yolov8\\..\\datasetUnificado\\test\\images\\001174.jpg: 640x640 1 maize, 3 weeds, 4.2ms\n",
      "image 236/254 C:\\Users\\Guille\\Documents\\TFG\\yolov8\\..\\datasetUnificado\\test\\images\\001175.jpg: 640x640 7 maizes, 8 weeds, 5.2ms\n",
      "image 237/254 C:\\Users\\Guille\\Documents\\TFG\\yolov8\\..\\datasetUnificado\\test\\images\\001186.jpg: 640x640 5 maizes, 6 weeds, 6.0ms\n",
      "image 238/254 C:\\Users\\Guille\\Documents\\TFG\\yolov8\\..\\datasetUnificado\\test\\images\\001194.jpg: 640x640 7 maizes, 8 weeds, 4.0ms\n",
      "image 239/254 C:\\Users\\Guille\\Documents\\TFG\\yolov8\\..\\datasetUnificado\\test\\images\\001201.jpg: 640x640 3 maizes, 2 weeds, 10.1ms\n",
      "image 240/254 C:\\Users\\Guille\\Documents\\TFG\\yolov8\\..\\datasetUnificado\\test\\images\\001207.jpg: 640x640 3 maizes, 5 weeds, 4.0ms\n",
      "image 241/254 C:\\Users\\Guille\\Documents\\TFG\\yolov8\\..\\datasetUnificado\\test\\images\\001208.jpg: 640x640 2 maizes, 2 weeds, 5.0ms\n",
      "image 242/254 C:\\Users\\Guille\\Documents\\TFG\\yolov8\\..\\datasetUnificado\\test\\images\\001210.jpg: 640x640 2 maizes, 2 weeds, 4.2ms\n",
      "image 243/254 C:\\Users\\Guille\\Documents\\TFG\\yolov8\\..\\datasetUnificado\\test\\images\\001213.jpg: 640x640 3 maizes, 2 weeds, 5.0ms\n",
      "image 244/254 C:\\Users\\Guille\\Documents\\TFG\\yolov8\\..\\datasetUnificado\\test\\images\\001226.jpg: 640x640 6 maizes, 9 weeds, 4.1ms\n",
      "image 245/254 C:\\Users\\Guille\\Documents\\TFG\\yolov8\\..\\datasetUnificado\\test\\images\\001235.jpg: 640x640 8 maizes, 10 weeds, 6.1ms\n",
      "image 246/254 C:\\Users\\Guille\\Documents\\TFG\\yolov8\\..\\datasetUnificado\\test\\images\\001240.jpg: 640x640 7 maizes, 2 weeds, 5.0ms\n",
      "image 247/254 C:\\Users\\Guille\\Documents\\TFG\\yolov8\\..\\datasetUnificado\\test\\images\\001251.jpg: 640x640 9 maizes, 11 weeds, 5.0ms\n",
      "image 248/254 C:\\Users\\Guille\\Documents\\TFG\\yolov8\\..\\datasetUnificado\\test\\images\\001252.jpg: 640x640 7 maizes, 12 weeds, 6.0ms\n",
      "image 249/254 C:\\Users\\Guille\\Documents\\TFG\\yolov8\\..\\datasetUnificado\\test\\images\\001253.jpg: 640x640 7 maizes, 7 weeds, 5.0ms\n",
      "image 250/254 C:\\Users\\Guille\\Documents\\TFG\\yolov8\\..\\datasetUnificado\\test\\images\\001255.jpg: 640x640 7 maizes, 11 weeds, 5.0ms\n",
      "image 251/254 C:\\Users\\Guille\\Documents\\TFG\\yolov8\\..\\datasetUnificado\\test\\images\\001256.jpg: 640x640 7 maizes, 7 weeds, 4.2ms\n",
      "image 252/254 C:\\Users\\Guille\\Documents\\TFG\\yolov8\\..\\datasetUnificado\\test\\images\\001258.jpg: 640x640 5 maizes, 11 weeds, 4.9ms\n",
      "image 253/254 C:\\Users\\Guille\\Documents\\TFG\\yolov8\\..\\datasetUnificado\\test\\images\\001259.jpg: 640x640 3 maizes, 4 weeds, 4.1ms\n",
      "image 254/254 C:\\Users\\Guille\\Documents\\TFG\\yolov8\\..\\datasetUnificado\\test\\images\\001265.jpg: 640x640 4 maizes, 1 weed, 4.0ms\n",
      "Speed: 1.4ms preprocess, 6.1ms inference, 1.2ms postprocess per image at shape (1, 3, 640, 640)\n",
      "Results saved to \u001b[1mruns\\detect\\predict4\u001b[0m\n",
      "254 labels saved to runs\\detect\\predict4\\labels\n"
     ]
    }
   ],
   "source": [
    "from ultralytics import YOLO\n",
    "\n",
    "# Cargar el modelo\n",
    "model = YOLO('runs/detect/train4/weights/best.pt')\n",
    "\n",
    "results = model.predict(source='../datasetCreado/test/images', imgsz=640, conf=0.25, save=True, save_txt=True)"
   ]
  },
  {
   "cell_type": "code",
   "execution_count": null,
   "id": "c6714d43-8613-424a-9d96-06de1a8601ea",
   "metadata": {},
   "outputs": [],
   "source": []
  }
 ],
 "metadata": {
  "kernelspec": {
   "display_name": "Python (yolov8)",
   "language": "python",
   "name": "yolov8"
  },
  "language_info": {
   "codemirror_mode": {
    "name": "ipython",
    "version": 3
   },
   "file_extension": ".py",
   "mimetype": "text/x-python",
   "name": "python",
   "nbconvert_exporter": "python",
   "pygments_lexer": "ipython3",
   "version": "3.9.21"
  }
 },
 "nbformat": 4,
 "nbformat_minor": 5
}
