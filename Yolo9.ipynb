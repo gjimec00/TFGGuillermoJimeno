{
 "cells": [
  {
   "cell_type": "code",
   "execution_count": 1,
   "id": "28bcb7fe-b23b-40a9-bdca-d8a253515123",
   "metadata": {},
   "outputs": [
    {
     "name": "stdout",
     "output_type": "stream",
     "text": [
      "CUDA disponible: True\n",
      "Número de GPUs disponibles: 1\n",
      "Nombre de la GPU: NVIDIA GeForce RTX 4060 Ti\n"
     ]
    }
   ],
   "source": [
    "import torch\n",
    "\n",
    "# Verificar si CUDA está disponible\n",
    "print(\"CUDA disponible:\", torch.cuda.is_available())\n",
    "\n",
    "# Si CUDA está disponible, muestra información de la GPU\n",
    "if torch.cuda.is_available():\n",
    "    print(\"Número de GPUs disponibles:\", torch.cuda.device_count())\n",
    "    print(\"Nombre de la GPU:\", torch.cuda.get_device_name(0))\n"
   ]
  },
  {
   "cell_type": "code",
   "execution_count": 1,
   "id": "459cdd87",
   "metadata": {
    "scrolled": true
   },
   "outputs": [
    {
     "name": "stdout",
     "output_type": "stream",
     "text": [
      "C:\\Users\\Guille\\Documents\\TFG\\yolov9\n"
     ]
    },
    {
     "name": "stderr",
     "output_type": "stream",
     "text": [
      "Cloning into 'yolov9'...\n"
     ]
    },
    {
     "name": "stdout",
     "output_type": "stream",
     "text": [
      "Terminado\n"
     ]
    }
   ],
   "source": [
    "!git clone https://github.com/SkalskiP/yolov9.git\n",
    "%cd yolov9\n",
    "!pip install -r requirements.txt -q\n",
    "!wget -P weights -q https://github.com/WongKinYiu/yolov9/releases/download/v0.1/yolov9-c.pt\n",
    "!wget -P weights -q https://github.com/WongKinYiu/yolov9/releases/download/v0.1/yolov9-e.pt\n",
    "!wget -P weights -q https://github.com/WongKinYiu/yolov9/releases/download/v0.1/gelan-c.pt\n",
    "!wget -P weights -q https://github.com/WongKinYiu/yolov9/releases/download/v0.1/gelan-e.pt\n",
    "print(\"Terminado\")"
   ]
  },
  {
   "cell_type": "code",
   "execution_count": 2,
   "id": "7f092310-86a0-4310-adc5-6b23c87a2f2a",
   "metadata": {},
   "outputs": [
    {
     "name": "stdout",
     "output_type": "stream",
     "text": [
      "C:\\Users\\Guille\\Documents\\TFG\\yolov9\n"
     ]
    }
   ],
   "source": [
    "%cd yolov9"
   ]
  },
  {
   "cell_type": "code",
   "execution_count": 3,
   "id": "1d1182d1-978b-4ce3-bef9-30db75d67ce8",
   "metadata": {},
   "outputs": [],
   "source": [
    "from ultralytics import YOLO\n",
    "\n",
    "# Cargar el modelo\n",
    "model = YOLO('yolov9s.pt')"
   ]
  },
  {
   "cell_type": "code",
   "execution_count": 4,
   "id": "860bc375-4a4d-44d3-86ff-dd62c8dd74a7",
   "metadata": {
    "scrolled": true
   },
   "outputs": [
    {
     "name": "stdout",
     "output_type": "stream",
     "text": [
      "New https://pypi.org/project/ultralytics/8.3.92 available  Update with 'pip install -U ultralytics'\n",
      "Ultralytics 8.3.65  Python-3.9.21 torch-2.5.1+cu124 CUDA:0 (NVIDIA GeForce RTX 4060 Ti, 8188MiB)\n",
      "\u001b[34m\u001b[1mengine\\trainer: \u001b[0mtask=detect, mode=train, model=yolov9s.pt, data=../datasetCerca/data.yaml, epochs=50, time=None, patience=100, batch=16, imgsz=640, save=True, save_period=-1, cache=False, device=None, workers=8, project=None, name=train9, exist_ok=False, pretrained=True, optimizer=auto, verbose=True, seed=0, deterministic=True, single_cls=False, rect=False, cos_lr=False, close_mosaic=10, resume=False, amp=True, fraction=1.0, profile=False, freeze=None, multi_scale=False, overlap_mask=True, mask_ratio=4, dropout=0.0, val=True, split=val, save_json=False, save_hybrid=False, conf=None, iou=0.7, max_det=300, half=False, dnn=False, plots=True, source=None, vid_stride=1, stream_buffer=False, visualize=False, augment=False, agnostic_nms=False, classes=None, retina_masks=False, embed=None, show=False, save_frames=False, save_txt=False, save_conf=False, save_crop=False, show_labels=True, show_conf=True, show_boxes=True, line_width=None, format=torchscript, keras=False, optimize=False, int8=False, dynamic=False, simplify=True, opset=None, workspace=None, nms=False, lr0=0.01, lrf=0.01, momentum=0.937, weight_decay=0.0005, warmup_epochs=3.0, warmup_momentum=0.8, warmup_bias_lr=0.1, box=7.5, cls=0.5, dfl=1.5, pose=12.0, kobj=1.0, nbs=64, hsv_h=0.015, hsv_s=0.7, hsv_v=0.4, degrees=0.0, translate=0.1, scale=0.5, shear=0.0, perspective=0.0, flipud=0.0, fliplr=0.5, bgr=0.0, mosaic=1.0, mixup=0.0, copy_paste=0.0, copy_paste_mode=flip, auto_augment=randaugment, erasing=0.4, crop_fraction=1.0, cfg=None, tracker=botsort.yaml, save_dir=runs\\detect\\train9\n",
      "Overriding model.yaml nc=80 with nc=2\n",
      "\n",
      "                   from  n    params  module                                       arguments                     \n",
      "  0                  -1  1       928  ultralytics.nn.modules.conv.Conv             [3, 32, 3, 2]                 \n",
      "  1                  -1  1     18560  ultralytics.nn.modules.conv.Conv             [32, 64, 3, 2]                \n",
      "  2                  -1  1     31104  ultralytics.nn.modules.block.ELAN1           [64, 64, 64, 32]              \n",
      "  3                  -1  1     73984  ultralytics.nn.modules.block.AConv           [64, 128]                     \n",
      "  4                  -1  1    258432  ultralytics.nn.modules.block.RepNCSPELAN4    [128, 128, 128, 64, 3]        \n",
      "  5                  -1  1    221568  ultralytics.nn.modules.block.AConv           [128, 192]                    \n",
      "  6                  -1  1    579648  ultralytics.nn.modules.block.RepNCSPELAN4    [192, 192, 192, 96, 3]        \n",
      "  7                  -1  1    442880  ultralytics.nn.modules.block.AConv           [192, 256]                    \n",
      "  8                  -1  1   1028864  ultralytics.nn.modules.block.RepNCSPELAN4    [256, 256, 256, 128, 3]       \n",
      "  9                  -1  1    164608  ultralytics.nn.modules.block.SPPELAN         [256, 256, 128]               \n",
      " 10                  -1  1         0  torch.nn.modules.upsampling.Upsample         [None, 2, 'nearest']          \n",
      " 11             [-1, 6]  1         0  ultralytics.nn.modules.conv.Concat           [1]                           \n",
      " 12                  -1  1    628800  ultralytics.nn.modules.block.RepNCSPELAN4    [448, 192, 192, 96, 3]        \n",
      " 13                  -1  1         0  torch.nn.modules.upsampling.Upsample         [None, 2, 'nearest']          \n",
      " 14             [-1, 4]  1         0  ultralytics.nn.modules.conv.Concat           [1]                           \n",
      " 15                  -1  1    283008  ultralytics.nn.modules.block.RepNCSPELAN4    [320, 128, 128, 64, 3]        \n",
      " 16                  -1  1    110784  ultralytics.nn.modules.block.AConv           [128, 96]                     \n",
      " 17            [-1, 12]  1         0  ultralytics.nn.modules.conv.Concat           [1]                           \n",
      " 18                  -1  1    598080  ultralytics.nn.modules.block.RepNCSPELAN4    [288, 192, 192, 96, 3]        \n",
      " 19                  -1  1    221440  ultralytics.nn.modules.block.AConv           [192, 128]                    \n",
      " 20             [-1, 9]  1         0  ultralytics.nn.modules.conv.Concat           [1]                           \n",
      " 21                  -1  1   1061632  ultralytics.nn.modules.block.RepNCSPELAN4    [384, 256, 256, 128, 3]       \n",
      " 22        [15, 18, 21]  1   1563862  ultralytics.nn.modules.head.Detect           [2, [128, 192, 256]]          \n",
      "YOLOv9s summary: 917 layers, 7,288,182 parameters, 7,288,166 gradients, 27.4 GFLOPs\n",
      "\n",
      "Transferred 1333/1339 items from pretrained weights\n",
      "Freezing layer 'model.22.dfl.conv.weight'\n",
      "\u001b[34m\u001b[1mAMP: \u001b[0mrunning Automatic Mixed Precision (AMP) checks...\n",
      "\u001b[34m\u001b[1mAMP: \u001b[0mchecks passed \n"
     ]
    },
    {
     "name": "stderr",
     "output_type": "stream",
     "text": [
      "\u001b[34m\u001b[1mtrain: \u001b[0mScanning C:\\Users\\Guille\\Documents\\TFG\\datasetCerca\\train\\labels.cache... 350 images, 0 backgrounds, 0 corrupt: \u001b[0m\n",
      "\u001b[34m\u001b[1mval: \u001b[0mScanning C:\\Users\\Guille\\Documents\\TFG\\datasetCerca\\valid\\labels.cache... 100 images, 0 backgrounds, 0 corrupt: 10\u001b[0m\n"
     ]
    },
    {
     "name": "stdout",
     "output_type": "stream",
     "text": [
      "Plotting labels to runs\\detect\\train9\\labels.jpg... \n",
      "\u001b[34m\u001b[1moptimizer:\u001b[0m 'optimizer=auto' found, ignoring 'lr0=0.01' and 'momentum=0.937' and determining best 'optimizer', 'lr0' and 'momentum' automatically... \n",
      "\u001b[34m\u001b[1moptimizer:\u001b[0m AdamW(lr=0.001667, momentum=0.9) with parameter groups 221 weight(decay=0.0), 228 weight(decay=0.0005), 227 bias(decay=0.0)\n",
      "Image sizes 640 train, 640 val\n",
      "Using 8 dataloader workers\n",
      "Logging results to \u001b[1mruns\\detect\\train9\u001b[0m\n",
      "Starting training for 50 epochs...\n",
      "\n",
      "      Epoch    GPU_mem   box_loss   cls_loss   dfl_loss  Instances       Size\n"
     ]
    },
    {
     "name": "stderr",
     "output_type": "stream",
     "text": [
      "       1/50      5.15G      2.368      2.922      2.308        326        640: 100%|██████████| 22/22 [00:06<00:00,  3.\n",
      "                 Class     Images  Instances      Box(P          R      mAP50  mAP50-95): 100%|██████████| 4/4 [00:00<0"
     ]
    },
    {
     "name": "stdout",
     "output_type": "stream",
     "text": [
      "                   all        100       1204       0.41      0.493      0.418       0.21\n"
     ]
    },
    {
     "name": "stderr",
     "output_type": "stream",
     "text": [
      "\n"
     ]
    },
    {
     "name": "stdout",
     "output_type": "stream",
     "text": [
      "\n",
      "      Epoch    GPU_mem   box_loss   cls_loss   dfl_loss  Instances       Size\n"
     ]
    },
    {
     "name": "stderr",
     "output_type": "stream",
     "text": [
      "       2/50       5.2G      1.604      1.587      1.683        308        640: 100%|██████████| 22/22 [00:05<00:00,  4.\n",
      "                 Class     Images  Instances      Box(P          R      mAP50  mAP50-95): 100%|██████████| 4/4 [00:00<0"
     ]
    },
    {
     "name": "stdout",
     "output_type": "stream",
     "text": [
      "                   all        100       1204      0.526       0.62      0.537      0.275\n"
     ]
    },
    {
     "name": "stderr",
     "output_type": "stream",
     "text": [
      "\n"
     ]
    },
    {
     "name": "stdout",
     "output_type": "stream",
     "text": [
      "\n",
      "      Epoch    GPU_mem   box_loss   cls_loss   dfl_loss  Instances       Size\n"
     ]
    },
    {
     "name": "stderr",
     "output_type": "stream",
     "text": [
      "       3/50      5.09G        1.5       1.35      1.572        344        640: 100%|██████████| 22/22 [00:05<00:00,  4.\n",
      "                 Class     Images  Instances      Box(P          R      mAP50  mAP50-95): 100%|██████████| 4/4 [00:00<0"
     ]
    },
    {
     "name": "stdout",
     "output_type": "stream",
     "text": [
      "                   all        100       1204      0.465      0.561      0.502      0.241\n"
     ]
    },
    {
     "name": "stderr",
     "output_type": "stream",
     "text": [
      "\n"
     ]
    },
    {
     "name": "stdout",
     "output_type": "stream",
     "text": [
      "\n",
      "      Epoch    GPU_mem   box_loss   cls_loss   dfl_loss  Instances       Size\n"
     ]
    },
    {
     "name": "stderr",
     "output_type": "stream",
     "text": [
      "       4/50      5.19G      1.459      1.255      1.573        352        640: 100%|██████████| 22/22 [00:05<00:00,  4.\n",
      "                 Class     Images  Instances      Box(P          R      mAP50  mAP50-95): 100%|██████████| 4/4 [00:00<0"
     ]
    },
    {
     "name": "stdout",
     "output_type": "stream",
     "text": [
      "                   all        100       1204       0.56       0.65      0.594      0.307\n"
     ]
    },
    {
     "name": "stderr",
     "output_type": "stream",
     "text": [
      "\n"
     ]
    },
    {
     "name": "stdout",
     "output_type": "stream",
     "text": [
      "\n",
      "      Epoch    GPU_mem   box_loss   cls_loss   dfl_loss  Instances       Size\n"
     ]
    },
    {
     "name": "stderr",
     "output_type": "stream",
     "text": [
      "       5/50      5.18G      1.376      1.116       1.49        279        640: 100%|██████████| 22/22 [00:05<00:00,  4.\n",
      "                 Class     Images  Instances      Box(P          R      mAP50  mAP50-95): 100%|██████████| 4/4 [00:00<0"
     ]
    },
    {
     "name": "stdout",
     "output_type": "stream",
     "text": [
      "                   all        100       1204      0.656       0.69      0.684      0.395\n"
     ]
    },
    {
     "name": "stderr",
     "output_type": "stream",
     "text": [
      "\n"
     ]
    },
    {
     "name": "stdout",
     "output_type": "stream",
     "text": [
      "\n",
      "      Epoch    GPU_mem   box_loss   cls_loss   dfl_loss  Instances       Size\n"
     ]
    },
    {
     "name": "stderr",
     "output_type": "stream",
     "text": [
      "       6/50      5.17G      1.363      1.105      1.494        283        640: 100%|██████████| 22/22 [00:05<00:00,  4.\n",
      "                 Class     Images  Instances      Box(P          R      mAP50  mAP50-95): 100%|██████████| 4/4 [00:00<0"
     ]
    },
    {
     "name": "stdout",
     "output_type": "stream",
     "text": [
      "                   all        100       1204      0.665      0.757      0.724      0.434\n"
     ]
    },
    {
     "name": "stderr",
     "output_type": "stream",
     "text": [
      "\n"
     ]
    },
    {
     "name": "stdout",
     "output_type": "stream",
     "text": [
      "\n",
      "      Epoch    GPU_mem   box_loss   cls_loss   dfl_loss  Instances       Size\n"
     ]
    },
    {
     "name": "stderr",
     "output_type": "stream",
     "text": [
      "       7/50      5.08G      1.328      1.037      1.473        358        640: 100%|██████████| 22/22 [00:05<00:00,  4.\n",
      "                 Class     Images  Instances      Box(P          R      mAP50  mAP50-95): 100%|██████████| 4/4 [00:00<0"
     ]
    },
    {
     "name": "stdout",
     "output_type": "stream",
     "text": [
      "                   all        100       1204       0.68      0.754       0.73      0.426\n"
     ]
    },
    {
     "name": "stderr",
     "output_type": "stream",
     "text": [
      "\n"
     ]
    },
    {
     "name": "stdout",
     "output_type": "stream",
     "text": [
      "\n",
      "      Epoch    GPU_mem   box_loss   cls_loss   dfl_loss  Instances       Size\n"
     ]
    },
    {
     "name": "stderr",
     "output_type": "stream",
     "text": [
      "       8/50      5.23G      1.292      1.008      1.448        327        640: 100%|██████████| 22/22 [00:05<00:00,  4.\n",
      "                 Class     Images  Instances      Box(P          R      mAP50  mAP50-95): 100%|██████████| 4/4 [00:00<0"
     ]
    },
    {
     "name": "stdout",
     "output_type": "stream",
     "text": [
      "                   all        100       1204      0.707      0.724       0.73      0.451\n"
     ]
    },
    {
     "name": "stderr",
     "output_type": "stream",
     "text": [
      "\n"
     ]
    },
    {
     "name": "stdout",
     "output_type": "stream",
     "text": [
      "\n",
      "      Epoch    GPU_mem   box_loss   cls_loss   dfl_loss  Instances       Size\n"
     ]
    },
    {
     "name": "stderr",
     "output_type": "stream",
     "text": [
      "       9/50      5.17G      1.279      1.002      1.443        411        640: 100%|██████████| 22/22 [00:05<00:00,  4.\n",
      "                 Class     Images  Instances      Box(P          R      mAP50  mAP50-95): 100%|██████████| 4/4 [00:00<0"
     ]
    },
    {
     "name": "stdout",
     "output_type": "stream",
     "text": [
      "                   all        100       1204      0.743      0.715      0.755      0.453\n"
     ]
    },
    {
     "name": "stderr",
     "output_type": "stream",
     "text": [
      "\n"
     ]
    },
    {
     "name": "stdout",
     "output_type": "stream",
     "text": [
      "\n",
      "      Epoch    GPU_mem   box_loss   cls_loss   dfl_loss  Instances       Size\n"
     ]
    },
    {
     "name": "stderr",
     "output_type": "stream",
     "text": [
      "      10/50      5.12G      1.267      0.955      1.425        330        640: 100%|██████████| 22/22 [00:05<00:00,  4.\n",
      "                 Class     Images  Instances      Box(P          R      mAP50  mAP50-95): 100%|██████████| 4/4 [00:00<0"
     ]
    },
    {
     "name": "stdout",
     "output_type": "stream",
     "text": [
      "                   all        100       1204      0.749        0.8      0.803      0.509\n"
     ]
    },
    {
     "name": "stderr",
     "output_type": "stream",
     "text": [
      "\n"
     ]
    },
    {
     "name": "stdout",
     "output_type": "stream",
     "text": [
      "\n",
      "      Epoch    GPU_mem   box_loss   cls_loss   dfl_loss  Instances       Size\n"
     ]
    },
    {
     "name": "stderr",
     "output_type": "stream",
     "text": [
      "      11/50       5.1G      1.239     0.9529      1.397        418        640: 100%|██████████| 22/22 [00:05<00:00,  4.\n",
      "                 Class     Images  Instances      Box(P          R      mAP50  mAP50-95): 100%|██████████| 4/4 [00:00<0"
     ]
    },
    {
     "name": "stdout",
     "output_type": "stream",
     "text": [
      "                   all        100       1204      0.787      0.798      0.827      0.543\n"
     ]
    },
    {
     "name": "stderr",
     "output_type": "stream",
     "text": [
      "\n"
     ]
    },
    {
     "name": "stdout",
     "output_type": "stream",
     "text": [
      "\n",
      "      Epoch    GPU_mem   box_loss   cls_loss   dfl_loss  Instances       Size\n"
     ]
    },
    {
     "name": "stderr",
     "output_type": "stream",
     "text": [
      "      12/50      5.12G      1.235      0.922      1.405        336        640: 100%|██████████| 22/22 [00:05<00:00,  4.\n",
      "                 Class     Images  Instances      Box(P          R      mAP50  mAP50-95): 100%|██████████| 4/4 [00:00<0"
     ]
    },
    {
     "name": "stdout",
     "output_type": "stream",
     "text": [
      "                   all        100       1204       0.77      0.803      0.808       0.52\n"
     ]
    },
    {
     "name": "stderr",
     "output_type": "stream",
     "text": [
      "\n"
     ]
    },
    {
     "name": "stdout",
     "output_type": "stream",
     "text": [
      "\n",
      "      Epoch    GPU_mem   box_loss   cls_loss   dfl_loss  Instances       Size\n"
     ]
    },
    {
     "name": "stderr",
     "output_type": "stream",
     "text": [
      "      13/50      5.19G      1.198     0.8931      1.389        290        640: 100%|██████████| 22/22 [00:05<00:00,  4.\n",
      "                 Class     Images  Instances      Box(P          R      mAP50  mAP50-95): 100%|██████████| 4/4 [00:00<0"
     ]
    },
    {
     "name": "stdout",
     "output_type": "stream",
     "text": [
      "                   all        100       1204      0.746      0.812      0.814      0.525\n"
     ]
    },
    {
     "name": "stderr",
     "output_type": "stream",
     "text": [
      "\n"
     ]
    },
    {
     "name": "stdout",
     "output_type": "stream",
     "text": [
      "\n",
      "      Epoch    GPU_mem   box_loss   cls_loss   dfl_loss  Instances       Size\n"
     ]
    },
    {
     "name": "stderr",
     "output_type": "stream",
     "text": [
      "      14/50      5.17G       1.17     0.8685      1.351        330        640: 100%|██████████| 22/22 [00:05<00:00,  4.\n",
      "                 Class     Images  Instances      Box(P          R      mAP50  mAP50-95): 100%|██████████| 4/4 [00:00<0"
     ]
    },
    {
     "name": "stdout",
     "output_type": "stream",
     "text": [
      "                   all        100       1204      0.714       0.79      0.777      0.503\n"
     ]
    },
    {
     "name": "stderr",
     "output_type": "stream",
     "text": [
      "\n"
     ]
    },
    {
     "name": "stdout",
     "output_type": "stream",
     "text": [
      "\n",
      "      Epoch    GPU_mem   box_loss   cls_loss   dfl_loss  Instances       Size\n"
     ]
    },
    {
     "name": "stderr",
     "output_type": "stream",
     "text": [
      "      15/50      5.08G       1.15     0.8539      1.343        372        640: 100%|██████████| 22/22 [00:05<00:00,  4.\n",
      "                 Class     Images  Instances      Box(P          R      mAP50  mAP50-95): 100%|██████████| 4/4 [00:00<0"
     ]
    },
    {
     "name": "stdout",
     "output_type": "stream",
     "text": [
      "                   all        100       1204      0.793      0.803      0.843      0.555\n"
     ]
    },
    {
     "name": "stderr",
     "output_type": "stream",
     "text": [
      "\n"
     ]
    },
    {
     "name": "stdout",
     "output_type": "stream",
     "text": [
      "\n",
      "      Epoch    GPU_mem   box_loss   cls_loss   dfl_loss  Instances       Size\n"
     ]
    },
    {
     "name": "stderr",
     "output_type": "stream",
     "text": [
      "      16/50      5.19G      1.155     0.8441      1.361        263        640: 100%|██████████| 22/22 [00:05<00:00,  4.\n",
      "                 Class     Images  Instances      Box(P          R      mAP50  mAP50-95): 100%|██████████| 4/4 [00:00<0"
     ]
    },
    {
     "name": "stdout",
     "output_type": "stream",
     "text": [
      "                   all        100       1204      0.803      0.829      0.848       0.57\n"
     ]
    },
    {
     "name": "stderr",
     "output_type": "stream",
     "text": [
      "\n"
     ]
    },
    {
     "name": "stdout",
     "output_type": "stream",
     "text": [
      "\n",
      "      Epoch    GPU_mem   box_loss   cls_loss   dfl_loss  Instances       Size\n"
     ]
    },
    {
     "name": "stderr",
     "output_type": "stream",
     "text": [
      "      17/50      5.18G      1.162     0.8705      1.352        326        640: 100%|██████████| 22/22 [00:05<00:00,  4.\n",
      "                 Class     Images  Instances      Box(P          R      mAP50  mAP50-95): 100%|██████████| 4/4 [00:00<0"
     ]
    },
    {
     "name": "stdout",
     "output_type": "stream",
     "text": [
      "                   all        100       1204      0.773      0.787      0.816      0.538\n"
     ]
    },
    {
     "name": "stderr",
     "output_type": "stream",
     "text": [
      "\n"
     ]
    },
    {
     "name": "stdout",
     "output_type": "stream",
     "text": [
      "\n",
      "      Epoch    GPU_mem   box_loss   cls_loss   dfl_loss  Instances       Size\n"
     ]
    },
    {
     "name": "stderr",
     "output_type": "stream",
     "text": [
      "      18/50      5.11G      1.112     0.8116      1.321        399        640: 100%|██████████| 22/22 [00:05<00:00,  4.\n",
      "                 Class     Images  Instances      Box(P          R      mAP50  mAP50-95): 100%|██████████| 4/4 [00:00<0"
     ]
    },
    {
     "name": "stdout",
     "output_type": "stream",
     "text": [
      "                   all        100       1204      0.825      0.822      0.851      0.592\n"
     ]
    },
    {
     "name": "stderr",
     "output_type": "stream",
     "text": [
      "\n"
     ]
    },
    {
     "name": "stdout",
     "output_type": "stream",
     "text": [
      "\n",
      "      Epoch    GPU_mem   box_loss   cls_loss   dfl_loss  Instances       Size\n"
     ]
    },
    {
     "name": "stderr",
     "output_type": "stream",
     "text": [
      "      19/50      5.04G      1.093     0.7787      1.304        295        640: 100%|██████████| 22/22 [00:04<00:00,  4.\n",
      "                 Class     Images  Instances      Box(P          R      mAP50  mAP50-95): 100%|██████████| 4/4 [00:00<0"
     ]
    },
    {
     "name": "stdout",
     "output_type": "stream",
     "text": [
      "                   all        100       1204      0.807      0.836      0.857      0.588\n"
     ]
    },
    {
     "name": "stderr",
     "output_type": "stream",
     "text": [
      "\n"
     ]
    },
    {
     "name": "stdout",
     "output_type": "stream",
     "text": [
      "\n",
      "      Epoch    GPU_mem   box_loss   cls_loss   dfl_loss  Instances       Size\n"
     ]
    },
    {
     "name": "stderr",
     "output_type": "stream",
     "text": [
      "      20/50      5.19G      1.102     0.8111      1.311        283        640: 100%|██████████| 22/22 [00:05<00:00,  4.\n",
      "                 Class     Images  Instances      Box(P          R      mAP50  mAP50-95): 100%|██████████| 4/4 [00:00<0"
     ]
    },
    {
     "name": "stdout",
     "output_type": "stream",
     "text": [
      "                   all        100       1204      0.777      0.799      0.839      0.572\n"
     ]
    },
    {
     "name": "stderr",
     "output_type": "stream",
     "text": [
      "\n"
     ]
    },
    {
     "name": "stdout",
     "output_type": "stream",
     "text": [
      "\n",
      "      Epoch    GPU_mem   box_loss   cls_loss   dfl_loss  Instances       Size\n"
     ]
    },
    {
     "name": "stderr",
     "output_type": "stream",
     "text": [
      "      21/50      5.19G      1.103     0.7939      1.311        392        640: 100%|██████████| 22/22 [00:05<00:00,  4.\n",
      "                 Class     Images  Instances      Box(P          R      mAP50  mAP50-95): 100%|██████████| 4/4 [00:00<0"
     ]
    },
    {
     "name": "stdout",
     "output_type": "stream",
     "text": [
      "                   all        100       1204      0.788      0.874      0.872      0.613\n"
     ]
    },
    {
     "name": "stderr",
     "output_type": "stream",
     "text": [
      "\n"
     ]
    },
    {
     "name": "stdout",
     "output_type": "stream",
     "text": [
      "\n",
      "      Epoch    GPU_mem   box_loss   cls_loss   dfl_loss  Instances       Size\n"
     ]
    },
    {
     "name": "stderr",
     "output_type": "stream",
     "text": [
      "      22/50       5.1G      1.068     0.7569      1.302        231        640: 100%|██████████| 22/22 [00:05<00:00,  4.\n",
      "                 Class     Images  Instances      Box(P          R      mAP50  mAP50-95): 100%|██████████| 4/4 [00:00<0"
     ]
    },
    {
     "name": "stdout",
     "output_type": "stream",
     "text": [
      "                   all        100       1204      0.817      0.825      0.867      0.599\n"
     ]
    },
    {
     "name": "stderr",
     "output_type": "stream",
     "text": [
      "\n"
     ]
    },
    {
     "name": "stdout",
     "output_type": "stream",
     "text": [
      "\n",
      "      Epoch    GPU_mem   box_loss   cls_loss   dfl_loss  Instances       Size\n"
     ]
    },
    {
     "name": "stderr",
     "output_type": "stream",
     "text": [
      "      23/50       5.1G      1.057     0.7471      1.281        328        640: 100%|██████████| 22/22 [00:05<00:00,  4.\n",
      "                 Class     Images  Instances      Box(P          R      mAP50  mAP50-95): 100%|██████████| 4/4 [00:00<0"
     ]
    },
    {
     "name": "stdout",
     "output_type": "stream",
     "text": [
      "                   all        100       1204      0.819       0.86       0.87      0.607\n"
     ]
    },
    {
     "name": "stderr",
     "output_type": "stream",
     "text": [
      "\n"
     ]
    },
    {
     "name": "stdout",
     "output_type": "stream",
     "text": [
      "\n",
      "      Epoch    GPU_mem   box_loss   cls_loss   dfl_loss  Instances       Size\n"
     ]
    },
    {
     "name": "stderr",
     "output_type": "stream",
     "text": [
      "      24/50      5.09G      1.056     0.7418      1.279        314        640: 100%|██████████| 22/22 [00:05<00:00,  4.\n",
      "                 Class     Images  Instances      Box(P          R      mAP50  mAP50-95): 100%|██████████| 4/4 [00:00<0"
     ]
    },
    {
     "name": "stdout",
     "output_type": "stream",
     "text": [
      "                   all        100       1204      0.837      0.845      0.877      0.607\n"
     ]
    },
    {
     "name": "stderr",
     "output_type": "stream",
     "text": [
      "\n"
     ]
    },
    {
     "name": "stdout",
     "output_type": "stream",
     "text": [
      "\n",
      "      Epoch    GPU_mem   box_loss   cls_loss   dfl_loss  Instances       Size\n"
     ]
    },
    {
     "name": "stderr",
     "output_type": "stream",
     "text": [
      "      25/50      5.19G      1.063     0.7548      1.282        327        640: 100%|██████████| 22/22 [00:05<00:00,  4.\n",
      "                 Class     Images  Instances      Box(P          R      mAP50  mAP50-95): 100%|██████████| 4/4 [00:00<0"
     ]
    },
    {
     "name": "stdout",
     "output_type": "stream",
     "text": [
      "                   all        100       1204      0.816      0.826      0.867      0.615\n"
     ]
    },
    {
     "name": "stderr",
     "output_type": "stream",
     "text": [
      "\n"
     ]
    },
    {
     "name": "stdout",
     "output_type": "stream",
     "text": [
      "\n",
      "      Epoch    GPU_mem   box_loss   cls_loss   dfl_loss  Instances       Size\n"
     ]
    },
    {
     "name": "stderr",
     "output_type": "stream",
     "text": [
      "      26/50      5.17G      1.046     0.7306      1.284        285        640: 100%|██████████| 22/22 [00:05<00:00,  4.\n",
      "                 Class     Images  Instances      Box(P          R      mAP50  mAP50-95): 100%|██████████| 4/4 [00:00<0"
     ]
    },
    {
     "name": "stdout",
     "output_type": "stream",
     "text": [
      "                   all        100       1204      0.815      0.836      0.863      0.611\n"
     ]
    },
    {
     "name": "stderr",
     "output_type": "stream",
     "text": [
      "\n"
     ]
    },
    {
     "name": "stdout",
     "output_type": "stream",
     "text": [
      "\n",
      "      Epoch    GPU_mem   box_loss   cls_loss   dfl_loss  Instances       Size\n"
     ]
    },
    {
     "name": "stderr",
     "output_type": "stream",
     "text": [
      "      27/50      5.19G      1.048     0.7253      1.286        396        640: 100%|██████████| 22/22 [00:05<00:00,  4.\n",
      "                 Class     Images  Instances      Box(P          R      mAP50  mAP50-95): 100%|██████████| 4/4 [00:00<0"
     ]
    },
    {
     "name": "stdout",
     "output_type": "stream",
     "text": [
      "                   all        100       1204      0.795      0.837      0.869       0.61\n"
     ]
    },
    {
     "name": "stderr",
     "output_type": "stream",
     "text": [
      "\n"
     ]
    },
    {
     "name": "stdout",
     "output_type": "stream",
     "text": [
      "\n",
      "      Epoch    GPU_mem   box_loss   cls_loss   dfl_loss  Instances       Size\n"
     ]
    },
    {
     "name": "stderr",
     "output_type": "stream",
     "text": [
      "      28/50      5.19G      1.029     0.7161      1.274        254        640: 100%|██████████| 22/22 [00:05<00:00,  4.\n",
      "                 Class     Images  Instances      Box(P          R      mAP50  mAP50-95): 100%|██████████| 4/4 [00:00<0"
     ]
    },
    {
     "name": "stdout",
     "output_type": "stream",
     "text": [
      "                   all        100       1204      0.824      0.855      0.884      0.634\n"
     ]
    },
    {
     "name": "stderr",
     "output_type": "stream",
     "text": [
      "\n"
     ]
    },
    {
     "name": "stdout",
     "output_type": "stream",
     "text": [
      "\n",
      "      Epoch    GPU_mem   box_loss   cls_loss   dfl_loss  Instances       Size\n"
     ]
    },
    {
     "name": "stderr",
     "output_type": "stream",
     "text": [
      "      29/50      5.19G      1.045     0.7075      1.277        313        640: 100%|██████████| 22/22 [00:05<00:00,  4.\n",
      "                 Class     Images  Instances      Box(P          R      mAP50  mAP50-95): 100%|██████████| 4/4 [00:00<0"
     ]
    },
    {
     "name": "stdout",
     "output_type": "stream",
     "text": [
      "                   all        100       1204      0.821      0.861      0.883      0.634\n"
     ]
    },
    {
     "name": "stderr",
     "output_type": "stream",
     "text": [
      "\n"
     ]
    },
    {
     "name": "stdout",
     "output_type": "stream",
     "text": [
      "\n",
      "      Epoch    GPU_mem   box_loss   cls_loss   dfl_loss  Instances       Size\n"
     ]
    },
    {
     "name": "stderr",
     "output_type": "stream",
     "text": [
      "      30/50      5.06G       1.02     0.6988      1.266        342        640: 100%|██████████| 22/22 [00:05<00:00,  4.\n",
      "                 Class     Images  Instances      Box(P          R      mAP50  mAP50-95): 100%|██████████| 4/4 [00:00<0"
     ]
    },
    {
     "name": "stdout",
     "output_type": "stream",
     "text": [
      "                   all        100       1204      0.814      0.847      0.876      0.633\n"
     ]
    },
    {
     "name": "stderr",
     "output_type": "stream",
     "text": [
      "\n"
     ]
    },
    {
     "name": "stdout",
     "output_type": "stream",
     "text": [
      "\n",
      "      Epoch    GPU_mem   box_loss   cls_loss   dfl_loss  Instances       Size\n"
     ]
    },
    {
     "name": "stderr",
     "output_type": "stream",
     "text": [
      "      31/50      5.18G      1.006      0.687       1.25        290        640: 100%|██████████| 22/22 [00:05<00:00,  4.\n",
      "                 Class     Images  Instances      Box(P          R      mAP50  mAP50-95): 100%|██████████| 4/4 [00:00<0"
     ]
    },
    {
     "name": "stdout",
     "output_type": "stream",
     "text": [
      "                   all        100       1204        0.8      0.857      0.871      0.621\n"
     ]
    },
    {
     "name": "stderr",
     "output_type": "stream",
     "text": [
      "\n"
     ]
    },
    {
     "name": "stdout",
     "output_type": "stream",
     "text": [
      "\n",
      "      Epoch    GPU_mem   box_loss   cls_loss   dfl_loss  Instances       Size\n"
     ]
    },
    {
     "name": "stderr",
     "output_type": "stream",
     "text": [
      "      32/50      5.07G     0.9893     0.6763      1.254        332        640: 100%|██████████| 22/22 [00:05<00:00,  4.\n",
      "                 Class     Images  Instances      Box(P          R      mAP50  mAP50-95): 100%|██████████| 4/4 [00:00<0"
     ]
    },
    {
     "name": "stdout",
     "output_type": "stream",
     "text": [
      "                   all        100       1204      0.796      0.881      0.884      0.629\n"
     ]
    },
    {
     "name": "stderr",
     "output_type": "stream",
     "text": [
      "\n"
     ]
    },
    {
     "name": "stdout",
     "output_type": "stream",
     "text": [
      "\n",
      "      Epoch    GPU_mem   box_loss   cls_loss   dfl_loss  Instances       Size\n"
     ]
    },
    {
     "name": "stderr",
     "output_type": "stream",
     "text": [
      "      33/50      5.17G      1.016     0.7029      1.263        274        640: 100%|██████████| 22/22 [00:05<00:00,  4.\n",
      "                 Class     Images  Instances      Box(P          R      mAP50  mAP50-95): 100%|██████████| 4/4 [00:00<0"
     ]
    },
    {
     "name": "stdout",
     "output_type": "stream",
     "text": [
      "                   all        100       1204      0.848       0.87       0.89       0.65\n"
     ]
    },
    {
     "name": "stderr",
     "output_type": "stream",
     "text": [
      "\n"
     ]
    },
    {
     "name": "stdout",
     "output_type": "stream",
     "text": [
      "\n",
      "      Epoch    GPU_mem   box_loss   cls_loss   dfl_loss  Instances       Size\n"
     ]
    },
    {
     "name": "stderr",
     "output_type": "stream",
     "text": [
      "      34/50      5.09G     0.9761     0.6739       1.23        318        640: 100%|██████████| 22/22 [00:05<00:00,  4.\n",
      "                 Class     Images  Instances      Box(P          R      mAP50  mAP50-95): 100%|██████████| 4/4 [00:00<0"
     ]
    },
    {
     "name": "stdout",
     "output_type": "stream",
     "text": [
      "                   all        100       1204      0.812      0.862      0.882      0.632\n"
     ]
    },
    {
     "name": "stderr",
     "output_type": "stream",
     "text": [
      "\n"
     ]
    },
    {
     "name": "stdout",
     "output_type": "stream",
     "text": [
      "\n",
      "      Epoch    GPU_mem   box_loss   cls_loss   dfl_loss  Instances       Size\n"
     ]
    },
    {
     "name": "stderr",
     "output_type": "stream",
     "text": [
      "      35/50      5.08G     0.9711     0.6555      1.219        341        640: 100%|██████████| 22/22 [00:05<00:00,  4.\n",
      "                 Class     Images  Instances      Box(P          R      mAP50  mAP50-95): 100%|██████████| 4/4 [00:00<0"
     ]
    },
    {
     "name": "stdout",
     "output_type": "stream",
     "text": [
      "                   all        100       1204      0.825      0.864      0.891      0.645\n"
     ]
    },
    {
     "name": "stderr",
     "output_type": "stream",
     "text": [
      "\n"
     ]
    },
    {
     "name": "stdout",
     "output_type": "stream",
     "text": [
      "\n",
      "      Epoch    GPU_mem   box_loss   cls_loss   dfl_loss  Instances       Size\n"
     ]
    },
    {
     "name": "stderr",
     "output_type": "stream",
     "text": [
      "      36/50      5.09G     0.9675     0.6546      1.219        346        640: 100%|██████████| 22/22 [00:05<00:00,  4.\n",
      "                 Class     Images  Instances      Box(P          R      mAP50  mAP50-95): 100%|██████████| 4/4 [00:00<0"
     ]
    },
    {
     "name": "stdout",
     "output_type": "stream",
     "text": [
      "                   all        100       1204      0.836      0.846      0.887      0.649\n"
     ]
    },
    {
     "name": "stderr",
     "output_type": "stream",
     "text": [
      "\n"
     ]
    },
    {
     "name": "stdout",
     "output_type": "stream",
     "text": [
      "\n",
      "      Epoch    GPU_mem   box_loss   cls_loss   dfl_loss  Instances       Size\n"
     ]
    },
    {
     "name": "stderr",
     "output_type": "stream",
     "text": [
      "      37/50      5.02G     0.9551     0.6413      1.232        346        640: 100%|██████████| 22/22 [00:05<00:00,  4.\n",
      "                 Class     Images  Instances      Box(P          R      mAP50  mAP50-95): 100%|██████████| 4/4 [00:00<0"
     ]
    },
    {
     "name": "stdout",
     "output_type": "stream",
     "text": [
      "                   all        100       1204      0.849      0.843      0.891      0.646\n"
     ]
    },
    {
     "name": "stderr",
     "output_type": "stream",
     "text": [
      "\n"
     ]
    },
    {
     "name": "stdout",
     "output_type": "stream",
     "text": [
      "\n",
      "      Epoch    GPU_mem   box_loss   cls_loss   dfl_loss  Instances       Size\n"
     ]
    },
    {
     "name": "stderr",
     "output_type": "stream",
     "text": [
      "      38/50      5.08G     0.9453     0.6225      1.218        299        640: 100%|██████████| 22/22 [00:05<00:00,  4.\n",
      "                 Class     Images  Instances      Box(P          R      mAP50  mAP50-95): 100%|██████████| 4/4 [00:00<0"
     ]
    },
    {
     "name": "stdout",
     "output_type": "stream",
     "text": [
      "                   all        100       1204      0.835       0.86      0.893      0.657\n"
     ]
    },
    {
     "name": "stderr",
     "output_type": "stream",
     "text": [
      "\n"
     ]
    },
    {
     "name": "stdout",
     "output_type": "stream",
     "text": [
      "\n",
      "      Epoch    GPU_mem   box_loss   cls_loss   dfl_loss  Instances       Size\n"
     ]
    },
    {
     "name": "stderr",
     "output_type": "stream",
     "text": [
      "      39/50      5.18G     0.9434     0.6207      1.223        253        640: 100%|██████████| 22/22 [00:05<00:00,  4.\n",
      "                 Class     Images  Instances      Box(P          R      mAP50  mAP50-95): 100%|██████████| 4/4 [00:00<0"
     ]
    },
    {
     "name": "stdout",
     "output_type": "stream",
     "text": [
      "                   all        100       1204      0.825      0.865      0.887      0.657\n"
     ]
    },
    {
     "name": "stderr",
     "output_type": "stream",
     "text": [
      "\n"
     ]
    },
    {
     "name": "stdout",
     "output_type": "stream",
     "text": [
      "\n",
      "      Epoch    GPU_mem   box_loss   cls_loss   dfl_loss  Instances       Size\n"
     ]
    },
    {
     "name": "stderr",
     "output_type": "stream",
     "text": [
      "      40/50      5.05G     0.9258     0.6264      1.209        326        640: 100%|██████████| 22/22 [00:05<00:00,  4.\n",
      "                 Class     Images  Instances      Box(P          R      mAP50  mAP50-95): 100%|██████████| 4/4 [00:00<0"
     ]
    },
    {
     "name": "stdout",
     "output_type": "stream",
     "text": [
      "                   all        100       1204      0.829      0.843       0.88      0.647\n"
     ]
    },
    {
     "name": "stderr",
     "output_type": "stream",
     "text": [
      "\n"
     ]
    },
    {
     "name": "stdout",
     "output_type": "stream",
     "text": [
      "Closing dataloader mosaic\n",
      "\n",
      "      Epoch    GPU_mem   box_loss   cls_loss   dfl_loss  Instances       Size\n"
     ]
    },
    {
     "name": "stderr",
     "output_type": "stream",
     "text": [
      "      41/50      5.13G      0.998     0.7392      1.292        168        640: 100%|██████████| 22/22 [00:05<00:00,  4.\n",
      "                 Class     Images  Instances      Box(P          R      mAP50  mAP50-95): 100%|██████████| 4/4 [00:00<0"
     ]
    },
    {
     "name": "stdout",
     "output_type": "stream",
     "text": [
      "                   all        100       1204      0.858       0.85      0.887      0.653\n"
     ]
    },
    {
     "name": "stderr",
     "output_type": "stream",
     "text": [
      "\n"
     ]
    },
    {
     "name": "stdout",
     "output_type": "stream",
     "text": [
      "\n",
      "      Epoch    GPU_mem   box_loss   cls_loss   dfl_loss  Instances       Size\n"
     ]
    },
    {
     "name": "stderr",
     "output_type": "stream",
     "text": [
      "      42/50      5.11G     0.9433      0.612      1.236        131        640: 100%|██████████| 22/22 [00:04<00:00,  4.\n",
      "                 Class     Images  Instances      Box(P          R      mAP50  mAP50-95): 100%|██████████| 4/4 [00:00<0"
     ]
    },
    {
     "name": "stdout",
     "output_type": "stream",
     "text": [
      "                   all        100       1204      0.862      0.843      0.898      0.655\n"
     ]
    },
    {
     "name": "stderr",
     "output_type": "stream",
     "text": [
      "\n"
     ]
    },
    {
     "name": "stdout",
     "output_type": "stream",
     "text": [
      "\n",
      "      Epoch    GPU_mem   box_loss   cls_loss   dfl_loss  Instances       Size\n"
     ]
    },
    {
     "name": "stderr",
     "output_type": "stream",
     "text": [
      "      43/50      5.13G     0.9362     0.5825      1.209        138        640: 100%|██████████| 22/22 [00:04<00:00,  4.\n",
      "                 Class     Images  Instances      Box(P          R      mAP50  mAP50-95): 100%|██████████| 4/4 [00:00<0"
     ]
    },
    {
     "name": "stdout",
     "output_type": "stream",
     "text": [
      "                   all        100       1204       0.85      0.847      0.896      0.654\n"
     ]
    },
    {
     "name": "stderr",
     "output_type": "stream",
     "text": [
      "\n"
     ]
    },
    {
     "name": "stdout",
     "output_type": "stream",
     "text": [
      "\n",
      "      Epoch    GPU_mem   box_loss   cls_loss   dfl_loss  Instances       Size\n"
     ]
    },
    {
     "name": "stderr",
     "output_type": "stream",
     "text": [
      "      44/50       5.1G     0.9092     0.5566      1.201        159        640: 100%|██████████| 22/22 [00:04<00:00,  4.\n",
      "                 Class     Images  Instances      Box(P          R      mAP50  mAP50-95): 100%|██████████| 4/4 [00:00<0"
     ]
    },
    {
     "name": "stdout",
     "output_type": "stream",
     "text": [
      "                   all        100       1204      0.827      0.875      0.895       0.65\n"
     ]
    },
    {
     "name": "stderr",
     "output_type": "stream",
     "text": [
      "\n"
     ]
    },
    {
     "name": "stdout",
     "output_type": "stream",
     "text": [
      "\n",
      "      Epoch    GPU_mem   box_loss   cls_loss   dfl_loss  Instances       Size\n"
     ]
    },
    {
     "name": "stderr",
     "output_type": "stream",
     "text": [
      "      45/50      5.13G      0.909     0.5576      1.192        144        640: 100%|██████████| 22/22 [00:04<00:00,  4.\n",
      "                 Class     Images  Instances      Box(P          R      mAP50  mAP50-95): 100%|██████████| 4/4 [00:00<0"
     ]
    },
    {
     "name": "stdout",
     "output_type": "stream",
     "text": [
      "                   all        100       1204      0.847      0.848      0.896      0.651\n"
     ]
    },
    {
     "name": "stderr",
     "output_type": "stream",
     "text": [
      "\n"
     ]
    },
    {
     "name": "stdout",
     "output_type": "stream",
     "text": [
      "\n",
      "      Epoch    GPU_mem   box_loss   cls_loss   dfl_loss  Instances       Size\n"
     ]
    },
    {
     "name": "stderr",
     "output_type": "stream",
     "text": [
      "      46/50       5.1G     0.8986      0.544      1.183        148        640: 100%|██████████| 22/22 [00:04<00:00,  4.\n",
      "                 Class     Images  Instances      Box(P          R      mAP50  mAP50-95): 100%|██████████| 4/4 [00:00<0"
     ]
    },
    {
     "name": "stdout",
     "output_type": "stream",
     "text": [
      "                   all        100       1204      0.834      0.868        0.9      0.666\n"
     ]
    },
    {
     "name": "stderr",
     "output_type": "stream",
     "text": [
      "\n"
     ]
    },
    {
     "name": "stdout",
     "output_type": "stream",
     "text": [
      "\n",
      "      Epoch    GPU_mem   box_loss   cls_loss   dfl_loss  Instances       Size\n"
     ]
    },
    {
     "name": "stderr",
     "output_type": "stream",
     "text": [
      "      47/50       5.1G      0.899      0.532      1.183        151        640: 100%|██████████| 22/22 [00:04<00:00,  4.\n",
      "                 Class     Images  Instances      Box(P          R      mAP50  mAP50-95): 100%|██████████| 4/4 [00:00<0"
     ]
    },
    {
     "name": "stdout",
     "output_type": "stream",
     "text": [
      "                   all        100       1204      0.848      0.857      0.903      0.674\n"
     ]
    },
    {
     "name": "stderr",
     "output_type": "stream",
     "text": [
      "\n"
     ]
    },
    {
     "name": "stdout",
     "output_type": "stream",
     "text": [
      "\n",
      "      Epoch    GPU_mem   box_loss   cls_loss   dfl_loss  Instances       Size\n"
     ]
    },
    {
     "name": "stderr",
     "output_type": "stream",
     "text": [
      "      48/50      5.13G     0.8855     0.5291      1.174        163        640: 100%|██████████| 22/22 [00:05<00:00,  4.\n",
      "                 Class     Images  Instances      Box(P          R      mAP50  mAP50-95): 100%|██████████| 4/4 [00:00<0"
     ]
    },
    {
     "name": "stdout",
     "output_type": "stream",
     "text": [
      "                   all        100       1204      0.847       0.86      0.899      0.666\n"
     ]
    },
    {
     "name": "stderr",
     "output_type": "stream",
     "text": [
      "\n"
     ]
    },
    {
     "name": "stdout",
     "output_type": "stream",
     "text": [
      "\n",
      "      Epoch    GPU_mem   box_loss   cls_loss   dfl_loss  Instances       Size\n"
     ]
    },
    {
     "name": "stderr",
     "output_type": "stream",
     "text": [
      "      49/50      5.13G     0.8823     0.5241      1.163        163        640: 100%|██████████| 22/22 [00:04<00:00,  4.\n",
      "                 Class     Images  Instances      Box(P          R      mAP50  mAP50-95): 100%|██████████| 4/4 [00:00<0"
     ]
    },
    {
     "name": "stdout",
     "output_type": "stream",
     "text": [
      "                   all        100       1204       0.84      0.877      0.903      0.675\n"
     ]
    },
    {
     "name": "stderr",
     "output_type": "stream",
     "text": [
      "\n"
     ]
    },
    {
     "name": "stdout",
     "output_type": "stream",
     "text": [
      "\n",
      "      Epoch    GPU_mem   box_loss   cls_loss   dfl_loss  Instances       Size\n"
     ]
    },
    {
     "name": "stderr",
     "output_type": "stream",
     "text": [
      "      50/50       5.1G     0.8743      0.519      1.172        166        640: 100%|██████████| 22/22 [00:04<00:00,  4.\n",
      "                 Class     Images  Instances      Box(P          R      mAP50  mAP50-95): 100%|██████████| 4/4 [00:00<0"
     ]
    },
    {
     "name": "stdout",
     "output_type": "stream",
     "text": [
      "                   all        100       1204      0.849      0.867      0.904      0.678\n"
     ]
    },
    {
     "name": "stderr",
     "output_type": "stream",
     "text": [
      "\n"
     ]
    },
    {
     "name": "stdout",
     "output_type": "stream",
     "text": [
      "\n",
      "50 epochs completed in 0.092 hours.\n",
      "Optimizer stripped from runs\\detect\\train9\\weights\\last.pt, 15.2MB\n",
      "Optimizer stripped from runs\\detect\\train9\\weights\\best.pt, 15.2MB\n",
      "\n",
      "Validating runs\\detect\\train9\\weights\\best.pt...\n",
      "Ultralytics 8.3.65  Python-3.9.21 torch-2.5.1+cu124 CUDA:0 (NVIDIA GeForce RTX 4060 Ti, 8188MiB)\n",
      "YOLOv9s summary (fused): 486 layers, 7,167,862 parameters, 0 gradients, 26.7 GFLOPs\n"
     ]
    },
    {
     "name": "stderr",
     "output_type": "stream",
     "text": [
      "                 Class     Images  Instances      Box(P          R      mAP50  mAP50-95): 100%|██████████| 4/4 [00:00<0\n"
     ]
    },
    {
     "name": "stdout",
     "output_type": "stream",
     "text": [
      "                   all        100       1204      0.849      0.867      0.904      0.678\n",
      "                 maize        100        602      0.922      0.961      0.976      0.762\n",
      "                  weed        100        602      0.777      0.774      0.832      0.595\n",
      "Speed: 0.2ms preprocess, 2.0ms inference, 0.0ms loss, 0.7ms postprocess per image\n",
      "Results saved to \u001b[1mruns\\detect\\train9\u001b[0m\n"
     ]
    },
    {
     "data": {
      "text/plain": [
       "ultralytics.utils.metrics.DetMetrics object with attributes:\n",
       "\n",
       "ap_class_index: array([0, 1])\n",
       "box: ultralytics.utils.metrics.Metric object\n",
       "confusion_matrix: <ultralytics.utils.metrics.ConfusionMatrix object at 0x00000254A86231F0>\n",
       "curves: ['Precision-Recall(B)', 'F1-Confidence(B)', 'Precision-Confidence(B)', 'Recall-Confidence(B)']\n",
       "curves_results: [[array([          0,    0.001001,    0.002002,    0.003003,    0.004004,    0.005005,    0.006006,    0.007007,    0.008008,    0.009009,     0.01001,    0.011011,    0.012012,    0.013013,    0.014014,    0.015015,    0.016016,    0.017017,    0.018018,    0.019019,     0.02002,    0.021021,    0.022022,    0.023023,\n",
       "          0.024024,    0.025025,    0.026026,    0.027027,    0.028028,    0.029029,     0.03003,    0.031031,    0.032032,    0.033033,    0.034034,    0.035035,    0.036036,    0.037037,    0.038038,    0.039039,     0.04004,    0.041041,    0.042042,    0.043043,    0.044044,    0.045045,    0.046046,    0.047047,\n",
       "          0.048048,    0.049049,     0.05005,    0.051051,    0.052052,    0.053053,    0.054054,    0.055055,    0.056056,    0.057057,    0.058058,    0.059059,     0.06006,    0.061061,    0.062062,    0.063063,    0.064064,    0.065065,    0.066066,    0.067067,    0.068068,    0.069069,     0.07007,    0.071071,\n",
       "          0.072072,    0.073073,    0.074074,    0.075075,    0.076076,    0.077077,    0.078078,    0.079079,     0.08008,    0.081081,    0.082082,    0.083083,    0.084084,    0.085085,    0.086086,    0.087087,    0.088088,    0.089089,     0.09009,    0.091091,    0.092092,    0.093093,    0.094094,    0.095095,\n",
       "          0.096096,    0.097097,    0.098098,    0.099099,      0.1001,      0.1011,      0.1021,      0.1031,      0.1041,     0.10511,     0.10611,     0.10711,     0.10811,     0.10911,     0.11011,     0.11111,     0.11211,     0.11311,     0.11411,     0.11512,     0.11612,     0.11712,     0.11812,     0.11912,\n",
       "           0.12012,     0.12112,     0.12212,     0.12312,     0.12412,     0.12513,     0.12613,     0.12713,     0.12813,     0.12913,     0.13013,     0.13113,     0.13213,     0.13313,     0.13413,     0.13514,     0.13614,     0.13714,     0.13814,     0.13914,     0.14014,     0.14114,     0.14214,     0.14314,\n",
       "           0.14414,     0.14515,     0.14615,     0.14715,     0.14815,     0.14915,     0.15015,     0.15115,     0.15215,     0.15315,     0.15415,     0.15516,     0.15616,     0.15716,     0.15816,     0.15916,     0.16016,     0.16116,     0.16216,     0.16316,     0.16416,     0.16517,     0.16617,     0.16717,\n",
       "           0.16817,     0.16917,     0.17017,     0.17117,     0.17217,     0.17317,     0.17417,     0.17518,     0.17618,     0.17718,     0.17818,     0.17918,     0.18018,     0.18118,     0.18218,     0.18318,     0.18418,     0.18519,     0.18619,     0.18719,     0.18819,     0.18919,     0.19019,     0.19119,\n",
       "           0.19219,     0.19319,     0.19419,      0.1952,      0.1962,      0.1972,      0.1982,      0.1992,      0.2002,      0.2012,      0.2022,      0.2032,      0.2042,     0.20521,     0.20621,     0.20721,     0.20821,     0.20921,     0.21021,     0.21121,     0.21221,     0.21321,     0.21421,     0.21522,\n",
       "           0.21622,     0.21722,     0.21822,     0.21922,     0.22022,     0.22122,     0.22222,     0.22322,     0.22422,     0.22523,     0.22623,     0.22723,     0.22823,     0.22923,     0.23023,     0.23123,     0.23223,     0.23323,     0.23423,     0.23524,     0.23624,     0.23724,     0.23824,     0.23924,\n",
       "           0.24024,     0.24124,     0.24224,     0.24324,     0.24424,     0.24525,     0.24625,     0.24725,     0.24825,     0.24925,     0.25025,     0.25125,     0.25225,     0.25325,     0.25425,     0.25526,     0.25626,     0.25726,     0.25826,     0.25926,     0.26026,     0.26126,     0.26226,     0.26326,\n",
       "           0.26426,     0.26527,     0.26627,     0.26727,     0.26827,     0.26927,     0.27027,     0.27127,     0.27227,     0.27327,     0.27427,     0.27528,     0.27628,     0.27728,     0.27828,     0.27928,     0.28028,     0.28128,     0.28228,     0.28328,     0.28428,     0.28529,     0.28629,     0.28729,\n",
       "           0.28829,     0.28929,     0.29029,     0.29129,     0.29229,     0.29329,     0.29429,      0.2953,      0.2963,      0.2973,      0.2983,      0.2993,      0.3003,      0.3013,      0.3023,      0.3033,      0.3043,     0.30531,     0.30631,     0.30731,     0.30831,     0.30931,     0.31031,     0.31131,\n",
       "           0.31231,     0.31331,     0.31431,     0.31532,     0.31632,     0.31732,     0.31832,     0.31932,     0.32032,     0.32132,     0.32232,     0.32332,     0.32432,     0.32533,     0.32633,     0.32733,     0.32833,     0.32933,     0.33033,     0.33133,     0.33233,     0.33333,     0.33433,     0.33534,\n",
       "           0.33634,     0.33734,     0.33834,     0.33934,     0.34034,     0.34134,     0.34234,     0.34334,     0.34434,     0.34535,     0.34635,     0.34735,     0.34835,     0.34935,     0.35035,     0.35135,     0.35235,     0.35335,     0.35435,     0.35536,     0.35636,     0.35736,     0.35836,     0.35936,\n",
       "           0.36036,     0.36136,     0.36236,     0.36336,     0.36436,     0.36537,     0.36637,     0.36737,     0.36837,     0.36937,     0.37037,     0.37137,     0.37237,     0.37337,     0.37437,     0.37538,     0.37638,     0.37738,     0.37838,     0.37938,     0.38038,     0.38138,     0.38238,     0.38338,\n",
       "           0.38438,     0.38539,     0.38639,     0.38739,     0.38839,     0.38939,     0.39039,     0.39139,     0.39239,     0.39339,     0.39439,      0.3954,      0.3964,      0.3974,      0.3984,      0.3994,      0.4004,      0.4014,      0.4024,      0.4034,      0.4044,     0.40541,     0.40641,     0.40741,\n",
       "           0.40841,     0.40941,     0.41041,     0.41141,     0.41241,     0.41341,     0.41441,     0.41542,     0.41642,     0.41742,     0.41842,     0.41942,     0.42042,     0.42142,     0.42242,     0.42342,     0.42442,     0.42543,     0.42643,     0.42743,     0.42843,     0.42943,     0.43043,     0.43143,\n",
       "           0.43243,     0.43343,     0.43443,     0.43544,     0.43644,     0.43744,     0.43844,     0.43944,     0.44044,     0.44144,     0.44244,     0.44344,     0.44444,     0.44545,     0.44645,     0.44745,     0.44845,     0.44945,     0.45045,     0.45145,     0.45245,     0.45345,     0.45445,     0.45546,\n",
       "           0.45646,     0.45746,     0.45846,     0.45946,     0.46046,     0.46146,     0.46246,     0.46346,     0.46446,     0.46547,     0.46647,     0.46747,     0.46847,     0.46947,     0.47047,     0.47147,     0.47247,     0.47347,     0.47447,     0.47548,     0.47648,     0.47748,     0.47848,     0.47948,\n",
       "           0.48048,     0.48148,     0.48248,     0.48348,     0.48448,     0.48549,     0.48649,     0.48749,     0.48849,     0.48949,     0.49049,     0.49149,     0.49249,     0.49349,     0.49449,      0.4955,      0.4965,      0.4975,      0.4985,      0.4995,      0.5005,      0.5015,      0.5025,      0.5035,\n",
       "            0.5045,     0.50551,     0.50651,     0.50751,     0.50851,     0.50951,     0.51051,     0.51151,     0.51251,     0.51351,     0.51451,     0.51552,     0.51652,     0.51752,     0.51852,     0.51952,     0.52052,     0.52152,     0.52252,     0.52352,     0.52452,     0.52553,     0.52653,     0.52753,\n",
       "           0.52853,     0.52953,     0.53053,     0.53153,     0.53253,     0.53353,     0.53453,     0.53554,     0.53654,     0.53754,     0.53854,     0.53954,     0.54054,     0.54154,     0.54254,     0.54354,     0.54454,     0.54555,     0.54655,     0.54755,     0.54855,     0.54955,     0.55055,     0.55155,\n",
       "           0.55255,     0.55355,     0.55455,     0.55556,     0.55656,     0.55756,     0.55856,     0.55956,     0.56056,     0.56156,     0.56256,     0.56356,     0.56456,     0.56557,     0.56657,     0.56757,     0.56857,     0.56957,     0.57057,     0.57157,     0.57257,     0.57357,     0.57457,     0.57558,\n",
       "           0.57658,     0.57758,     0.57858,     0.57958,     0.58058,     0.58158,     0.58258,     0.58358,     0.58458,     0.58559,     0.58659,     0.58759,     0.58859,     0.58959,     0.59059,     0.59159,     0.59259,     0.59359,     0.59459,      0.5956,      0.5966,      0.5976,      0.5986,      0.5996,\n",
       "            0.6006,      0.6016,      0.6026,      0.6036,      0.6046,     0.60561,     0.60661,     0.60761,     0.60861,     0.60961,     0.61061,     0.61161,     0.61261,     0.61361,     0.61461,     0.61562,     0.61662,     0.61762,     0.61862,     0.61962,     0.62062,     0.62162,     0.62262,     0.62362,\n",
       "           0.62462,     0.62563,     0.62663,     0.62763,     0.62863,     0.62963,     0.63063,     0.63163,     0.63263,     0.63363,     0.63463,     0.63564,     0.63664,     0.63764,     0.63864,     0.63964,     0.64064,     0.64164,     0.64264,     0.64364,     0.64464,     0.64565,     0.64665,     0.64765,\n",
       "           0.64865,     0.64965,     0.65065,     0.65165,     0.65265,     0.65365,     0.65465,     0.65566,     0.65666,     0.65766,     0.65866,     0.65966,     0.66066,     0.66166,     0.66266,     0.66366,     0.66466,     0.66567,     0.66667,     0.66767,     0.66867,     0.66967,     0.67067,     0.67167,\n",
       "           0.67267,     0.67367,     0.67467,     0.67568,     0.67668,     0.67768,     0.67868,     0.67968,     0.68068,     0.68168,     0.68268,     0.68368,     0.68468,     0.68569,     0.68669,     0.68769,     0.68869,     0.68969,     0.69069,     0.69169,     0.69269,     0.69369,     0.69469,      0.6957,\n",
       "            0.6967,      0.6977,      0.6987,      0.6997,      0.7007,      0.7017,      0.7027,      0.7037,      0.7047,     0.70571,     0.70671,     0.70771,     0.70871,     0.70971,     0.71071,     0.71171,     0.71271,     0.71371,     0.71471,     0.71572,     0.71672,     0.71772,     0.71872,     0.71972,\n",
       "           0.72072,     0.72172,     0.72272,     0.72372,     0.72472,     0.72573,     0.72673,     0.72773,     0.72873,     0.72973,     0.73073,     0.73173,     0.73273,     0.73373,     0.73473,     0.73574,     0.73674,     0.73774,     0.73874,     0.73974,     0.74074,     0.74174,     0.74274,     0.74374,\n",
       "           0.74474,     0.74575,     0.74675,     0.74775,     0.74875,     0.74975,     0.75075,     0.75175,     0.75275,     0.75375,     0.75475,     0.75576,     0.75676,     0.75776,     0.75876,     0.75976,     0.76076,     0.76176,     0.76276,     0.76376,     0.76476,     0.76577,     0.76677,     0.76777,\n",
       "           0.76877,     0.76977,     0.77077,     0.77177,     0.77277,     0.77377,     0.77477,     0.77578,     0.77678,     0.77778,     0.77878,     0.77978,     0.78078,     0.78178,     0.78278,     0.78378,     0.78478,     0.78579,     0.78679,     0.78779,     0.78879,     0.78979,     0.79079,     0.79179,\n",
       "           0.79279,     0.79379,     0.79479,      0.7958,      0.7968,      0.7978,      0.7988,      0.7998,      0.8008,      0.8018,      0.8028,      0.8038,      0.8048,     0.80581,     0.80681,     0.80781,     0.80881,     0.80981,     0.81081,     0.81181,     0.81281,     0.81381,     0.81481,     0.81582,\n",
       "           0.81682,     0.81782,     0.81882,     0.81982,     0.82082,     0.82182,     0.82282,     0.82382,     0.82482,     0.82583,     0.82683,     0.82783,     0.82883,     0.82983,     0.83083,     0.83183,     0.83283,     0.83383,     0.83483,     0.83584,     0.83684,     0.83784,     0.83884,     0.83984,\n",
       "           0.84084,     0.84184,     0.84284,     0.84384,     0.84484,     0.84585,     0.84685,     0.84785,     0.84885,     0.84985,     0.85085,     0.85185,     0.85285,     0.85385,     0.85485,     0.85586,     0.85686,     0.85786,     0.85886,     0.85986,     0.86086,     0.86186,     0.86286,     0.86386,\n",
       "           0.86486,     0.86587,     0.86687,     0.86787,     0.86887,     0.86987,     0.87087,     0.87187,     0.87287,     0.87387,     0.87487,     0.87588,     0.87688,     0.87788,     0.87888,     0.87988,     0.88088,     0.88188,     0.88288,     0.88388,     0.88488,     0.88589,     0.88689,     0.88789,\n",
       "           0.88889,     0.88989,     0.89089,     0.89189,     0.89289,     0.89389,     0.89489,      0.8959,      0.8969,      0.8979,      0.8989,      0.8999,      0.9009,      0.9019,      0.9029,      0.9039,      0.9049,     0.90591,     0.90691,     0.90791,     0.90891,     0.90991,     0.91091,     0.91191,\n",
       "           0.91291,     0.91391,     0.91491,     0.91592,     0.91692,     0.91792,     0.91892,     0.91992,     0.92092,     0.92192,     0.92292,     0.92392,     0.92492,     0.92593,     0.92693,     0.92793,     0.92893,     0.92993,     0.93093,     0.93193,     0.93293,     0.93393,     0.93493,     0.93594,\n",
       "           0.93694,     0.93794,     0.93894,     0.93994,     0.94094,     0.94194,     0.94294,     0.94394,     0.94494,     0.94595,     0.94695,     0.94795,     0.94895,     0.94995,     0.95095,     0.95195,     0.95295,     0.95395,     0.95495,     0.95596,     0.95696,     0.95796,     0.95896,     0.95996,\n",
       "           0.96096,     0.96196,     0.96296,     0.96396,     0.96496,     0.96597,     0.96697,     0.96797,     0.96897,     0.96997,     0.97097,     0.97197,     0.97297,     0.97397,     0.97497,     0.97598,     0.97698,     0.97798,     0.97898,     0.97998,     0.98098,     0.98198,     0.98298,     0.98398,\n",
       "           0.98498,     0.98599,     0.98699,     0.98799,     0.98899,     0.98999,     0.99099,     0.99199,     0.99299,     0.99399,     0.99499,       0.996,       0.997,       0.998,       0.999,           1]), array([[          1,           1,           1, ...,    0.091928,    0.045964,           0],\n",
       "       [          1,           1,           1, ...,   0.0091106,   0.0045553,           0]]), 'Recall', 'Precision'], [array([          0,    0.001001,    0.002002,    0.003003,    0.004004,    0.005005,    0.006006,    0.007007,    0.008008,    0.009009,     0.01001,    0.011011,    0.012012,    0.013013,    0.014014,    0.015015,    0.016016,    0.017017,    0.018018,    0.019019,     0.02002,    0.021021,    0.022022,    0.023023,\n",
       "          0.024024,    0.025025,    0.026026,    0.027027,    0.028028,    0.029029,     0.03003,    0.031031,    0.032032,    0.033033,    0.034034,    0.035035,    0.036036,    0.037037,    0.038038,    0.039039,     0.04004,    0.041041,    0.042042,    0.043043,    0.044044,    0.045045,    0.046046,    0.047047,\n",
       "          0.048048,    0.049049,     0.05005,    0.051051,    0.052052,    0.053053,    0.054054,    0.055055,    0.056056,    0.057057,    0.058058,    0.059059,     0.06006,    0.061061,    0.062062,    0.063063,    0.064064,    0.065065,    0.066066,    0.067067,    0.068068,    0.069069,     0.07007,    0.071071,\n",
       "          0.072072,    0.073073,    0.074074,    0.075075,    0.076076,    0.077077,    0.078078,    0.079079,     0.08008,    0.081081,    0.082082,    0.083083,    0.084084,    0.085085,    0.086086,    0.087087,    0.088088,    0.089089,     0.09009,    0.091091,    0.092092,    0.093093,    0.094094,    0.095095,\n",
       "          0.096096,    0.097097,    0.098098,    0.099099,      0.1001,      0.1011,      0.1021,      0.1031,      0.1041,     0.10511,     0.10611,     0.10711,     0.10811,     0.10911,     0.11011,     0.11111,     0.11211,     0.11311,     0.11411,     0.11512,     0.11612,     0.11712,     0.11812,     0.11912,\n",
       "           0.12012,     0.12112,     0.12212,     0.12312,     0.12412,     0.12513,     0.12613,     0.12713,     0.12813,     0.12913,     0.13013,     0.13113,     0.13213,     0.13313,     0.13413,     0.13514,     0.13614,     0.13714,     0.13814,     0.13914,     0.14014,     0.14114,     0.14214,     0.14314,\n",
       "           0.14414,     0.14515,     0.14615,     0.14715,     0.14815,     0.14915,     0.15015,     0.15115,     0.15215,     0.15315,     0.15415,     0.15516,     0.15616,     0.15716,     0.15816,     0.15916,     0.16016,     0.16116,     0.16216,     0.16316,     0.16416,     0.16517,     0.16617,     0.16717,\n",
       "           0.16817,     0.16917,     0.17017,     0.17117,     0.17217,     0.17317,     0.17417,     0.17518,     0.17618,     0.17718,     0.17818,     0.17918,     0.18018,     0.18118,     0.18218,     0.18318,     0.18418,     0.18519,     0.18619,     0.18719,     0.18819,     0.18919,     0.19019,     0.19119,\n",
       "           0.19219,     0.19319,     0.19419,      0.1952,      0.1962,      0.1972,      0.1982,      0.1992,      0.2002,      0.2012,      0.2022,      0.2032,      0.2042,     0.20521,     0.20621,     0.20721,     0.20821,     0.20921,     0.21021,     0.21121,     0.21221,     0.21321,     0.21421,     0.21522,\n",
       "           0.21622,     0.21722,     0.21822,     0.21922,     0.22022,     0.22122,     0.22222,     0.22322,     0.22422,     0.22523,     0.22623,     0.22723,     0.22823,     0.22923,     0.23023,     0.23123,     0.23223,     0.23323,     0.23423,     0.23524,     0.23624,     0.23724,     0.23824,     0.23924,\n",
       "           0.24024,     0.24124,     0.24224,     0.24324,     0.24424,     0.24525,     0.24625,     0.24725,     0.24825,     0.24925,     0.25025,     0.25125,     0.25225,     0.25325,     0.25425,     0.25526,     0.25626,     0.25726,     0.25826,     0.25926,     0.26026,     0.26126,     0.26226,     0.26326,\n",
       "           0.26426,     0.26527,     0.26627,     0.26727,     0.26827,     0.26927,     0.27027,     0.27127,     0.27227,     0.27327,     0.27427,     0.27528,     0.27628,     0.27728,     0.27828,     0.27928,     0.28028,     0.28128,     0.28228,     0.28328,     0.28428,     0.28529,     0.28629,     0.28729,\n",
       "           0.28829,     0.28929,     0.29029,     0.29129,     0.29229,     0.29329,     0.29429,      0.2953,      0.2963,      0.2973,      0.2983,      0.2993,      0.3003,      0.3013,      0.3023,      0.3033,      0.3043,     0.30531,     0.30631,     0.30731,     0.30831,     0.30931,     0.31031,     0.31131,\n",
       "           0.31231,     0.31331,     0.31431,     0.31532,     0.31632,     0.31732,     0.31832,     0.31932,     0.32032,     0.32132,     0.32232,     0.32332,     0.32432,     0.32533,     0.32633,     0.32733,     0.32833,     0.32933,     0.33033,     0.33133,     0.33233,     0.33333,     0.33433,     0.33534,\n",
       "           0.33634,     0.33734,     0.33834,     0.33934,     0.34034,     0.34134,     0.34234,     0.34334,     0.34434,     0.34535,     0.34635,     0.34735,     0.34835,     0.34935,     0.35035,     0.35135,     0.35235,     0.35335,     0.35435,     0.35536,     0.35636,     0.35736,     0.35836,     0.35936,\n",
       "           0.36036,     0.36136,     0.36236,     0.36336,     0.36436,     0.36537,     0.36637,     0.36737,     0.36837,     0.36937,     0.37037,     0.37137,     0.37237,     0.37337,     0.37437,     0.37538,     0.37638,     0.37738,     0.37838,     0.37938,     0.38038,     0.38138,     0.38238,     0.38338,\n",
       "           0.38438,     0.38539,     0.38639,     0.38739,     0.38839,     0.38939,     0.39039,     0.39139,     0.39239,     0.39339,     0.39439,      0.3954,      0.3964,      0.3974,      0.3984,      0.3994,      0.4004,      0.4014,      0.4024,      0.4034,      0.4044,     0.40541,     0.40641,     0.40741,\n",
       "           0.40841,     0.40941,     0.41041,     0.41141,     0.41241,     0.41341,     0.41441,     0.41542,     0.41642,     0.41742,     0.41842,     0.41942,     0.42042,     0.42142,     0.42242,     0.42342,     0.42442,     0.42543,     0.42643,     0.42743,     0.42843,     0.42943,     0.43043,     0.43143,\n",
       "           0.43243,     0.43343,     0.43443,     0.43544,     0.43644,     0.43744,     0.43844,     0.43944,     0.44044,     0.44144,     0.44244,     0.44344,     0.44444,     0.44545,     0.44645,     0.44745,     0.44845,     0.44945,     0.45045,     0.45145,     0.45245,     0.45345,     0.45445,     0.45546,\n",
       "           0.45646,     0.45746,     0.45846,     0.45946,     0.46046,     0.46146,     0.46246,     0.46346,     0.46446,     0.46547,     0.46647,     0.46747,     0.46847,     0.46947,     0.47047,     0.47147,     0.47247,     0.47347,     0.47447,     0.47548,     0.47648,     0.47748,     0.47848,     0.47948,\n",
       "           0.48048,     0.48148,     0.48248,     0.48348,     0.48448,     0.48549,     0.48649,     0.48749,     0.48849,     0.48949,     0.49049,     0.49149,     0.49249,     0.49349,     0.49449,      0.4955,      0.4965,      0.4975,      0.4985,      0.4995,      0.5005,      0.5015,      0.5025,      0.5035,\n",
       "            0.5045,     0.50551,     0.50651,     0.50751,     0.50851,     0.50951,     0.51051,     0.51151,     0.51251,     0.51351,     0.51451,     0.51552,     0.51652,     0.51752,     0.51852,     0.51952,     0.52052,     0.52152,     0.52252,     0.52352,     0.52452,     0.52553,     0.52653,     0.52753,\n",
       "           0.52853,     0.52953,     0.53053,     0.53153,     0.53253,     0.53353,     0.53453,     0.53554,     0.53654,     0.53754,     0.53854,     0.53954,     0.54054,     0.54154,     0.54254,     0.54354,     0.54454,     0.54555,     0.54655,     0.54755,     0.54855,     0.54955,     0.55055,     0.55155,\n",
       "           0.55255,     0.55355,     0.55455,     0.55556,     0.55656,     0.55756,     0.55856,     0.55956,     0.56056,     0.56156,     0.56256,     0.56356,     0.56456,     0.56557,     0.56657,     0.56757,     0.56857,     0.56957,     0.57057,     0.57157,     0.57257,     0.57357,     0.57457,     0.57558,\n",
       "           0.57658,     0.57758,     0.57858,     0.57958,     0.58058,     0.58158,     0.58258,     0.58358,     0.58458,     0.58559,     0.58659,     0.58759,     0.58859,     0.58959,     0.59059,     0.59159,     0.59259,     0.59359,     0.59459,      0.5956,      0.5966,      0.5976,      0.5986,      0.5996,\n",
       "            0.6006,      0.6016,      0.6026,      0.6036,      0.6046,     0.60561,     0.60661,     0.60761,     0.60861,     0.60961,     0.61061,     0.61161,     0.61261,     0.61361,     0.61461,     0.61562,     0.61662,     0.61762,     0.61862,     0.61962,     0.62062,     0.62162,     0.62262,     0.62362,\n",
       "           0.62462,     0.62563,     0.62663,     0.62763,     0.62863,     0.62963,     0.63063,     0.63163,     0.63263,     0.63363,     0.63463,     0.63564,     0.63664,     0.63764,     0.63864,     0.63964,     0.64064,     0.64164,     0.64264,     0.64364,     0.64464,     0.64565,     0.64665,     0.64765,\n",
       "           0.64865,     0.64965,     0.65065,     0.65165,     0.65265,     0.65365,     0.65465,     0.65566,     0.65666,     0.65766,     0.65866,     0.65966,     0.66066,     0.66166,     0.66266,     0.66366,     0.66466,     0.66567,     0.66667,     0.66767,     0.66867,     0.66967,     0.67067,     0.67167,\n",
       "           0.67267,     0.67367,     0.67467,     0.67568,     0.67668,     0.67768,     0.67868,     0.67968,     0.68068,     0.68168,     0.68268,     0.68368,     0.68468,     0.68569,     0.68669,     0.68769,     0.68869,     0.68969,     0.69069,     0.69169,     0.69269,     0.69369,     0.69469,      0.6957,\n",
       "            0.6967,      0.6977,      0.6987,      0.6997,      0.7007,      0.7017,      0.7027,      0.7037,      0.7047,     0.70571,     0.70671,     0.70771,     0.70871,     0.70971,     0.71071,     0.71171,     0.71271,     0.71371,     0.71471,     0.71572,     0.71672,     0.71772,     0.71872,     0.71972,\n",
       "           0.72072,     0.72172,     0.72272,     0.72372,     0.72472,     0.72573,     0.72673,     0.72773,     0.72873,     0.72973,     0.73073,     0.73173,     0.73273,     0.73373,     0.73473,     0.73574,     0.73674,     0.73774,     0.73874,     0.73974,     0.74074,     0.74174,     0.74274,     0.74374,\n",
       "           0.74474,     0.74575,     0.74675,     0.74775,     0.74875,     0.74975,     0.75075,     0.75175,     0.75275,     0.75375,     0.75475,     0.75576,     0.75676,     0.75776,     0.75876,     0.75976,     0.76076,     0.76176,     0.76276,     0.76376,     0.76476,     0.76577,     0.76677,     0.76777,\n",
       "           0.76877,     0.76977,     0.77077,     0.77177,     0.77277,     0.77377,     0.77477,     0.77578,     0.77678,     0.77778,     0.77878,     0.77978,     0.78078,     0.78178,     0.78278,     0.78378,     0.78478,     0.78579,     0.78679,     0.78779,     0.78879,     0.78979,     0.79079,     0.79179,\n",
       "           0.79279,     0.79379,     0.79479,      0.7958,      0.7968,      0.7978,      0.7988,      0.7998,      0.8008,      0.8018,      0.8028,      0.8038,      0.8048,     0.80581,     0.80681,     0.80781,     0.80881,     0.80981,     0.81081,     0.81181,     0.81281,     0.81381,     0.81481,     0.81582,\n",
       "           0.81682,     0.81782,     0.81882,     0.81982,     0.82082,     0.82182,     0.82282,     0.82382,     0.82482,     0.82583,     0.82683,     0.82783,     0.82883,     0.82983,     0.83083,     0.83183,     0.83283,     0.83383,     0.83483,     0.83584,     0.83684,     0.83784,     0.83884,     0.83984,\n",
       "           0.84084,     0.84184,     0.84284,     0.84384,     0.84484,     0.84585,     0.84685,     0.84785,     0.84885,     0.84985,     0.85085,     0.85185,     0.85285,     0.85385,     0.85485,     0.85586,     0.85686,     0.85786,     0.85886,     0.85986,     0.86086,     0.86186,     0.86286,     0.86386,\n",
       "           0.86486,     0.86587,     0.86687,     0.86787,     0.86887,     0.86987,     0.87087,     0.87187,     0.87287,     0.87387,     0.87487,     0.87588,     0.87688,     0.87788,     0.87888,     0.87988,     0.88088,     0.88188,     0.88288,     0.88388,     0.88488,     0.88589,     0.88689,     0.88789,\n",
       "           0.88889,     0.88989,     0.89089,     0.89189,     0.89289,     0.89389,     0.89489,      0.8959,      0.8969,      0.8979,      0.8989,      0.8999,      0.9009,      0.9019,      0.9029,      0.9039,      0.9049,     0.90591,     0.90691,     0.90791,     0.90891,     0.90991,     0.91091,     0.91191,\n",
       "           0.91291,     0.91391,     0.91491,     0.91592,     0.91692,     0.91792,     0.91892,     0.91992,     0.92092,     0.92192,     0.92292,     0.92392,     0.92492,     0.92593,     0.92693,     0.92793,     0.92893,     0.92993,     0.93093,     0.93193,     0.93293,     0.93393,     0.93493,     0.93594,\n",
       "           0.93694,     0.93794,     0.93894,     0.93994,     0.94094,     0.94194,     0.94294,     0.94394,     0.94494,     0.94595,     0.94695,     0.94795,     0.94895,     0.94995,     0.95095,     0.95195,     0.95295,     0.95395,     0.95495,     0.95596,     0.95696,     0.95796,     0.95896,     0.95996,\n",
       "           0.96096,     0.96196,     0.96296,     0.96396,     0.96496,     0.96597,     0.96697,     0.96797,     0.96897,     0.96997,     0.97097,     0.97197,     0.97297,     0.97397,     0.97497,     0.97598,     0.97698,     0.97798,     0.97898,     0.97998,     0.98098,     0.98198,     0.98298,     0.98398,\n",
       "           0.98498,     0.98599,     0.98699,     0.98799,     0.98899,     0.98999,     0.99099,     0.99199,     0.99299,     0.99399,     0.99499,       0.996,       0.997,       0.998,       0.999,           1]), array([[    0.46682,     0.46682,     0.61585, ...,           0,           0,           0],\n",
       "       [    0.21516,     0.21516,     0.30986, ...,           0,           0,           0]]), 'Confidence', 'F1'], [array([          0,    0.001001,    0.002002,    0.003003,    0.004004,    0.005005,    0.006006,    0.007007,    0.008008,    0.009009,     0.01001,    0.011011,    0.012012,    0.013013,    0.014014,    0.015015,    0.016016,    0.017017,    0.018018,    0.019019,     0.02002,    0.021021,    0.022022,    0.023023,\n",
       "          0.024024,    0.025025,    0.026026,    0.027027,    0.028028,    0.029029,     0.03003,    0.031031,    0.032032,    0.033033,    0.034034,    0.035035,    0.036036,    0.037037,    0.038038,    0.039039,     0.04004,    0.041041,    0.042042,    0.043043,    0.044044,    0.045045,    0.046046,    0.047047,\n",
       "          0.048048,    0.049049,     0.05005,    0.051051,    0.052052,    0.053053,    0.054054,    0.055055,    0.056056,    0.057057,    0.058058,    0.059059,     0.06006,    0.061061,    0.062062,    0.063063,    0.064064,    0.065065,    0.066066,    0.067067,    0.068068,    0.069069,     0.07007,    0.071071,\n",
       "          0.072072,    0.073073,    0.074074,    0.075075,    0.076076,    0.077077,    0.078078,    0.079079,     0.08008,    0.081081,    0.082082,    0.083083,    0.084084,    0.085085,    0.086086,    0.087087,    0.088088,    0.089089,     0.09009,    0.091091,    0.092092,    0.093093,    0.094094,    0.095095,\n",
       "          0.096096,    0.097097,    0.098098,    0.099099,      0.1001,      0.1011,      0.1021,      0.1031,      0.1041,     0.10511,     0.10611,     0.10711,     0.10811,     0.10911,     0.11011,     0.11111,     0.11211,     0.11311,     0.11411,     0.11512,     0.11612,     0.11712,     0.11812,     0.11912,\n",
       "           0.12012,     0.12112,     0.12212,     0.12312,     0.12412,     0.12513,     0.12613,     0.12713,     0.12813,     0.12913,     0.13013,     0.13113,     0.13213,     0.13313,     0.13413,     0.13514,     0.13614,     0.13714,     0.13814,     0.13914,     0.14014,     0.14114,     0.14214,     0.14314,\n",
       "           0.14414,     0.14515,     0.14615,     0.14715,     0.14815,     0.14915,     0.15015,     0.15115,     0.15215,     0.15315,     0.15415,     0.15516,     0.15616,     0.15716,     0.15816,     0.15916,     0.16016,     0.16116,     0.16216,     0.16316,     0.16416,     0.16517,     0.16617,     0.16717,\n",
       "           0.16817,     0.16917,     0.17017,     0.17117,     0.17217,     0.17317,     0.17417,     0.17518,     0.17618,     0.17718,     0.17818,     0.17918,     0.18018,     0.18118,     0.18218,     0.18318,     0.18418,     0.18519,     0.18619,     0.18719,     0.18819,     0.18919,     0.19019,     0.19119,\n",
       "           0.19219,     0.19319,     0.19419,      0.1952,      0.1962,      0.1972,      0.1982,      0.1992,      0.2002,      0.2012,      0.2022,      0.2032,      0.2042,     0.20521,     0.20621,     0.20721,     0.20821,     0.20921,     0.21021,     0.21121,     0.21221,     0.21321,     0.21421,     0.21522,\n",
       "           0.21622,     0.21722,     0.21822,     0.21922,     0.22022,     0.22122,     0.22222,     0.22322,     0.22422,     0.22523,     0.22623,     0.22723,     0.22823,     0.22923,     0.23023,     0.23123,     0.23223,     0.23323,     0.23423,     0.23524,     0.23624,     0.23724,     0.23824,     0.23924,\n",
       "           0.24024,     0.24124,     0.24224,     0.24324,     0.24424,     0.24525,     0.24625,     0.24725,     0.24825,     0.24925,     0.25025,     0.25125,     0.25225,     0.25325,     0.25425,     0.25526,     0.25626,     0.25726,     0.25826,     0.25926,     0.26026,     0.26126,     0.26226,     0.26326,\n",
       "           0.26426,     0.26527,     0.26627,     0.26727,     0.26827,     0.26927,     0.27027,     0.27127,     0.27227,     0.27327,     0.27427,     0.27528,     0.27628,     0.27728,     0.27828,     0.27928,     0.28028,     0.28128,     0.28228,     0.28328,     0.28428,     0.28529,     0.28629,     0.28729,\n",
       "           0.28829,     0.28929,     0.29029,     0.29129,     0.29229,     0.29329,     0.29429,      0.2953,      0.2963,      0.2973,      0.2983,      0.2993,      0.3003,      0.3013,      0.3023,      0.3033,      0.3043,     0.30531,     0.30631,     0.30731,     0.30831,     0.30931,     0.31031,     0.31131,\n",
       "           0.31231,     0.31331,     0.31431,     0.31532,     0.31632,     0.31732,     0.31832,     0.31932,     0.32032,     0.32132,     0.32232,     0.32332,     0.32432,     0.32533,     0.32633,     0.32733,     0.32833,     0.32933,     0.33033,     0.33133,     0.33233,     0.33333,     0.33433,     0.33534,\n",
       "           0.33634,     0.33734,     0.33834,     0.33934,     0.34034,     0.34134,     0.34234,     0.34334,     0.34434,     0.34535,     0.34635,     0.34735,     0.34835,     0.34935,     0.35035,     0.35135,     0.35235,     0.35335,     0.35435,     0.35536,     0.35636,     0.35736,     0.35836,     0.35936,\n",
       "           0.36036,     0.36136,     0.36236,     0.36336,     0.36436,     0.36537,     0.36637,     0.36737,     0.36837,     0.36937,     0.37037,     0.37137,     0.37237,     0.37337,     0.37437,     0.37538,     0.37638,     0.37738,     0.37838,     0.37938,     0.38038,     0.38138,     0.38238,     0.38338,\n",
       "           0.38438,     0.38539,     0.38639,     0.38739,     0.38839,     0.38939,     0.39039,     0.39139,     0.39239,     0.39339,     0.39439,      0.3954,      0.3964,      0.3974,      0.3984,      0.3994,      0.4004,      0.4014,      0.4024,      0.4034,      0.4044,     0.40541,     0.40641,     0.40741,\n",
       "           0.40841,     0.40941,     0.41041,     0.41141,     0.41241,     0.41341,     0.41441,     0.41542,     0.41642,     0.41742,     0.41842,     0.41942,     0.42042,     0.42142,     0.42242,     0.42342,     0.42442,     0.42543,     0.42643,     0.42743,     0.42843,     0.42943,     0.43043,     0.43143,\n",
       "           0.43243,     0.43343,     0.43443,     0.43544,     0.43644,     0.43744,     0.43844,     0.43944,     0.44044,     0.44144,     0.44244,     0.44344,     0.44444,     0.44545,     0.44645,     0.44745,     0.44845,     0.44945,     0.45045,     0.45145,     0.45245,     0.45345,     0.45445,     0.45546,\n",
       "           0.45646,     0.45746,     0.45846,     0.45946,     0.46046,     0.46146,     0.46246,     0.46346,     0.46446,     0.46547,     0.46647,     0.46747,     0.46847,     0.46947,     0.47047,     0.47147,     0.47247,     0.47347,     0.47447,     0.47548,     0.47648,     0.47748,     0.47848,     0.47948,\n",
       "           0.48048,     0.48148,     0.48248,     0.48348,     0.48448,     0.48549,     0.48649,     0.48749,     0.48849,     0.48949,     0.49049,     0.49149,     0.49249,     0.49349,     0.49449,      0.4955,      0.4965,      0.4975,      0.4985,      0.4995,      0.5005,      0.5015,      0.5025,      0.5035,\n",
       "            0.5045,     0.50551,     0.50651,     0.50751,     0.50851,     0.50951,     0.51051,     0.51151,     0.51251,     0.51351,     0.51451,     0.51552,     0.51652,     0.51752,     0.51852,     0.51952,     0.52052,     0.52152,     0.52252,     0.52352,     0.52452,     0.52553,     0.52653,     0.52753,\n",
       "           0.52853,     0.52953,     0.53053,     0.53153,     0.53253,     0.53353,     0.53453,     0.53554,     0.53654,     0.53754,     0.53854,     0.53954,     0.54054,     0.54154,     0.54254,     0.54354,     0.54454,     0.54555,     0.54655,     0.54755,     0.54855,     0.54955,     0.55055,     0.55155,\n",
       "           0.55255,     0.55355,     0.55455,     0.55556,     0.55656,     0.55756,     0.55856,     0.55956,     0.56056,     0.56156,     0.56256,     0.56356,     0.56456,     0.56557,     0.56657,     0.56757,     0.56857,     0.56957,     0.57057,     0.57157,     0.57257,     0.57357,     0.57457,     0.57558,\n",
       "           0.57658,     0.57758,     0.57858,     0.57958,     0.58058,     0.58158,     0.58258,     0.58358,     0.58458,     0.58559,     0.58659,     0.58759,     0.58859,     0.58959,     0.59059,     0.59159,     0.59259,     0.59359,     0.59459,      0.5956,      0.5966,      0.5976,      0.5986,      0.5996,\n",
       "            0.6006,      0.6016,      0.6026,      0.6036,      0.6046,     0.60561,     0.60661,     0.60761,     0.60861,     0.60961,     0.61061,     0.61161,     0.61261,     0.61361,     0.61461,     0.61562,     0.61662,     0.61762,     0.61862,     0.61962,     0.62062,     0.62162,     0.62262,     0.62362,\n",
       "           0.62462,     0.62563,     0.62663,     0.62763,     0.62863,     0.62963,     0.63063,     0.63163,     0.63263,     0.63363,     0.63463,     0.63564,     0.63664,     0.63764,     0.63864,     0.63964,     0.64064,     0.64164,     0.64264,     0.64364,     0.64464,     0.64565,     0.64665,     0.64765,\n",
       "           0.64865,     0.64965,     0.65065,     0.65165,     0.65265,     0.65365,     0.65465,     0.65566,     0.65666,     0.65766,     0.65866,     0.65966,     0.66066,     0.66166,     0.66266,     0.66366,     0.66466,     0.66567,     0.66667,     0.66767,     0.66867,     0.66967,     0.67067,     0.67167,\n",
       "           0.67267,     0.67367,     0.67467,     0.67568,     0.67668,     0.67768,     0.67868,     0.67968,     0.68068,     0.68168,     0.68268,     0.68368,     0.68468,     0.68569,     0.68669,     0.68769,     0.68869,     0.68969,     0.69069,     0.69169,     0.69269,     0.69369,     0.69469,      0.6957,\n",
       "            0.6967,      0.6977,      0.6987,      0.6997,      0.7007,      0.7017,      0.7027,      0.7037,      0.7047,     0.70571,     0.70671,     0.70771,     0.70871,     0.70971,     0.71071,     0.71171,     0.71271,     0.71371,     0.71471,     0.71572,     0.71672,     0.71772,     0.71872,     0.71972,\n",
       "           0.72072,     0.72172,     0.72272,     0.72372,     0.72472,     0.72573,     0.72673,     0.72773,     0.72873,     0.72973,     0.73073,     0.73173,     0.73273,     0.73373,     0.73473,     0.73574,     0.73674,     0.73774,     0.73874,     0.73974,     0.74074,     0.74174,     0.74274,     0.74374,\n",
       "           0.74474,     0.74575,     0.74675,     0.74775,     0.74875,     0.74975,     0.75075,     0.75175,     0.75275,     0.75375,     0.75475,     0.75576,     0.75676,     0.75776,     0.75876,     0.75976,     0.76076,     0.76176,     0.76276,     0.76376,     0.76476,     0.76577,     0.76677,     0.76777,\n",
       "           0.76877,     0.76977,     0.77077,     0.77177,     0.77277,     0.77377,     0.77477,     0.77578,     0.77678,     0.77778,     0.77878,     0.77978,     0.78078,     0.78178,     0.78278,     0.78378,     0.78478,     0.78579,     0.78679,     0.78779,     0.78879,     0.78979,     0.79079,     0.79179,\n",
       "           0.79279,     0.79379,     0.79479,      0.7958,      0.7968,      0.7978,      0.7988,      0.7998,      0.8008,      0.8018,      0.8028,      0.8038,      0.8048,     0.80581,     0.80681,     0.80781,     0.80881,     0.80981,     0.81081,     0.81181,     0.81281,     0.81381,     0.81481,     0.81582,\n",
       "           0.81682,     0.81782,     0.81882,     0.81982,     0.82082,     0.82182,     0.82282,     0.82382,     0.82482,     0.82583,     0.82683,     0.82783,     0.82883,     0.82983,     0.83083,     0.83183,     0.83283,     0.83383,     0.83483,     0.83584,     0.83684,     0.83784,     0.83884,     0.83984,\n",
       "           0.84084,     0.84184,     0.84284,     0.84384,     0.84484,     0.84585,     0.84685,     0.84785,     0.84885,     0.84985,     0.85085,     0.85185,     0.85285,     0.85385,     0.85485,     0.85586,     0.85686,     0.85786,     0.85886,     0.85986,     0.86086,     0.86186,     0.86286,     0.86386,\n",
       "           0.86486,     0.86587,     0.86687,     0.86787,     0.86887,     0.86987,     0.87087,     0.87187,     0.87287,     0.87387,     0.87487,     0.87588,     0.87688,     0.87788,     0.87888,     0.87988,     0.88088,     0.88188,     0.88288,     0.88388,     0.88488,     0.88589,     0.88689,     0.88789,\n",
       "           0.88889,     0.88989,     0.89089,     0.89189,     0.89289,     0.89389,     0.89489,      0.8959,      0.8969,      0.8979,      0.8989,      0.8999,      0.9009,      0.9019,      0.9029,      0.9039,      0.9049,     0.90591,     0.90691,     0.90791,     0.90891,     0.90991,     0.91091,     0.91191,\n",
       "           0.91291,     0.91391,     0.91491,     0.91592,     0.91692,     0.91792,     0.91892,     0.91992,     0.92092,     0.92192,     0.92292,     0.92392,     0.92492,     0.92593,     0.92693,     0.92793,     0.92893,     0.92993,     0.93093,     0.93193,     0.93293,     0.93393,     0.93493,     0.93594,\n",
       "           0.93694,     0.93794,     0.93894,     0.93994,     0.94094,     0.94194,     0.94294,     0.94394,     0.94494,     0.94595,     0.94695,     0.94795,     0.94895,     0.94995,     0.95095,     0.95195,     0.95295,     0.95395,     0.95495,     0.95596,     0.95696,     0.95796,     0.95896,     0.95996,\n",
       "           0.96096,     0.96196,     0.96296,     0.96396,     0.96496,     0.96597,     0.96697,     0.96797,     0.96897,     0.96997,     0.97097,     0.97197,     0.97297,     0.97397,     0.97497,     0.97598,     0.97698,     0.97798,     0.97898,     0.97998,     0.98098,     0.98198,     0.98298,     0.98398,\n",
       "           0.98498,     0.98599,     0.98699,     0.98799,     0.98899,     0.98999,     0.99099,     0.99199,     0.99299,     0.99399,     0.99499,       0.996,       0.997,       0.998,       0.999,           1]), array([[     0.3051,      0.3051,     0.44625, ...,           1,           1,           1],\n",
       "       [    0.12095,     0.12095,     0.18456, ...,           1,           1,           1]]), 'Confidence', 'Precision'], [array([          0,    0.001001,    0.002002,    0.003003,    0.004004,    0.005005,    0.006006,    0.007007,    0.008008,    0.009009,     0.01001,    0.011011,    0.012012,    0.013013,    0.014014,    0.015015,    0.016016,    0.017017,    0.018018,    0.019019,     0.02002,    0.021021,    0.022022,    0.023023,\n",
       "          0.024024,    0.025025,    0.026026,    0.027027,    0.028028,    0.029029,     0.03003,    0.031031,    0.032032,    0.033033,    0.034034,    0.035035,    0.036036,    0.037037,    0.038038,    0.039039,     0.04004,    0.041041,    0.042042,    0.043043,    0.044044,    0.045045,    0.046046,    0.047047,\n",
       "          0.048048,    0.049049,     0.05005,    0.051051,    0.052052,    0.053053,    0.054054,    0.055055,    0.056056,    0.057057,    0.058058,    0.059059,     0.06006,    0.061061,    0.062062,    0.063063,    0.064064,    0.065065,    0.066066,    0.067067,    0.068068,    0.069069,     0.07007,    0.071071,\n",
       "          0.072072,    0.073073,    0.074074,    0.075075,    0.076076,    0.077077,    0.078078,    0.079079,     0.08008,    0.081081,    0.082082,    0.083083,    0.084084,    0.085085,    0.086086,    0.087087,    0.088088,    0.089089,     0.09009,    0.091091,    0.092092,    0.093093,    0.094094,    0.095095,\n",
       "          0.096096,    0.097097,    0.098098,    0.099099,      0.1001,      0.1011,      0.1021,      0.1031,      0.1041,     0.10511,     0.10611,     0.10711,     0.10811,     0.10911,     0.11011,     0.11111,     0.11211,     0.11311,     0.11411,     0.11512,     0.11612,     0.11712,     0.11812,     0.11912,\n",
       "           0.12012,     0.12112,     0.12212,     0.12312,     0.12412,     0.12513,     0.12613,     0.12713,     0.12813,     0.12913,     0.13013,     0.13113,     0.13213,     0.13313,     0.13413,     0.13514,     0.13614,     0.13714,     0.13814,     0.13914,     0.14014,     0.14114,     0.14214,     0.14314,\n",
       "           0.14414,     0.14515,     0.14615,     0.14715,     0.14815,     0.14915,     0.15015,     0.15115,     0.15215,     0.15315,     0.15415,     0.15516,     0.15616,     0.15716,     0.15816,     0.15916,     0.16016,     0.16116,     0.16216,     0.16316,     0.16416,     0.16517,     0.16617,     0.16717,\n",
       "           0.16817,     0.16917,     0.17017,     0.17117,     0.17217,     0.17317,     0.17417,     0.17518,     0.17618,     0.17718,     0.17818,     0.17918,     0.18018,     0.18118,     0.18218,     0.18318,     0.18418,     0.18519,     0.18619,     0.18719,     0.18819,     0.18919,     0.19019,     0.19119,\n",
       "           0.19219,     0.19319,     0.19419,      0.1952,      0.1962,      0.1972,      0.1982,      0.1992,      0.2002,      0.2012,      0.2022,      0.2032,      0.2042,     0.20521,     0.20621,     0.20721,     0.20821,     0.20921,     0.21021,     0.21121,     0.21221,     0.21321,     0.21421,     0.21522,\n",
       "           0.21622,     0.21722,     0.21822,     0.21922,     0.22022,     0.22122,     0.22222,     0.22322,     0.22422,     0.22523,     0.22623,     0.22723,     0.22823,     0.22923,     0.23023,     0.23123,     0.23223,     0.23323,     0.23423,     0.23524,     0.23624,     0.23724,     0.23824,     0.23924,\n",
       "           0.24024,     0.24124,     0.24224,     0.24324,     0.24424,     0.24525,     0.24625,     0.24725,     0.24825,     0.24925,     0.25025,     0.25125,     0.25225,     0.25325,     0.25425,     0.25526,     0.25626,     0.25726,     0.25826,     0.25926,     0.26026,     0.26126,     0.26226,     0.26326,\n",
       "           0.26426,     0.26527,     0.26627,     0.26727,     0.26827,     0.26927,     0.27027,     0.27127,     0.27227,     0.27327,     0.27427,     0.27528,     0.27628,     0.27728,     0.27828,     0.27928,     0.28028,     0.28128,     0.28228,     0.28328,     0.28428,     0.28529,     0.28629,     0.28729,\n",
       "           0.28829,     0.28929,     0.29029,     0.29129,     0.29229,     0.29329,     0.29429,      0.2953,      0.2963,      0.2973,      0.2983,      0.2993,      0.3003,      0.3013,      0.3023,      0.3033,      0.3043,     0.30531,     0.30631,     0.30731,     0.30831,     0.30931,     0.31031,     0.31131,\n",
       "           0.31231,     0.31331,     0.31431,     0.31532,     0.31632,     0.31732,     0.31832,     0.31932,     0.32032,     0.32132,     0.32232,     0.32332,     0.32432,     0.32533,     0.32633,     0.32733,     0.32833,     0.32933,     0.33033,     0.33133,     0.33233,     0.33333,     0.33433,     0.33534,\n",
       "           0.33634,     0.33734,     0.33834,     0.33934,     0.34034,     0.34134,     0.34234,     0.34334,     0.34434,     0.34535,     0.34635,     0.34735,     0.34835,     0.34935,     0.35035,     0.35135,     0.35235,     0.35335,     0.35435,     0.35536,     0.35636,     0.35736,     0.35836,     0.35936,\n",
       "           0.36036,     0.36136,     0.36236,     0.36336,     0.36436,     0.36537,     0.36637,     0.36737,     0.36837,     0.36937,     0.37037,     0.37137,     0.37237,     0.37337,     0.37437,     0.37538,     0.37638,     0.37738,     0.37838,     0.37938,     0.38038,     0.38138,     0.38238,     0.38338,\n",
       "           0.38438,     0.38539,     0.38639,     0.38739,     0.38839,     0.38939,     0.39039,     0.39139,     0.39239,     0.39339,     0.39439,      0.3954,      0.3964,      0.3974,      0.3984,      0.3994,      0.4004,      0.4014,      0.4024,      0.4034,      0.4044,     0.40541,     0.40641,     0.40741,\n",
       "           0.40841,     0.40941,     0.41041,     0.41141,     0.41241,     0.41341,     0.41441,     0.41542,     0.41642,     0.41742,     0.41842,     0.41942,     0.42042,     0.42142,     0.42242,     0.42342,     0.42442,     0.42543,     0.42643,     0.42743,     0.42843,     0.42943,     0.43043,     0.43143,\n",
       "           0.43243,     0.43343,     0.43443,     0.43544,     0.43644,     0.43744,     0.43844,     0.43944,     0.44044,     0.44144,     0.44244,     0.44344,     0.44444,     0.44545,     0.44645,     0.44745,     0.44845,     0.44945,     0.45045,     0.45145,     0.45245,     0.45345,     0.45445,     0.45546,\n",
       "           0.45646,     0.45746,     0.45846,     0.45946,     0.46046,     0.46146,     0.46246,     0.46346,     0.46446,     0.46547,     0.46647,     0.46747,     0.46847,     0.46947,     0.47047,     0.47147,     0.47247,     0.47347,     0.47447,     0.47548,     0.47648,     0.47748,     0.47848,     0.47948,\n",
       "           0.48048,     0.48148,     0.48248,     0.48348,     0.48448,     0.48549,     0.48649,     0.48749,     0.48849,     0.48949,     0.49049,     0.49149,     0.49249,     0.49349,     0.49449,      0.4955,      0.4965,      0.4975,      0.4985,      0.4995,      0.5005,      0.5015,      0.5025,      0.5035,\n",
       "            0.5045,     0.50551,     0.50651,     0.50751,     0.50851,     0.50951,     0.51051,     0.51151,     0.51251,     0.51351,     0.51451,     0.51552,     0.51652,     0.51752,     0.51852,     0.51952,     0.52052,     0.52152,     0.52252,     0.52352,     0.52452,     0.52553,     0.52653,     0.52753,\n",
       "           0.52853,     0.52953,     0.53053,     0.53153,     0.53253,     0.53353,     0.53453,     0.53554,     0.53654,     0.53754,     0.53854,     0.53954,     0.54054,     0.54154,     0.54254,     0.54354,     0.54454,     0.54555,     0.54655,     0.54755,     0.54855,     0.54955,     0.55055,     0.55155,\n",
       "           0.55255,     0.55355,     0.55455,     0.55556,     0.55656,     0.55756,     0.55856,     0.55956,     0.56056,     0.56156,     0.56256,     0.56356,     0.56456,     0.56557,     0.56657,     0.56757,     0.56857,     0.56957,     0.57057,     0.57157,     0.57257,     0.57357,     0.57457,     0.57558,\n",
       "           0.57658,     0.57758,     0.57858,     0.57958,     0.58058,     0.58158,     0.58258,     0.58358,     0.58458,     0.58559,     0.58659,     0.58759,     0.58859,     0.58959,     0.59059,     0.59159,     0.59259,     0.59359,     0.59459,      0.5956,      0.5966,      0.5976,      0.5986,      0.5996,\n",
       "            0.6006,      0.6016,      0.6026,      0.6036,      0.6046,     0.60561,     0.60661,     0.60761,     0.60861,     0.60961,     0.61061,     0.61161,     0.61261,     0.61361,     0.61461,     0.61562,     0.61662,     0.61762,     0.61862,     0.61962,     0.62062,     0.62162,     0.62262,     0.62362,\n",
       "           0.62462,     0.62563,     0.62663,     0.62763,     0.62863,     0.62963,     0.63063,     0.63163,     0.63263,     0.63363,     0.63463,     0.63564,     0.63664,     0.63764,     0.63864,     0.63964,     0.64064,     0.64164,     0.64264,     0.64364,     0.64464,     0.64565,     0.64665,     0.64765,\n",
       "           0.64865,     0.64965,     0.65065,     0.65165,     0.65265,     0.65365,     0.65465,     0.65566,     0.65666,     0.65766,     0.65866,     0.65966,     0.66066,     0.66166,     0.66266,     0.66366,     0.66466,     0.66567,     0.66667,     0.66767,     0.66867,     0.66967,     0.67067,     0.67167,\n",
       "           0.67267,     0.67367,     0.67467,     0.67568,     0.67668,     0.67768,     0.67868,     0.67968,     0.68068,     0.68168,     0.68268,     0.68368,     0.68468,     0.68569,     0.68669,     0.68769,     0.68869,     0.68969,     0.69069,     0.69169,     0.69269,     0.69369,     0.69469,      0.6957,\n",
       "            0.6967,      0.6977,      0.6987,      0.6997,      0.7007,      0.7017,      0.7027,      0.7037,      0.7047,     0.70571,     0.70671,     0.70771,     0.70871,     0.70971,     0.71071,     0.71171,     0.71271,     0.71371,     0.71471,     0.71572,     0.71672,     0.71772,     0.71872,     0.71972,\n",
       "           0.72072,     0.72172,     0.72272,     0.72372,     0.72472,     0.72573,     0.72673,     0.72773,     0.72873,     0.72973,     0.73073,     0.73173,     0.73273,     0.73373,     0.73473,     0.73574,     0.73674,     0.73774,     0.73874,     0.73974,     0.74074,     0.74174,     0.74274,     0.74374,\n",
       "           0.74474,     0.74575,     0.74675,     0.74775,     0.74875,     0.74975,     0.75075,     0.75175,     0.75275,     0.75375,     0.75475,     0.75576,     0.75676,     0.75776,     0.75876,     0.75976,     0.76076,     0.76176,     0.76276,     0.76376,     0.76476,     0.76577,     0.76677,     0.76777,\n",
       "           0.76877,     0.76977,     0.77077,     0.77177,     0.77277,     0.77377,     0.77477,     0.77578,     0.77678,     0.77778,     0.77878,     0.77978,     0.78078,     0.78178,     0.78278,     0.78378,     0.78478,     0.78579,     0.78679,     0.78779,     0.78879,     0.78979,     0.79079,     0.79179,\n",
       "           0.79279,     0.79379,     0.79479,      0.7958,      0.7968,      0.7978,      0.7988,      0.7998,      0.8008,      0.8018,      0.8028,      0.8038,      0.8048,     0.80581,     0.80681,     0.80781,     0.80881,     0.80981,     0.81081,     0.81181,     0.81281,     0.81381,     0.81481,     0.81582,\n",
       "           0.81682,     0.81782,     0.81882,     0.81982,     0.82082,     0.82182,     0.82282,     0.82382,     0.82482,     0.82583,     0.82683,     0.82783,     0.82883,     0.82983,     0.83083,     0.83183,     0.83283,     0.83383,     0.83483,     0.83584,     0.83684,     0.83784,     0.83884,     0.83984,\n",
       "           0.84084,     0.84184,     0.84284,     0.84384,     0.84484,     0.84585,     0.84685,     0.84785,     0.84885,     0.84985,     0.85085,     0.85185,     0.85285,     0.85385,     0.85485,     0.85586,     0.85686,     0.85786,     0.85886,     0.85986,     0.86086,     0.86186,     0.86286,     0.86386,\n",
       "           0.86486,     0.86587,     0.86687,     0.86787,     0.86887,     0.86987,     0.87087,     0.87187,     0.87287,     0.87387,     0.87487,     0.87588,     0.87688,     0.87788,     0.87888,     0.87988,     0.88088,     0.88188,     0.88288,     0.88388,     0.88488,     0.88589,     0.88689,     0.88789,\n",
       "           0.88889,     0.88989,     0.89089,     0.89189,     0.89289,     0.89389,     0.89489,      0.8959,      0.8969,      0.8979,      0.8989,      0.8999,      0.9009,      0.9019,      0.9029,      0.9039,      0.9049,     0.90591,     0.90691,     0.90791,     0.90891,     0.90991,     0.91091,     0.91191,\n",
       "           0.91291,     0.91391,     0.91491,     0.91592,     0.91692,     0.91792,     0.91892,     0.91992,     0.92092,     0.92192,     0.92292,     0.92392,     0.92492,     0.92593,     0.92693,     0.92793,     0.92893,     0.92993,     0.93093,     0.93193,     0.93293,     0.93393,     0.93493,     0.93594,\n",
       "           0.93694,     0.93794,     0.93894,     0.93994,     0.94094,     0.94194,     0.94294,     0.94394,     0.94494,     0.94595,     0.94695,     0.94795,     0.94895,     0.94995,     0.95095,     0.95195,     0.95295,     0.95395,     0.95495,     0.95596,     0.95696,     0.95796,     0.95896,     0.95996,\n",
       "           0.96096,     0.96196,     0.96296,     0.96396,     0.96496,     0.96597,     0.96697,     0.96797,     0.96897,     0.96997,     0.97097,     0.97197,     0.97297,     0.97397,     0.97497,     0.97598,     0.97698,     0.97798,     0.97898,     0.97998,     0.98098,     0.98198,     0.98298,     0.98398,\n",
       "           0.98498,     0.98599,     0.98699,     0.98799,     0.98899,     0.98999,     0.99099,     0.99199,     0.99299,     0.99399,     0.99499,       0.996,       0.997,       0.998,       0.999,           1]), array([[    0.99336,     0.99336,     0.99336, ...,           0,           0,           0],\n",
       "       [    0.97342,     0.97342,     0.96512, ...,           0,           0,           0]]), 'Confidence', 'Recall']]\n",
       "fitness: 0.7007209435645876\n",
       "keys: ['metrics/precision(B)', 'metrics/recall(B)', 'metrics/mAP50(B)', 'metrics/mAP50-95(B)']\n",
       "maps: array([    0.76179,     0.59452])\n",
       "names: {0: 'maize', 1: 'weed'}\n",
       "plot: True\n",
       "results_dict: {'metrics/precision(B)': 0.8492172453889049, 'metrics/recall(B)': 0.8670610301887687, 'metrics/mAP50(B)': 0.9038007473928684, 'metrics/mAP50-95(B)': 0.6781565209170007, 'fitness': 0.7007209435645876}\n",
       "save_dir: WindowsPath('runs/detect/train9')\n",
       "speed: {'preprocess': 0.1519298553466797, 'inference': 2.0240378379821777, 'loss': 0.0, 'postprocess': 0.7155489921569824}\n",
       "task: 'detect'"
      ]
     },
     "execution_count": 4,
     "metadata": {},
     "output_type": "execute_result"
    }
   ],
   "source": [
    "model.train(data='../datasetCerca/data.yaml', epochs=50, imgsz=640, plots=True, val=True)"
   ]
  },
  {
   "cell_type": "code",
   "execution_count": 5,
   "id": "ab1f5e79-de99-4e76-87fe-b650b1157313",
   "metadata": {},
   "outputs": [
    {
     "name": "stdout",
     "output_type": "stream",
     "text": [
      "Ultralytics 8.3.65  Python-3.9.21 torch-2.5.1+cu124 CUDA:0 (NVIDIA GeForce RTX 4060 Ti, 8188MiB)\n",
      "YOLOv9s summary (fused): 486 layers, 7,167,862 parameters, 0 gradients, 26.7 GFLOPs\n"
     ]
    },
    {
     "name": "stderr",
     "output_type": "stream",
     "text": [
      "\u001b[34m\u001b[1mval: \u001b[0mScanning C:\\Users\\Guille\\Documents\\TFG\\datasetCerca\\valid\\labels.cache... 100 images, 0 backgrounds, 0 corrupt: 10\u001b[0m\n",
      "                 Class     Images  Instances      Box(P          R      mAP50  mAP50-95): 100%|██████████| 7/7 [00:04<0\n"
     ]
    },
    {
     "name": "stdout",
     "output_type": "stream",
     "text": [
      "                   all        100       1204      0.849      0.867      0.904      0.678\n",
      "                 maize        100        602      0.922      0.961      0.976      0.762\n",
      "                  weed        100        602      0.777      0.773      0.832      0.595\n",
      "Speed: 0.5ms preprocess, 6.8ms inference, 0.0ms loss, 2.5ms postprocess per image\n",
      "Results saved to \u001b[1mruns\\detect\\val14\u001b[0m\n"
     ]
    }
   ],
   "source": [
    "from ultralytics import YOLO\n",
    "\n",
    "# Cargar el modelo\n",
    "model = YOLO('runs/detect/train9/weights/best.pt')\n",
    "\n",
    "# Realizar la validación\n",
    "results = model.val(data='../datasetCerca/data.yaml')"
   ]
  },
  {
   "cell_type": "code",
   "execution_count": 14,
   "id": "87dd57dc-1707-4b89-90af-e7d1cc028897",
   "metadata": {
    "scrolled": true
   },
   "outputs": [
    {
     "name": "stdout",
     "output_type": "stream",
     "text": [
      "\n",
      "image 1/254 C:\\Users\\Guille\\Documents\\TFG\\yolov9\\..\\datasetUnificado\\test\\images\\000010.jpg: 384x640 8 maizes, 13 weeds, 19.9ms\n",
      "image 2/254 C:\\Users\\Guille\\Documents\\TFG\\yolov9\\..\\datasetUnificado\\test\\images\\000023.jpg: 384x640 6 maizes, 8 weeds, 25.8ms\n",
      "image 3/254 C:\\Users\\Guille\\Documents\\TFG\\yolov9\\..\\datasetUnificado\\test\\images\\000029.jpg: 384x640 6 maizes, 8 weeds, 18.4ms\n",
      "image 4/254 C:\\Users\\Guille\\Documents\\TFG\\yolov9\\..\\datasetUnificado\\test\\images\\000031.jpg: 384x640 6 maizes, 8 weeds, 20.8ms\n",
      "image 5/254 C:\\Users\\Guille\\Documents\\TFG\\yolov9\\..\\datasetUnificado\\test\\images\\000043.jpg: 384x640 9 maizes, 9 weeds, 18.8ms\n",
      "image 6/254 C:\\Users\\Guille\\Documents\\TFG\\yolov9\\..\\datasetUnificado\\test\\images\\000044.jpg: 384x640 10 maizes, 9 weeds, 14.5ms\n",
      "image 7/254 C:\\Users\\Guille\\Documents\\TFG\\yolov9\\..\\datasetUnificado\\test\\images\\000049.jpg: 384x640 10 maizes, 9 weeds, 19.7ms\n",
      "image 8/254 C:\\Users\\Guille\\Documents\\TFG\\yolov9\\..\\datasetUnificado\\test\\images\\000051.jpg: 384x640 9 maizes, 8 weeds, 14.2ms\n",
      "image 9/254 C:\\Users\\Guille\\Documents\\TFG\\yolov9\\..\\datasetUnificado\\test\\images\\000054.jpg: 384x640 9 maizes, 11 weeds, 18.7ms\n",
      "image 10/254 C:\\Users\\Guille\\Documents\\TFG\\yolov9\\..\\datasetUnificado\\test\\images\\000056.jpg: 384x640 10 maizes, 8 weeds, 21.1ms\n",
      "image 11/254 C:\\Users\\Guille\\Documents\\TFG\\yolov9\\..\\datasetUnificado\\test\\images\\000058.jpg: 384x640 9 maizes, 7 weeds, 19.8ms\n",
      "image 12/254 C:\\Users\\Guille\\Documents\\TFG\\yolov9\\..\\datasetUnificado\\test\\images\\000063.jpg: 384x640 8 maizes, 8 weeds, 13.7ms\n",
      "image 13/254 C:\\Users\\Guille\\Documents\\TFG\\yolov9\\..\\datasetUnificado\\test\\images\\000065.jpg: 384x640 8 maizes, 10 weeds, 18.9ms\n",
      "image 14/254 C:\\Users\\Guille\\Documents\\TFG\\yolov9\\..\\datasetUnificado\\test\\images\\000070.jpg: 384x640 8 maizes, 9 weeds, 18.8ms\n",
      "image 15/254 C:\\Users\\Guille\\Documents\\TFG\\yolov9\\..\\datasetUnificado\\test\\images\\000076.jpg: 384x640 7 maizes, 8 weeds, 16.1ms\n",
      "image 16/254 C:\\Users\\Guille\\Documents\\TFG\\yolov9\\..\\datasetUnificado\\test\\images\\000078.jpg: 384x640 7 maizes, 8 weeds, 12.6ms\n",
      "image 17/254 C:\\Users\\Guille\\Documents\\TFG\\yolov9\\..\\datasetUnificado\\test\\images\\000081.jpg: 384x640 7 maizes, 9 weeds, 18.3ms\n",
      "image 18/254 C:\\Users\\Guille\\Documents\\TFG\\yolov9\\..\\datasetUnificado\\test\\images\\000086.jpg: 384x640 7 maizes, 8 weeds, 13.0ms\n",
      "image 19/254 C:\\Users\\Guille\\Documents\\TFG\\yolov9\\..\\datasetUnificado\\test\\images\\000096.jpg: 384x640 7 maizes, 7 weeds, 18.8ms\n",
      "image 20/254 C:\\Users\\Guille\\Documents\\TFG\\yolov9\\..\\datasetUnificado\\test\\images\\000101.jpg: 384x640 7 maizes, 8 weeds, 13.7ms\n",
      "image 21/254 C:\\Users\\Guille\\Documents\\TFG\\yolov9\\..\\datasetUnificado\\test\\images\\000107.jpg: 384x640 7 maizes, 6 weeds, 18.8ms\n",
      "image 22/254 C:\\Users\\Guille\\Documents\\TFG\\yolov9\\..\\datasetUnificado\\test\\images\\000109.jpg: 384x640 6 maizes, 7 weeds, 14.3ms\n",
      "image 23/254 C:\\Users\\Guille\\Documents\\TFG\\yolov9\\..\\datasetUnificado\\test\\images\\000113.jpg: 384x640 7 maizes, 7 weeds, 17.4ms\n",
      "image 24/254 C:\\Users\\Guille\\Documents\\TFG\\yolov9\\..\\datasetUnificado\\test\\images\\000123.jpg: 384x640 7 maizes, 7 weeds, 14.1ms\n",
      "image 25/254 C:\\Users\\Guille\\Documents\\TFG\\yolov9\\..\\datasetUnificado\\test\\images\\000128.jpg: 384x640 6 maizes, 7 weeds, 13.0ms\n",
      "image 26/254 C:\\Users\\Guille\\Documents\\TFG\\yolov9\\..\\datasetUnificado\\test\\images\\000135.jpg: 384x640 6 maizes, 8 weeds, 14.3ms\n",
      "image 27/254 C:\\Users\\Guille\\Documents\\TFG\\yolov9\\..\\datasetUnificado\\test\\images\\000140.jpg: 384x640 7 maizes, 8 weeds, 18.6ms\n",
      "image 28/254 C:\\Users\\Guille\\Documents\\TFG\\yolov9\\..\\datasetUnificado\\test\\images\\000147.jpg: 384x640 7 maizes, 7 weeds, 14.6ms\n",
      "image 29/254 C:\\Users\\Guille\\Documents\\TFG\\yolov9\\..\\datasetUnificado\\test\\images\\000155.jpg: 384x640 7 maizes, 8 weeds, 15.1ms\n",
      "image 30/254 C:\\Users\\Guille\\Documents\\TFG\\yolov9\\..\\datasetUnificado\\test\\images\\000158.jpg: 384x640 7 maizes, 7 weeds, 14.7ms\n",
      "image 31/254 C:\\Users\\Guille\\Documents\\TFG\\yolov9\\..\\datasetUnificado\\test\\images\\000163.jpg: 384x640 8 maizes, 9 weeds, 14.7ms\n",
      "image 32/254 C:\\Users\\Guille\\Documents\\TFG\\yolov9\\..\\datasetUnificado\\test\\images\\000168.jpg: 384x640 8 maizes, 8 weeds, 14.2ms\n",
      "image 33/254 C:\\Users\\Guille\\Documents\\TFG\\yolov9\\..\\datasetUnificado\\test\\images\\000170.jpg: 384x640 8 maizes, 9 weeds, 13.1ms\n",
      "image 34/254 C:\\Users\\Guille\\Documents\\TFG\\yolov9\\..\\datasetUnificado\\test\\images\\000174.jpg: 384x640 7 maizes, 9 weeds, 18.8ms\n",
      "image 35/254 C:\\Users\\Guille\\Documents\\TFG\\yolov9\\..\\datasetUnificado\\test\\images\\000184.jpg: 384x640 6 maizes, 9 weeds, 13.7ms\n",
      "image 36/254 C:\\Users\\Guille\\Documents\\TFG\\yolov9\\..\\datasetUnificado\\test\\images\\000192.jpg: 384x640 6 maizes, 10 weeds, 17.1ms\n",
      "image 37/254 C:\\Users\\Guille\\Documents\\TFG\\yolov9\\..\\datasetUnificado\\test\\images\\000196.jpg: 384x640 6 maizes, 9 weeds, 13.3ms\n",
      "image 38/254 C:\\Users\\Guille\\Documents\\TFG\\yolov9\\..\\datasetUnificado\\test\\images\\000198.jpg: 384x640 6 maizes, 9 weeds, 18.3ms\n",
      "image 39/254 C:\\Users\\Guille\\Documents\\TFG\\yolov9\\..\\datasetUnificado\\test\\images\\000199.jpg: 384x640 6 maizes, 9 weeds, 13.4ms\n",
      "image 40/254 C:\\Users\\Guille\\Documents\\TFG\\yolov9\\..\\datasetUnificado\\test\\images\\000208.jpg: 384x640 8 maizes, 9 weeds, 19.5ms\n",
      "image 41/254 C:\\Users\\Guille\\Documents\\TFG\\yolov9\\..\\datasetUnificado\\test\\images\\000209.jpg: 384x640 6 maizes, 8 weeds, 12.2ms\n",
      "image 42/254 C:\\Users\\Guille\\Documents\\TFG\\yolov9\\..\\datasetUnificado\\test\\images\\000210.jpg: 384x640 6 maizes, 8 weeds, 18.1ms\n",
      "image 43/254 C:\\Users\\Guille\\Documents\\TFG\\yolov9\\..\\datasetUnificado\\test\\images\\000218.jpg: 384x640 5 maizes, 6 weeds, 12.7ms\n",
      "image 44/254 C:\\Users\\Guille\\Documents\\TFG\\yolov9\\..\\datasetUnificado\\test\\images\\000220.jpg: 384x640 5 maizes, 7 weeds, 18.7ms\n",
      "image 45/254 C:\\Users\\Guille\\Documents\\TFG\\yolov9\\..\\datasetUnificado\\test\\images\\000221.jpg: 384x640 5 maizes, 8 weeds, 14.8ms\n",
      "image 46/254 C:\\Users\\Guille\\Documents\\TFG\\yolov9\\..\\datasetUnificado\\test\\images\\000231.jpg: 384x640 6 maizes, 5 weeds, 20.7ms\n",
      "image 47/254 C:\\Users\\Guille\\Documents\\TFG\\yolov9\\..\\datasetUnificado\\test\\images\\000233.jpg: 384x640 6 maizes, 6 weeds, 12.2ms\n",
      "image 48/254 C:\\Users\\Guille\\Documents\\TFG\\yolov9\\..\\datasetUnificado\\test\\images\\000240.jpg: 384x640 6 maizes, 7 weeds, 18.3ms\n",
      "image 49/254 C:\\Users\\Guille\\Documents\\TFG\\yolov9\\..\\datasetUnificado\\test\\images\\000243.jpg: 384x640 6 maizes, 9 weeds, 14.1ms\n",
      "image 50/254 C:\\Users\\Guille\\Documents\\TFG\\yolov9\\..\\datasetUnificado\\test\\images\\000244.jpg: 384x640 6 maizes, 8 weeds, 17.9ms\n",
      "image 51/254 C:\\Users\\Guille\\Documents\\TFG\\yolov9\\..\\datasetUnificado\\test\\images\\000247.jpg: 384x640 7 maizes, 8 weeds, 13.7ms\n",
      "image 52/254 C:\\Users\\Guille\\Documents\\TFG\\yolov9\\..\\datasetUnificado\\test\\images\\000254.jpg: 384x640 8 maizes, 10 weeds, 17.2ms\n",
      "image 53/254 C:\\Users\\Guille\\Documents\\TFG\\yolov9\\..\\datasetUnificado\\test\\images\\000259.jpg: 384x640 8 maizes, 10 weeds, 12.6ms\n",
      "image 54/254 C:\\Users\\Guille\\Documents\\TFG\\yolov9\\..\\datasetUnificado\\test\\images\\000261.jpg: 384x640 8 maizes, 8 weeds, 13.2ms\n",
      "image 55/254 C:\\Users\\Guille\\Documents\\TFG\\yolov9\\..\\datasetUnificado\\test\\images\\000270.jpg: 384x640 7 maizes, 7 weeds, 12.6ms\n",
      "image 56/254 C:\\Users\\Guille\\Documents\\TFG\\yolov9\\..\\datasetUnificado\\test\\images\\000282.jpg: 384x640 6 maizes, 5 weeds, 19.0ms\n",
      "image 57/254 C:\\Users\\Guille\\Documents\\TFG\\yolov9\\..\\datasetUnificado\\test\\images\\000286.jpg: 384x640 4 maizes, 4 weeds, 13.7ms\n",
      "image 58/254 C:\\Users\\Guille\\Documents\\TFG\\yolov9\\..\\datasetUnificado\\test\\images\\000289.jpg: 384x640 3 maizes, 4 weeds, 18.9ms\n",
      "image 59/254 C:\\Users\\Guille\\Documents\\TFG\\yolov9\\..\\datasetUnificado\\test\\images\\000290.jpg: 384x640 4 maizes, 4 weeds, 18.1ms\n",
      "image 60/254 C:\\Users\\Guille\\Documents\\TFG\\yolov9\\..\\datasetUnificado\\test\\images\\000294.jpg: 384x640 4 maizes, 3 weeds, 18.8ms\n",
      "image 61/254 C:\\Users\\Guille\\Documents\\TFG\\yolov9\\..\\datasetUnificado\\test\\images\\000296.jpg: 384x640 4 maizes, 4 weeds, 12.9ms\n",
      "image 62/254 C:\\Users\\Guille\\Documents\\TFG\\yolov9\\..\\datasetUnificado\\test\\images\\000297.jpg: 384x640 4 maizes, 4 weeds, 12.7ms\n",
      "image 63/254 C:\\Users\\Guille\\Documents\\TFG\\yolov9\\..\\datasetUnificado\\test\\images\\000298.jpg: 384x640 4 maizes, 4 weeds, 21.7ms\n",
      "image 64/254 C:\\Users\\Guille\\Documents\\TFG\\yolov9\\..\\datasetUnificado\\test\\images\\000303.jpg: 384x640 4 maizes, 5 weeds, 13.3ms\n",
      "image 65/254 C:\\Users\\Guille\\Documents\\TFG\\yolov9\\..\\datasetUnificado\\test\\images\\000306.jpg: 384x640 4 maizes, 7 weeds, 13.2ms\n",
      "image 66/254 C:\\Users\\Guille\\Documents\\TFG\\yolov9\\..\\datasetUnificado\\test\\images\\000308.jpg: 384x640 4 maizes, 7 weeds, 17.8ms\n",
      "image 67/254 C:\\Users\\Guille\\Documents\\TFG\\yolov9\\..\\datasetUnificado\\test\\images\\000309.jpg: 384x640 4 maizes, 5 weeds, 13.1ms\n",
      "image 68/254 C:\\Users\\Guille\\Documents\\TFG\\yolov9\\..\\datasetUnificado\\test\\images\\000312.jpg: 384x640 3 maizes, 4 weeds, 13.0ms\n",
      "image 69/254 C:\\Users\\Guille\\Documents\\TFG\\yolov9\\..\\datasetUnificado\\test\\images\\000327.jpg: 384x640 3 maizes, 6 weeds, 20.9ms\n",
      "image 70/254 C:\\Users\\Guille\\Documents\\TFG\\yolov9\\..\\datasetUnificado\\test\\images\\000328.jpg: 384x640 3 maizes, 6 weeds, 16.3ms\n",
      "image 71/254 C:\\Users\\Guille\\Documents\\TFG\\yolov9\\..\\datasetUnificado\\test\\images\\000331.jpg: 384x640 5 maizes, 5 weeds, 12.6ms\n",
      "image 72/254 C:\\Users\\Guille\\Documents\\TFG\\yolov9\\..\\datasetUnificado\\test\\images\\000332.jpg: 384x640 4 maizes, 5 weeds, 18.3ms\n",
      "image 73/254 C:\\Users\\Guille\\Documents\\TFG\\yolov9\\..\\datasetUnificado\\test\\images\\000333.jpg: 384x640 4 maizes, 5 weeds, 12.6ms\n",
      "image 74/254 C:\\Users\\Guille\\Documents\\TFG\\yolov9\\..\\datasetUnificado\\test\\images\\000342.jpg: 384x640 6 maizes, 6 weeds, 12.7ms\n",
      "image 75/254 C:\\Users\\Guille\\Documents\\TFG\\yolov9\\..\\datasetUnificado\\test\\images\\000344.jpg: 384x640 7 maizes, 6 weeds, 18.7ms\n",
      "image 76/254 C:\\Users\\Guille\\Documents\\TFG\\yolov9\\..\\datasetUnificado\\test\\images\\000346.jpg: 384x640 7 maizes, 5 weeds, 22.4ms\n",
      "image 77/254 C:\\Users\\Guille\\Documents\\TFG\\yolov9\\..\\datasetUnificado\\test\\images\\000350.jpg: 384x640 6 maizes, 5 weeds, 18.6ms\n",
      "image 78/254 C:\\Users\\Guille\\Documents\\TFG\\yolov9\\..\\datasetUnificado\\test\\images\\000352.jpg: 384x640 6 maizes, 7 weeds, 13.5ms\n",
      "image 79/254 C:\\Users\\Guille\\Documents\\TFG\\yolov9\\..\\datasetUnificado\\test\\images\\000355.jpg: 384x640 6 maizes, 5 weeds, 16.8ms\n",
      "image 80/254 C:\\Users\\Guille\\Documents\\TFG\\yolov9\\..\\datasetUnificado\\test\\images\\000363.jpg: 384x640 6 maizes, 5 weeds, 13.4ms\n",
      "image 81/254 C:\\Users\\Guille\\Documents\\TFG\\yolov9\\..\\datasetUnificado\\test\\images\\000367.jpg: 384x640 9 maizes, 7 weeds, 18.1ms\n",
      "image 82/254 C:\\Users\\Guille\\Documents\\TFG\\yolov9\\..\\datasetUnificado\\test\\images\\000371.jpg: 384x640 6 maizes, 7 weeds, 13.1ms\n",
      "image 83/254 C:\\Users\\Guille\\Documents\\TFG\\yolov9\\..\\datasetUnificado\\test\\images\\000374.jpg: 384x640 6 maizes, 9 weeds, 13.2ms\n",
      "image 84/254 C:\\Users\\Guille\\Documents\\TFG\\yolov9\\..\\datasetUnificado\\test\\images\\000381.jpg: 384x640 6 maizes, 8 weeds, 14.5ms\n",
      "image 85/254 C:\\Users\\Guille\\Documents\\TFG\\yolov9\\..\\datasetUnificado\\test\\images\\000382.jpg: 384x640 6 maizes, 8 weeds, 17.3ms\n",
      "image 86/254 C:\\Users\\Guille\\Documents\\TFG\\yolov9\\..\\datasetUnificado\\test\\images\\000390.jpg: 384x640 6 maizes, 6 weeds, 12.6ms\n",
      "image 87/254 C:\\Users\\Guille\\Documents\\TFG\\yolov9\\..\\datasetUnificado\\test\\images\\000405.jpg: 384x640 6 maizes, 8 weeds, 18.7ms\n",
      "image 88/254 C:\\Users\\Guille\\Documents\\TFG\\yolov9\\..\\datasetUnificado\\test\\images\\000409.jpg: 384x640 7 maizes, 9 weeds, 12.6ms\n",
      "image 89/254 C:\\Users\\Guille\\Documents\\TFG\\yolov9\\..\\datasetUnificado\\test\\images\\000411.jpg: 384x640 8 maizes, 8 weeds, 17.3ms\n",
      "image 90/254 C:\\Users\\Guille\\Documents\\TFG\\yolov9\\..\\datasetUnificado\\test\\images\\000413.jpg: 384x640 8 maizes, 9 weeds, 18.4ms\n",
      "image 91/254 C:\\Users\\Guille\\Documents\\TFG\\yolov9\\..\\datasetUnificado\\test\\images\\000415.jpg: 384x640 7 maizes, 12 weeds, 12.6ms\n",
      "image 92/254 C:\\Users\\Guille\\Documents\\TFG\\yolov9\\..\\datasetUnificado\\test\\images\\000422.jpg: 384x640 5 maizes, 7 weeds, 17.3ms\n",
      "image 93/254 C:\\Users\\Guille\\Documents\\TFG\\yolov9\\..\\datasetUnificado\\test\\images\\000424.jpg: 384x640 7 maizes, 6 weeds, 13.9ms\n",
      "image 94/254 C:\\Users\\Guille\\Documents\\TFG\\yolov9\\..\\datasetUnificado\\test\\images\\000427.jpg: 384x640 8 maizes, 9 weeds, 16.5ms\n",
      "image 95/254 C:\\Users\\Guille\\Documents\\TFG\\yolov9\\..\\datasetUnificado\\test\\images\\000435.jpg: 384x640 4 maizes, 3 weeds, 22.2ms\n",
      "image 96/254 C:\\Users\\Guille\\Documents\\TFG\\yolov9\\..\\datasetUnificado\\test\\images\\000442.jpg: 384x640 5 maizes, 5 weeds, 17.8ms\n",
      "image 97/254 C:\\Users\\Guille\\Documents\\TFG\\yolov9\\..\\datasetUnificado\\test\\images\\000447.jpg: 384x640 6 maizes, 5 weeds, 20.4ms\n",
      "image 98/254 C:\\Users\\Guille\\Documents\\TFG\\yolov9\\..\\datasetUnificado\\test\\images\\000453.jpg: 384x640 6 maizes, 9 weeds, 16.5ms\n",
      "image 99/254 C:\\Users\\Guille\\Documents\\TFG\\yolov9\\..\\datasetUnificado\\test\\images\\000462.jpg: 384x640 8 maizes, 8 weeds, 19.3ms\n",
      "image 100/254 C:\\Users\\Guille\\Documents\\TFG\\yolov9\\..\\datasetUnificado\\test\\images\\000464.jpg: 384x640 7 maizes, 8 weeds, 12.3ms\n",
      "image 101/254 C:\\Users\\Guille\\Documents\\TFG\\yolov9\\..\\datasetUnificado\\test\\images\\000471.jpg: 384x640 7 maizes, 10 weeds, 12.2ms\n",
      "image 102/254 C:\\Users\\Guille\\Documents\\TFG\\yolov9\\..\\datasetUnificado\\test\\images\\000481.jpg: 384x640 4 maizes, 4 weeds, 13.2ms\n",
      "image 103/254 C:\\Users\\Guille\\Documents\\TFG\\yolov9\\..\\datasetUnificado\\test\\images\\000485.jpg: 384x640 4 maizes, 8 weeds, 11.7ms\n",
      "image 104/254 C:\\Users\\Guille\\Documents\\TFG\\yolov9\\..\\datasetUnificado\\test\\images\\000486.jpg: 384x640 4 maizes, 4 weeds, 17.8ms\n",
      "image 105/254 C:\\Users\\Guille\\Documents\\TFG\\yolov9\\..\\datasetUnificado\\test\\images\\000490.jpg: 384x640 6 maizes, 5 weeds, 20.6ms\n",
      "image 106/254 C:\\Users\\Guille\\Documents\\TFG\\yolov9\\..\\datasetUnificado\\test\\images\\000493.jpg: 384x640 6 maizes, 8 weeds, 19.3ms\n",
      "image 107/254 C:\\Users\\Guille\\Documents\\TFG\\yolov9\\..\\datasetUnificado\\test\\images\\000513.jpg: 640x640 7 maizes, 7 weeds, 22.3ms\n",
      "image 108/254 C:\\Users\\Guille\\Documents\\TFG\\yolov9\\..\\datasetUnificado\\test\\images\\000522.jpg: 640x640 5 maizes, 19.7ms\n",
      "image 109/254 C:\\Users\\Guille\\Documents\\TFG\\yolov9\\..\\datasetUnificado\\test\\images\\000527.jpg: 640x640 12 maizes, 5 weeds, 19.2ms\n",
      "image 110/254 C:\\Users\\Guille\\Documents\\TFG\\yolov9\\..\\datasetUnificado\\test\\images\\000528.jpg: 640x640 5 maizes, 5 weeds, 20.1ms\n",
      "image 111/254 C:\\Users\\Guille\\Documents\\TFG\\yolov9\\..\\datasetUnificado\\test\\images\\000529.jpg: 640x640 6 maizes, 4 weeds, 19.2ms\n",
      "image 112/254 C:\\Users\\Guille\\Documents\\TFG\\yolov9\\..\\datasetUnificado\\test\\images\\000532.jpg: 640x640 5 maizes, 1 weed, 19.2ms\n",
      "image 113/254 C:\\Users\\Guille\\Documents\\TFG\\yolov9\\..\\datasetUnificado\\test\\images\\000533.jpg: 640x640 3 maizes, 19.1ms\n",
      "image 114/254 C:\\Users\\Guille\\Documents\\TFG\\yolov9\\..\\datasetUnificado\\test\\images\\000534.jpg: 640x640 7 maizes, 23.6ms\n",
      "image 115/254 C:\\Users\\Guille\\Documents\\TFG\\yolov9\\..\\datasetUnificado\\test\\images\\000541.jpg: 640x640 2 maizes, 1 weed, 16.0ms\n",
      "image 116/254 C:\\Users\\Guille\\Documents\\TFG\\yolov9\\..\\datasetUnificado\\test\\images\\000543.jpg: 640x640 4 maizes, 11.1ms\n",
      "image 117/254 C:\\Users\\Guille\\Documents\\TFG\\yolov9\\..\\datasetUnificado\\test\\images\\000548.jpg: 640x640 4 maizes, 1 weed, 11.8ms\n",
      "image 118/254 C:\\Users\\Guille\\Documents\\TFG\\yolov9\\..\\datasetUnificado\\test\\images\\000552.jpg: 640x640 2 maizes, 12.3ms\n",
      "image 119/254 C:\\Users\\Guille\\Documents\\TFG\\yolov9\\..\\datasetUnificado\\test\\images\\000554.jpg: 640x640 2 maizes, 12.4ms\n",
      "image 120/254 C:\\Users\\Guille\\Documents\\TFG\\yolov9\\..\\datasetUnificado\\test\\images\\000561.jpg: 640x640 6 maizes, 3 weeds, 14.6ms\n",
      "image 121/254 C:\\Users\\Guille\\Documents\\TFG\\yolov9\\..\\datasetUnificado\\test\\images\\000573.jpg: 640x640 6 maizes, 3 weeds, 13.0ms\n",
      "image 122/254 C:\\Users\\Guille\\Documents\\TFG\\yolov9\\..\\datasetUnificado\\test\\images\\000575.jpg: 640x640 6 maizes, 10.6ms\n",
      "image 123/254 C:\\Users\\Guille\\Documents\\TFG\\yolov9\\..\\datasetUnificado\\test\\images\\000579.jpg: 640x640 3 maizes, 1 weed, 11.1ms\n",
      "image 124/254 C:\\Users\\Guille\\Documents\\TFG\\yolov9\\..\\datasetUnificado\\test\\images\\000581.jpg: 640x640 5 maizes, 13.6ms\n",
      "image 125/254 C:\\Users\\Guille\\Documents\\TFG\\yolov9\\..\\datasetUnificado\\test\\images\\000583.jpg: 640x640 8 maizes, 1 weed, 11.8ms\n",
      "image 126/254 C:\\Users\\Guille\\Documents\\TFG\\yolov9\\..\\datasetUnificado\\test\\images\\000588.jpg: 640x640 5 maizes, 11.7ms\n",
      "image 127/254 C:\\Users\\Guille\\Documents\\TFG\\yolov9\\..\\datasetUnificado\\test\\images\\000591.jpg: 640x640 4 maizes, 1 weed, 15.2ms\n",
      "image 128/254 C:\\Users\\Guille\\Documents\\TFG\\yolov9\\..\\datasetUnificado\\test\\images\\000597.jpg: 640x640 3 maizes, 1 weed, 14.2ms\n",
      "image 129/254 C:\\Users\\Guille\\Documents\\TFG\\yolov9\\..\\datasetUnificado\\test\\images\\000599.jpg: 640x640 2 maizes, 1 weed, 14.7ms\n",
      "image 130/254 C:\\Users\\Guille\\Documents\\TFG\\yolov9\\..\\datasetUnificado\\test\\images\\000609.jpg: 640x640 4 maizes, 1 weed, 11.5ms\n",
      "image 131/254 C:\\Users\\Guille\\Documents\\TFG\\yolov9\\..\\datasetUnificado\\test\\images\\000615.jpg: 640x640 7 maizes, 10.6ms\n",
      "image 132/254 C:\\Users\\Guille\\Documents\\TFG\\yolov9\\..\\datasetUnificado\\test\\images\\000620.jpg: 640x640 4 maizes, 12.4ms\n",
      "image 133/254 C:\\Users\\Guille\\Documents\\TFG\\yolov9\\..\\datasetUnificado\\test\\images\\000621.jpg: 640x640 6 maizes, 1 weed, 12.7ms\n",
      "image 134/254 C:\\Users\\Guille\\Documents\\TFG\\yolov9\\..\\datasetUnificado\\test\\images\\000624.jpg: 640x640 3 maizes, 2 weeds, 11.8ms\n",
      "image 135/254 C:\\Users\\Guille\\Documents\\TFG\\yolov9\\..\\datasetUnificado\\test\\images\\000626.jpg: 640x640 3 maizes, 2 weeds, 12.2ms\n",
      "image 136/254 C:\\Users\\Guille\\Documents\\TFG\\yolov9\\..\\datasetUnificado\\test\\images\\000631.jpg: 640x640 5 maizes, 12.3ms\n",
      "image 137/254 C:\\Users\\Guille\\Documents\\TFG\\yolov9\\..\\datasetUnificado\\test\\images\\000634.jpg: 640x640 7 maizes, 1 weed, 12.2ms\n",
      "image 138/254 C:\\Users\\Guille\\Documents\\TFG\\yolov9\\..\\datasetUnificado\\test\\images\\000643.jpg: 640x640 9 maizes, 3 weeds, 11.7ms\n",
      "image 139/254 C:\\Users\\Guille\\Documents\\TFG\\yolov9\\..\\datasetUnificado\\test\\images\\000651.jpg: 640x640 9 maizes, 2 weeds, 12.2ms\n",
      "image 140/254 C:\\Users\\Guille\\Documents\\TFG\\yolov9\\..\\datasetUnificado\\test\\images\\000660.jpg: 640x640 4 maizes, 1 weed, 11.2ms\n",
      "image 141/254 C:\\Users\\Guille\\Documents\\TFG\\yolov9\\..\\datasetUnificado\\test\\images\\000661.jpg: 640x640 5 maizes, 1 weed, 11.6ms\n",
      "image 142/254 C:\\Users\\Guille\\Documents\\TFG\\yolov9\\..\\datasetUnificado\\test\\images\\000676.jpg: 640x640 8 maizes, 1 weed, 13.2ms\n",
      "image 143/254 C:\\Users\\Guille\\Documents\\TFG\\yolov9\\..\\datasetUnificado\\test\\images\\000680.jpg: 640x640 3 maizes, 5 weeds, 11.1ms\n",
      "image 144/254 C:\\Users\\Guille\\Documents\\TFG\\yolov9\\..\\datasetUnificado\\test\\images\\000693.jpg: 640x640 3 maizes, 11.7ms\n",
      "image 145/254 C:\\Users\\Guille\\Documents\\TFG\\yolov9\\..\\datasetUnificado\\test\\images\\000695.jpg: 640x640 3 maizes, 1 weed, 11.2ms\n",
      "image 146/254 C:\\Users\\Guille\\Documents\\TFG\\yolov9\\..\\datasetUnificado\\test\\images\\000704.jpg: 640x640 3 maizes, 11.1ms\n",
      "image 147/254 C:\\Users\\Guille\\Documents\\TFG\\yolov9\\..\\datasetUnificado\\test\\images\\000706.jpg: 640x640 1 maize, 13.1ms\n",
      "image 148/254 C:\\Users\\Guille\\Documents\\TFG\\yolov9\\..\\datasetUnificado\\test\\images\\000710.jpg: 640x640 3 maizes, 2 weeds, 12.5ms\n",
      "image 149/254 C:\\Users\\Guille\\Documents\\TFG\\yolov9\\..\\datasetUnificado\\test\\images\\000713.jpg: 640x640 3 maizes, 12.0ms\n",
      "image 150/254 C:\\Users\\Guille\\Documents\\TFG\\yolov9\\..\\datasetUnificado\\test\\images\\000720.jpg: 640x640 2 maizes, 13.6ms\n",
      "image 151/254 C:\\Users\\Guille\\Documents\\TFG\\yolov9\\..\\datasetUnificado\\test\\images\\000743.jpg: 640x640 3 maizes, 10.9ms\n",
      "image 152/254 C:\\Users\\Guille\\Documents\\TFG\\yolov9\\..\\datasetUnificado\\test\\images\\000746.jpg: 640x640 9 maizes, 2 weeds, 13.8ms\n",
      "image 153/254 C:\\Users\\Guille\\Documents\\TFG\\yolov9\\..\\datasetUnificado\\test\\images\\000752.jpg: 640x640 7 maizes, 9 weeds, 11.1ms\n",
      "image 154/254 C:\\Users\\Guille\\Documents\\TFG\\yolov9\\..\\datasetUnificado\\test\\images\\000754.jpg: 640x640 6 maizes, 6 weeds, 12.2ms\n",
      "image 155/254 C:\\Users\\Guille\\Documents\\TFG\\yolov9\\..\\datasetUnificado\\test\\images\\000762.jpg: 640x640 2 maizes, 3 weeds, 13.4ms\n",
      "image 156/254 C:\\Users\\Guille\\Documents\\TFG\\yolov9\\..\\datasetUnificado\\test\\images\\000767.jpg: 640x640 7 maizes, 3 weeds, 14.5ms\n",
      "image 157/254 C:\\Users\\Guille\\Documents\\TFG\\yolov9\\..\\datasetUnificado\\test\\images\\000771.jpg: 640x640 7 maizes, 1 weed, 10.9ms\n",
      "image 158/254 C:\\Users\\Guille\\Documents\\TFG\\yolov9\\..\\datasetUnificado\\test\\images\\000781.jpg: 640x640 5 maizes, 3 weeds, 14.5ms\n",
      "image 159/254 C:\\Users\\Guille\\Documents\\TFG\\yolov9\\..\\datasetUnificado\\test\\images\\000785.jpg: 640x640 5 maizes, 1 weed, 11.7ms\n",
      "image 160/254 C:\\Users\\Guille\\Documents\\TFG\\yolov9\\..\\datasetUnificado\\test\\images\\000796.jpg: 640x640 3 maizes, 1 weed, 12.6ms\n",
      "image 161/254 C:\\Users\\Guille\\Documents\\TFG\\yolov9\\..\\datasetUnificado\\test\\images\\000802.jpg: 640x640 4 maizes, 10.7ms\n",
      "image 162/254 C:\\Users\\Guille\\Documents\\TFG\\yolov9\\..\\datasetUnificado\\test\\images\\000803.jpg: 640x640 4 maizes, 12.7ms\n",
      "image 163/254 C:\\Users\\Guille\\Documents\\TFG\\yolov9\\..\\datasetUnificado\\test\\images\\000807.jpg: 640x640 2 maizes, 12.1ms\n",
      "image 164/254 C:\\Users\\Guille\\Documents\\TFG\\yolov9\\..\\datasetUnificado\\test\\images\\000808.jpg: 640x640 1 maize, 1 weed, 11.1ms\n",
      "image 165/254 C:\\Users\\Guille\\Documents\\TFG\\yolov9\\..\\datasetUnificado\\test\\images\\000812.jpg: 640x640 3 maizes, 1 weed, 12.2ms\n",
      "image 166/254 C:\\Users\\Guille\\Documents\\TFG\\yolov9\\..\\datasetUnificado\\test\\images\\000818.jpg: 640x640 2 maizes, 1 weed, 11.6ms\n",
      "image 167/254 C:\\Users\\Guille\\Documents\\TFG\\yolov9\\..\\datasetUnificado\\test\\images\\000820.jpg: 640x640 6 maizes, 1 weed, 13.4ms\n",
      "image 168/254 C:\\Users\\Guille\\Documents\\TFG\\yolov9\\..\\datasetUnificado\\test\\images\\000823.jpg: 640x640 5 maizes, 11.3ms\n",
      "image 169/254 C:\\Users\\Guille\\Documents\\TFG\\yolov9\\..\\datasetUnificado\\test\\images\\000825.jpg: 640x640 6 maizes, 1 weed, 17.2ms\n",
      "image 170/254 C:\\Users\\Guille\\Documents\\TFG\\yolov9\\..\\datasetUnificado\\test\\images\\000848.jpg: 640x640 4 maizes, 12.7ms\n",
      "image 171/254 C:\\Users\\Guille\\Documents\\TFG\\yolov9\\..\\datasetUnificado\\test\\images\\000852.jpg: 640x640 3 maizes, 11.7ms\n",
      "image 172/254 C:\\Users\\Guille\\Documents\\TFG\\yolov9\\..\\datasetUnificado\\test\\images\\000869.jpg: 640x640 3 maizes, 1 weed, 13.6ms\n",
      "image 173/254 C:\\Users\\Guille\\Documents\\TFG\\yolov9\\..\\datasetUnificado\\test\\images\\000879.jpg: 640x640 9 maizes, 3 weeds, 13.9ms\n",
      "image 174/254 C:\\Users\\Guille\\Documents\\TFG\\yolov9\\..\\datasetUnificado\\test\\images\\000884.jpg: 640x640 4 maizes, 2 weeds, 12.3ms\n",
      "image 175/254 C:\\Users\\Guille\\Documents\\TFG\\yolov9\\..\\datasetUnificado\\test\\images\\000886.jpg: 640x640 5 maizes, 14.1ms\n",
      "image 176/254 C:\\Users\\Guille\\Documents\\TFG\\yolov9\\..\\datasetUnificado\\test\\images\\000894.jpg: 640x640 2 maizes, 2 weeds, 11.2ms\n",
      "image 177/254 C:\\Users\\Guille\\Documents\\TFG\\yolov9\\..\\datasetUnificado\\test\\images\\000900.jpg: 640x640 7 maizes, 3 weeds, 11.3ms\n",
      "image 178/254 C:\\Users\\Guille\\Documents\\TFG\\yolov9\\..\\datasetUnificado\\test\\images\\000908.jpg: 640x640 3 maizes, 1 weed, 18.0ms\n",
      "image 179/254 C:\\Users\\Guille\\Documents\\TFG\\yolov9\\..\\datasetUnificado\\test\\images\\000912.jpg: 640x640 3 maizes, 1 weed, 12.2ms\n",
      "image 180/254 C:\\Users\\Guille\\Documents\\TFG\\yolov9\\..\\datasetUnificado\\test\\images\\000917.jpg: 640x640 3 maizes, 1 weed, 11.3ms\n",
      "image 181/254 C:\\Users\\Guille\\Documents\\TFG\\yolov9\\..\\datasetUnificado\\test\\images\\000919.jpg: 640x640 5 maizes, 1 weed, 13.8ms\n",
      "image 182/254 C:\\Users\\Guille\\Documents\\TFG\\yolov9\\..\\datasetUnificado\\test\\images\\000921.jpg: 640x640 1 maize, 11.2ms\n",
      "image 183/254 C:\\Users\\Guille\\Documents\\TFG\\yolov9\\..\\datasetUnificado\\test\\images\\000924.jpg: 640x640 4 maizes, 1 weed, 13.7ms\n",
      "image 184/254 C:\\Users\\Guille\\Documents\\TFG\\yolov9\\..\\datasetUnificado\\test\\images\\000925.jpg: 640x640 6 maizes, 1 weed, 13.1ms\n",
      "image 185/254 C:\\Users\\Guille\\Documents\\TFG\\yolov9\\..\\datasetUnificado\\test\\images\\000932.jpg: 640x640 3 maizes, 1 weed, 12.2ms\n",
      "image 186/254 C:\\Users\\Guille\\Documents\\TFG\\yolov9\\..\\datasetUnificado\\test\\images\\000934.jpg: 640x640 3 maizes, 1 weed, 12.2ms\n",
      "image 187/254 C:\\Users\\Guille\\Documents\\TFG\\yolov9\\..\\datasetUnificado\\test\\images\\000936.jpg: 640x640 5 maizes, 2 weeds, 11.3ms\n",
      "image 188/254 C:\\Users\\Guille\\Documents\\TFG\\yolov9\\..\\datasetUnificado\\test\\images\\000938.jpg: 640x640 4 maizes, 1 weed, 11.2ms\n",
      "image 189/254 C:\\Users\\Guille\\Documents\\TFG\\yolov9\\..\\datasetUnificado\\test\\images\\000950.jpg: 640x640 4 maizes, 1 weed, 13.2ms\n",
      "image 190/254 C:\\Users\\Guille\\Documents\\TFG\\yolov9\\..\\datasetUnificado\\test\\images\\000952.jpg: 640x640 5 maizes, 3 weeds, 12.1ms\n",
      "image 191/254 C:\\Users\\Guille\\Documents\\TFG\\yolov9\\..\\datasetUnificado\\test\\images\\000953.jpg: 640x640 9 maizes, 4 weeds, 12.5ms\n",
      "image 192/254 C:\\Users\\Guille\\Documents\\TFG\\yolov9\\..\\datasetUnificado\\test\\images\\000967.jpg: 640x640 3 maizes, 13.1ms\n",
      "image 193/254 C:\\Users\\Guille\\Documents\\TFG\\yolov9\\..\\datasetUnificado\\test\\images\\000977.jpg: 640x640 5 maizes, 10.6ms\n",
      "image 194/254 C:\\Users\\Guille\\Documents\\TFG\\yolov9\\..\\datasetUnificado\\test\\images\\000978.jpg: 640x640 5 maizes, 1 weed, 11.5ms\n",
      "image 195/254 C:\\Users\\Guille\\Documents\\TFG\\yolov9\\..\\datasetUnificado\\test\\images\\000987.jpg: 640x640 5 maizes, 3 weeds, 11.8ms\n",
      "image 196/254 C:\\Users\\Guille\\Documents\\TFG\\yolov9\\..\\datasetUnificado\\test\\images\\000988.jpg: 640x640 4 maizes, 1 weed, 12.2ms\n",
      "image 197/254 C:\\Users\\Guille\\Documents\\TFG\\yolov9\\..\\datasetUnificado\\test\\images\\000991.jpg: 640x640 7 maizes, 12.0ms\n",
      "image 198/254 C:\\Users\\Guille\\Documents\\TFG\\yolov9\\..\\datasetUnificado\\test\\images\\000994.jpg: 640x640 3 maizes, 1 weed, 13.2ms\n",
      "image 199/254 C:\\Users\\Guille\\Documents\\TFG\\yolov9\\..\\datasetUnificado\\test\\images\\000997.jpg: 640x640 2 maizes, 2 weeds, 12.0ms\n",
      "image 200/254 C:\\Users\\Guille\\Documents\\TFG\\yolov9\\..\\datasetUnificado\\test\\images\\001004.jpg: 640x640 7 maizes, 1 weed, 14.2ms\n",
      "image 201/254 C:\\Users\\Guille\\Documents\\TFG\\yolov9\\..\\datasetUnificado\\test\\images\\001007.jpg: 640x640 5 maizes, 3 weeds, 12.1ms\n",
      "image 202/254 C:\\Users\\Guille\\Documents\\TFG\\yolov9\\..\\datasetUnificado\\test\\images\\001009.jpg: 640x640 6 maizes, 2 weeds, 12.2ms\n",
      "image 203/254 C:\\Users\\Guille\\Documents\\TFG\\yolov9\\..\\datasetUnificado\\test\\images\\001015.jpg: 640x640 8 maizes, 2 weeds, 12.3ms\n",
      "image 204/254 C:\\Users\\Guille\\Documents\\TFG\\yolov9\\..\\datasetUnificado\\test\\images\\001019.jpg: 640x640 9 maizes, 3 weeds, 12.6ms\n",
      "image 205/254 C:\\Users\\Guille\\Documents\\TFG\\yolov9\\..\\datasetUnificado\\test\\images\\001032.jpg: 640x640 5 maizes, 3 weeds, 11.7ms\n",
      "image 206/254 C:\\Users\\Guille\\Documents\\TFG\\yolov9\\..\\datasetUnificado\\test\\images\\001033.jpg: 640x640 8 maizes, 1 weed, 12.1ms\n",
      "image 207/254 C:\\Users\\Guille\\Documents\\TFG\\yolov9\\..\\datasetUnificado\\test\\images\\001039.jpg: 640x640 6 maizes, 4 weeds, 10.8ms\n",
      "image 208/254 C:\\Users\\Guille\\Documents\\TFG\\yolov9\\..\\datasetUnificado\\test\\images\\001045.jpg: 640x640 7 maizes, 1 weed, 11.6ms\n",
      "image 209/254 C:\\Users\\Guille\\Documents\\TFG\\yolov9\\..\\datasetUnificado\\test\\images\\001048.jpg: 640x640 4 maizes, 4 weeds, 11.7ms\n",
      "image 210/254 C:\\Users\\Guille\\Documents\\TFG\\yolov9\\..\\datasetUnificado\\test\\images\\001063.jpg: 640x640 2 maizes, 10.9ms\n",
      "image 211/254 C:\\Users\\Guille\\Documents\\TFG\\yolov9\\..\\datasetUnificado\\test\\images\\001069.jpg: 640x640 2 maizes, 2 weeds, 12.4ms\n",
      "image 212/254 C:\\Users\\Guille\\Documents\\TFG\\yolov9\\..\\datasetUnificado\\test\\images\\001077.jpg: 640x640 5 maizes, 11.1ms\n",
      "image 213/254 C:\\Users\\Guille\\Documents\\TFG\\yolov9\\..\\datasetUnificado\\test\\images\\001079.jpg: 640x640 5 maizes, 12.6ms\n",
      "image 214/254 C:\\Users\\Guille\\Documents\\TFG\\yolov9\\..\\datasetUnificado\\test\\images\\001083.jpg: 640x640 6 maizes, 1 weed, 15.1ms\n",
      "image 215/254 C:\\Users\\Guille\\Documents\\TFG\\yolov9\\..\\datasetUnificado\\test\\images\\001088.jpg: 640x640 4 maizes, 1 weed, 12.6ms\n",
      "image 216/254 C:\\Users\\Guille\\Documents\\TFG\\yolov9\\..\\datasetUnificado\\test\\images\\001096.jpg: 640x640 2 maizes, 1 weed, 13.2ms\n",
      "image 217/254 C:\\Users\\Guille\\Documents\\TFG\\yolov9\\..\\datasetUnificado\\test\\images\\001098.jpg: 640x640 2 maizes, 1 weed, 20.7ms\n",
      "image 218/254 C:\\Users\\Guille\\Documents\\TFG\\yolov9\\..\\datasetUnificado\\test\\images\\001105.jpg: 640x640 3 maizes, 1 weed, 11.5ms\n",
      "image 219/254 C:\\Users\\Guille\\Documents\\TFG\\yolov9\\..\\datasetUnificado\\test\\images\\001116.jpg: 640x640 2 maizes, 12.1ms\n",
      "image 220/254 C:\\Users\\Guille\\Documents\\TFG\\yolov9\\..\\datasetUnificado\\test\\images\\001117.jpg: 640x640 3 maizes, 11.3ms\n",
      "image 221/254 C:\\Users\\Guille\\Documents\\TFG\\yolov9\\..\\datasetUnificado\\test\\images\\001118.jpg: 640x640 3 maizes, 12.3ms\n",
      "image 222/254 C:\\Users\\Guille\\Documents\\TFG\\yolov9\\..\\datasetUnificado\\test\\images\\001120.jpg: 640x640 2 maizes, 11.3ms\n",
      "image 223/254 C:\\Users\\Guille\\Documents\\TFG\\yolov9\\..\\datasetUnificado\\test\\images\\001124.jpg: 640x640 2 maizes, 2 weeds, 11.2ms\n",
      "image 224/254 C:\\Users\\Guille\\Documents\\TFG\\yolov9\\..\\datasetUnificado\\test\\images\\001135.jpg: 640x640 6 maizes, 11.1ms\n",
      "image 225/254 C:\\Users\\Guille\\Documents\\TFG\\yolov9\\..\\datasetUnificado\\test\\images\\001137.jpg: 640x640 4 maizes, 3 weeds, 11.2ms\n",
      "image 226/254 C:\\Users\\Guille\\Documents\\TFG\\yolov9\\..\\datasetUnificado\\test\\images\\001139.jpg: 640x640 4 maizes, 3 weeds, 12.6ms\n",
      "image 227/254 C:\\Users\\Guille\\Documents\\TFG\\yolov9\\..\\datasetUnificado\\test\\images\\001145.jpg: 640x640 8 maizes, 11 weeds, 11.1ms\n",
      "image 228/254 C:\\Users\\Guille\\Documents\\TFG\\yolov9\\..\\datasetUnificado\\test\\images\\001149.jpg: 640x640 6 maizes, 9 weeds, 13.4ms\n",
      "image 229/254 C:\\Users\\Guille\\Documents\\TFG\\yolov9\\..\\datasetUnificado\\test\\images\\001157.jpg: 640x640 6 maizes, 7 weeds, 12.7ms\n",
      "image 230/254 C:\\Users\\Guille\\Documents\\TFG\\yolov9\\..\\datasetUnificado\\test\\images\\001160.jpg: 640x640 8 maizes, 8 weeds, 12.9ms\n",
      "image 231/254 C:\\Users\\Guille\\Documents\\TFG\\yolov9\\..\\datasetUnificado\\test\\images\\001161.jpg: 640x640 8 maizes, 7 weeds, 11.7ms\n",
      "image 232/254 C:\\Users\\Guille\\Documents\\TFG\\yolov9\\..\\datasetUnificado\\test\\images\\001163.jpg: 640x640 6 maizes, 6 weeds, 13.6ms\n",
      "image 233/254 C:\\Users\\Guille\\Documents\\TFG\\yolov9\\..\\datasetUnificado\\test\\images\\001165.jpg: 640x640 7 maizes, 7 weeds, 12.6ms\n",
      "image 234/254 C:\\Users\\Guille\\Documents\\TFG\\yolov9\\..\\datasetUnificado\\test\\images\\001172.jpg: 640x640 6 maizes, 9 weeds, 13.6ms\n",
      "image 235/254 C:\\Users\\Guille\\Documents\\TFG\\yolov9\\..\\datasetUnificado\\test\\images\\001174.jpg: 640x640 6 maizes, 7 weeds, 15.2ms\n",
      "image 236/254 C:\\Users\\Guille\\Documents\\TFG\\yolov9\\..\\datasetUnificado\\test\\images\\001175.jpg: 640x640 6 maizes, 7 weeds, 13.3ms\n",
      "image 237/254 C:\\Users\\Guille\\Documents\\TFG\\yolov9\\..\\datasetUnificado\\test\\images\\001186.jpg: 640x640 5 maizes, 5 weeds, 12.5ms\n",
      "image 238/254 C:\\Users\\Guille\\Documents\\TFG\\yolov9\\..\\datasetUnificado\\test\\images\\001194.jpg: 640x640 7 maizes, 7 weeds, 12.2ms\n",
      "image 239/254 C:\\Users\\Guille\\Documents\\TFG\\yolov9\\..\\datasetUnificado\\test\\images\\001201.jpg: 640x640 3 maizes, 2 weeds, 10.9ms\n",
      "image 240/254 C:\\Users\\Guille\\Documents\\TFG\\yolov9\\..\\datasetUnificado\\test\\images\\001207.jpg: 640x640 3 maizes, 4 weeds, 11.1ms\n",
      "image 241/254 C:\\Users\\Guille\\Documents\\TFG\\yolov9\\..\\datasetUnificado\\test\\images\\001208.jpg: 640x640 2 maizes, 3 weeds, 15.1ms\n",
      "image 242/254 C:\\Users\\Guille\\Documents\\TFG\\yolov9\\..\\datasetUnificado\\test\\images\\001210.jpg: 640x640 2 maizes, 2 weeds, 10.2ms\n",
      "image 243/254 C:\\Users\\Guille\\Documents\\TFG\\yolov9\\..\\datasetUnificado\\test\\images\\001213.jpg: 640x640 1 maize, 4 weeds, 12.1ms\n",
      "image 244/254 C:\\Users\\Guille\\Documents\\TFG\\yolov9\\..\\datasetUnificado\\test\\images\\001226.jpg: 640x640 6 maizes, 9 weeds, 11.3ms\n",
      "image 245/254 C:\\Users\\Guille\\Documents\\TFG\\yolov9\\..\\datasetUnificado\\test\\images\\001235.jpg: 640x640 6 maizes, 6 weeds, 11.1ms\n",
      "image 246/254 C:\\Users\\Guille\\Documents\\TFG\\yolov9\\..\\datasetUnificado\\test\\images\\001240.jpg: 640x640 5 maizes, 5 weeds, 12.2ms\n",
      "image 247/254 C:\\Users\\Guille\\Documents\\TFG\\yolov9\\..\\datasetUnificado\\test\\images\\001251.jpg: 640x640 7 maizes, 10 weeds, 21.2ms\n",
      "image 248/254 C:\\Users\\Guille\\Documents\\TFG\\yolov9\\..\\datasetUnificado\\test\\images\\001252.jpg: 640x640 7 maizes, 9 weeds, 12.7ms\n",
      "image 249/254 C:\\Users\\Guille\\Documents\\TFG\\yolov9\\..\\datasetUnificado\\test\\images\\001253.jpg: 640x640 7 maizes, 7 weeds, 12.2ms\n",
      "image 250/254 C:\\Users\\Guille\\Documents\\TFG\\yolov9\\..\\datasetUnificado\\test\\images\\001255.jpg: 640x640 6 maizes, 9 weeds, 13.1ms\n",
      "image 251/254 C:\\Users\\Guille\\Documents\\TFG\\yolov9\\..\\datasetUnificado\\test\\images\\001256.jpg: 640x640 5 maizes, 7 weeds, 12.4ms\n",
      "image 252/254 C:\\Users\\Guille\\Documents\\TFG\\yolov9\\..\\datasetUnificado\\test\\images\\001258.jpg: 640x640 5 maizes, 8 weeds, 12.3ms\n",
      "image 253/254 C:\\Users\\Guille\\Documents\\TFG\\yolov9\\..\\datasetUnificado\\test\\images\\001259.jpg: 640x640 6 maizes, 3 weeds, 13.8ms\n",
      "image 254/254 C:\\Users\\Guille\\Documents\\TFG\\yolov9\\..\\datasetUnificado\\test\\images\\001265.jpg: 640x640 6 maizes, 4 weeds, 11.2ms\n",
      "Speed: 1.6ms preprocess, 14.3ms inference, 1.1ms postprocess per image at shape (1, 3, 640, 640)\n",
      "Results saved to \u001b[1mruns\\detect\\predict4\u001b[0m\n",
      "254 labels saved to runs\\detect\\predict4\\labels\n"
     ]
    }
   ],
   "source": [
    "from ultralytics import YOLO\n",
    "\n",
    "# Cargar el modelo\n",
    "model = YOLO('runs/detect/train222/weights/best.pt')\n",
    "\n",
    "results = model.predict(source='../datasetUnificado/test/images', imgsz=640, conf=0.25, save=True, save_txt=True)"
   ]
  },
  {
   "cell_type": "code",
   "execution_count": null,
   "id": "57fa0f0c-b31b-4b72-903d-35977ad09f4d",
   "metadata": {},
   "outputs": [],
   "source": []
  }
 ],
 "metadata": {
  "kernelspec": {
   "display_name": "Python (yolov9)",
   "language": "python",
   "name": "yolov9"
  },
  "language_info": {
   "codemirror_mode": {
    "name": "ipython",
    "version": 3
   },
   "file_extension": ".py",
   "mimetype": "text/x-python",
   "name": "python",
   "nbconvert_exporter": "python",
   "pygments_lexer": "ipython3",
   "version": "3.9.21"
  }
 },
 "nbformat": 4,
 "nbformat_minor": 5
}
