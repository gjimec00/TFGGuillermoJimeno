{
 "cells": [
  {
   "cell_type": "code",
   "execution_count": 1,
   "id": "cd6774e8-143f-4125-8b3f-c0454e7a1d31",
   "metadata": {},
   "outputs": [
    {
     "name": "stdout",
     "output_type": "stream",
     "text": [
      "CUDA disponible: True\n",
      "Número de GPUs disponibles: 1\n",
      "Nombre de la GPU: NVIDIA GeForce RTX 4060 Ti\n"
     ]
    }
   ],
   "source": [
    "import torch\n",
    "\n",
    "# Verificar si CUDA está disponible\n",
    "print(\"CUDA disponible:\", torch.cuda.is_available())\n",
    "\n",
    "# Si CUDA está disponible, muestra información de la GPU\n",
    "if torch.cuda.is_available():\n",
    "    print(\"Número de GPUs disponibles:\", torch.cuda.device_count())\n",
    "    print(\"Nombre de la GPU:\", torch.cuda.get_device_name(0))\n"
   ]
  },
  {
   "cell_type": "code",
   "execution_count": 2,
   "id": "82adb971-7f68-4d0b-a150-4ad6dd599f8e",
   "metadata": {},
   "outputs": [
    {
     "name": "stdout",
     "output_type": "stream",
     "text": [
      "Ultralytics 8.3.65  Python-3.9.21 torch-2.5.1+cu124 CUDA:0 (NVIDIA GeForce RTX 4060 Ti, 8188MiB)\n",
      "Setup complete  (20 CPUs, 31.9 GB RAM, 657.4/930.6 GB disk)\n"
     ]
    }
   ],
   "source": [
    "\n",
    "import ultralytics\n",
    "ultralytics.checks()"
   ]
  },
  {
   "cell_type": "code",
   "execution_count": 3,
   "id": "6297b64d-a7e1-486d-bf58-66d0333b9ba4",
   "metadata": {},
   "outputs": [
    {
     "name": "stdout",
     "output_type": "stream",
     "text": [
      "C:\\Users\\Guille\\Documents\\TFG\\yolov11\n"
     ]
    }
   ],
   "source": [
    "%cd yolov11"
   ]
  },
  {
   "cell_type": "code",
   "execution_count": 5,
   "id": "3e6248c1-385e-45ff-a0df-5b1ba90da56b",
   "metadata": {},
   "outputs": [
    {
     "name": "stdout",
     "output_type": "stream",
     "text": [
      "Downloading https://github.com/ultralytics/assets/releases/download/v8.3.0/yolo11s-cls.pt to 'yolo11s-cls.pt'...\n"
     ]
    },
    {
     "name": "stderr",
     "output_type": "stream",
     "text": [
      "100%|█████████████████████████████████████████████████████████████████████████████| 13.0M/13.0M [00:00<00:00, 49.2MB/s]\n"
     ]
    }
   ],
   "source": [
    "from ultralytics import YOLO\n",
    "\n",
    "# Cargar el modelo\n",
    "model = YOLO('yolo11s-cls.pt')"
   ]
  },
  {
   "cell_type": "code",
   "execution_count": null,
   "id": "27f5382f-0a5d-4ffc-83e6-cc393ec873ed",
   "metadata": {},
   "outputs": [],
   "source": [
    "from ultralytics import YOLO\n",
    "\n",
    "# Cargar el modelo\n",
    "model = YOLO('yolo11s.pt')"
   ]
  },
  {
   "cell_type": "code",
   "execution_count": 6,
   "id": "955c1214-c2fb-4388-ab0b-1b6636950ae5",
   "metadata": {
    "scrolled": true
   },
   "outputs": [
    {
     "name": "stdout",
     "output_type": "stream",
     "text": [
      "New https://pypi.org/project/ultralytics/8.3.96 available  Update with 'pip install -U ultralytics'\n",
      "Ultralytics 8.3.65  Python-3.9.21 torch-2.5.1+cu124 CUDA:0 (NVIDIA GeForce RTX 4060 Ti, 8188MiB)\n",
      "\u001b[34m\u001b[1mengine\\trainer: \u001b[0mtask=classify, mode=train, model=yolo11s-cls.pt, data=../datasetHoja, epochs=50, time=None, patience=100, batch=16, imgsz=224, save=True, save_period=-1, cache=False, device=None, workers=8, project=None, name=train, exist_ok=False, pretrained=True, optimizer=auto, verbose=True, seed=0, deterministic=True, single_cls=False, rect=False, cos_lr=False, close_mosaic=10, resume=False, amp=True, fraction=1.0, profile=False, freeze=None, multi_scale=False, overlap_mask=True, mask_ratio=4, dropout=0.0, val=True, split=val, save_json=False, save_hybrid=False, conf=None, iou=0.7, max_det=300, half=False, dnn=False, plots=True, source=None, vid_stride=1, stream_buffer=False, visualize=False, augment=False, agnostic_nms=False, classes=None, retina_masks=False, embed=None, show=False, save_frames=False, save_txt=False, save_conf=False, save_crop=False, show_labels=True, show_conf=True, show_boxes=True, line_width=None, format=torchscript, keras=False, optimize=False, int8=False, dynamic=False, simplify=True, opset=None, workspace=None, nms=False, lr0=0.01, lrf=0.01, momentum=0.937, weight_decay=0.0005, warmup_epochs=3.0, warmup_momentum=0.8, warmup_bias_lr=0.1, box=7.5, cls=0.5, dfl=1.5, pose=12.0, kobj=1.0, nbs=64, hsv_h=0.015, hsv_s=0.7, hsv_v=0.4, degrees=0.0, translate=0.1, scale=0.5, shear=0.0, perspective=0.0, flipud=0.0, fliplr=0.5, bgr=0.0, mosaic=1.0, mixup=0.0, copy_paste=0.0, copy_paste_mode=flip, auto_augment=randaugment, erasing=0.4, crop_fraction=1.0, cfg=None, tracker=botsort.yaml, save_dir=runs\\classify\\train\n",
      "\u001b[34m\u001b[1mtrain:\u001b[0m C:\\Users\\Guille\\Documents\\TFG\\datasetHoja\\train... found 19426 images in 7 classes  \n",
      "\u001b[34m\u001b[1mval:\u001b[0m C:\\Users\\Guille\\Documents\\TFG\\datasetHoja\\val... found 5125 images in 7 classes  \n",
      "\u001b[34m\u001b[1mtest:\u001b[0m None...\n",
      "Overriding model.yaml nc=80 with nc=7\n",
      "\n",
      "                   from  n    params  module                                       arguments                     \n",
      "  0                  -1  1       928  ultralytics.nn.modules.conv.Conv             [3, 32, 3, 2]                 \n",
      "  1                  -1  1     18560  ultralytics.nn.modules.conv.Conv             [32, 64, 3, 2]                \n",
      "  2                  -1  1     26080  ultralytics.nn.modules.block.C3k2            [64, 128, 1, False, 0.25]     \n",
      "  3                  -1  1    147712  ultralytics.nn.modules.conv.Conv             [128, 128, 3, 2]              \n",
      "  4                  -1  1    103360  ultralytics.nn.modules.block.C3k2            [128, 256, 1, False, 0.25]    \n",
      "  5                  -1  1    590336  ultralytics.nn.modules.conv.Conv             [256, 256, 3, 2]              \n",
      "  6                  -1  1    346112  ultralytics.nn.modules.block.C3k2            [256, 256, 1, True]           \n",
      "  7                  -1  1   1180672  ultralytics.nn.modules.conv.Conv             [256, 512, 3, 2]              \n",
      "  8                  -1  1   1380352  ultralytics.nn.modules.block.C3k2            [512, 512, 1, True]           \n",
      "  9                  -1  1    990976  ultralytics.nn.modules.block.C2PSA           [512, 512, 1]                 \n",
      " 10                  -1  1    666887  ultralytics.nn.modules.head.Classify         [512, 7]                      \n",
      "YOLO11s-cls summary: 151 layers, 5,451,975 parameters, 5,451,975 gradients, 12.1 GFLOPs\n",
      "Transferred 234/236 items from pretrained weights\n",
      "\u001b[34m\u001b[1mAMP: \u001b[0mrunning Automatic Mixed Precision (AMP) checks...\n",
      "\u001b[34m\u001b[1mAMP: \u001b[0mchecks passed \n"
     ]
    },
    {
     "name": "stderr",
     "output_type": "stream",
     "text": [
      "\u001b[34m\u001b[1mtrain: \u001b[0mScanning C:\\Users\\Guille\\Documents\\TFG\\datasetHoja\\train... 19426 images, 0 corrupt: 100%|██████████| 19426/1942\u001b[0m\n",
      "\u001b[34m\u001b[1mval: \u001b[0mScanning C:\\Users\\Guille\\Documents\\TFG\\datasetHoja\\val... 5125 images, 0 corrupt: 100%|██████████| 5125/5125 [00:0\u001b[0m\n"
     ]
    },
    {
     "name": "stdout",
     "output_type": "stream",
     "text": [
      "\u001b[34m\u001b[1moptimizer:\u001b[0m 'optimizer=auto' found, ignoring 'lr0=0.01' and 'momentum=0.937' and determining best 'optimizer', 'lr0' and 'momentum' automatically... \n",
      "\u001b[34m\u001b[1moptimizer:\u001b[0m SGD(lr=0.01, momentum=0.9) with parameter groups 39 weight(decay=0.0), 40 weight(decay=0.0005), 40 bias(decay=0.0)\n",
      "Image sizes 224 train, 224 val\n",
      "Using 8 dataloader workers\n",
      "Logging results to \u001b[1mruns\\classify\\train\u001b[0m\n",
      "Starting training for 50 epochs...\n",
      "\n",
      "      Epoch    GPU_mem       loss  Instances       Size\n"
     ]
    },
    {
     "name": "stderr",
     "output_type": "stream",
     "text": [
      "       1/50     0.482G     0.9034          2        224: 100%|██████████| 1215/1215 [00:40<00:00, 29.92it/s]\n",
      "               classes   top1_acc   top5_acc: 100%|██████████| 161/161 [00:02<00:00, 67.84it/s]"
     ]
    },
    {
     "name": "stdout",
     "output_type": "stream",
     "text": [
      "                   all      0.774      0.997\n"
     ]
    },
    {
     "name": "stderr",
     "output_type": "stream",
     "text": [
      "\n"
     ]
    },
    {
     "name": "stdout",
     "output_type": "stream",
     "text": [
      "\n",
      "      Epoch    GPU_mem       loss  Instances       Size\n"
     ]
    },
    {
     "name": "stderr",
     "output_type": "stream",
     "text": [
      "       2/50     0.484G     0.6686          2        224: 100%|██████████| 1215/1215 [00:37<00:00, 32.44it/s]\n",
      "               classes   top1_acc   top5_acc: 100%|██████████| 161/161 [00:02<00:00, 71.95it/s]"
     ]
    },
    {
     "name": "stdout",
     "output_type": "stream",
     "text": [
      "                   all      0.781      0.998\n"
     ]
    },
    {
     "name": "stderr",
     "output_type": "stream",
     "text": [
      "\n"
     ]
    },
    {
     "name": "stdout",
     "output_type": "stream",
     "text": [
      "\n",
      "      Epoch    GPU_mem       loss  Instances       Size\n"
     ]
    },
    {
     "name": "stderr",
     "output_type": "stream",
     "text": [
      "       3/50     0.482G     0.7978          2        224: 100%|██████████| 1215/1215 [00:33<00:00, 36.75it/s]\n",
      "               classes   top1_acc   top5_acc: 100%|██████████| 161/161 [00:02<00:00, 75.92it/s]"
     ]
    },
    {
     "name": "stdout",
     "output_type": "stream",
     "text": [
      "                   all      0.689      0.993\n"
     ]
    },
    {
     "name": "stderr",
     "output_type": "stream",
     "text": [
      "\n"
     ]
    },
    {
     "name": "stdout",
     "output_type": "stream",
     "text": [
      "\n",
      "      Epoch    GPU_mem       loss  Instances       Size\n"
     ]
    },
    {
     "name": "stderr",
     "output_type": "stream",
     "text": [
      "       4/50     0.487G      0.909          2        224: 100%|██████████| 1215/1215 [00:31<00:00, 37.99it/s]\n",
      "               classes   top1_acc   top5_acc: 100%|██████████| 161/161 [00:02<00:00, 79.10it/s]"
     ]
    },
    {
     "name": "stdout",
     "output_type": "stream",
     "text": [
      "                   all       0.73      0.995\n"
     ]
    },
    {
     "name": "stderr",
     "output_type": "stream",
     "text": [
      "\n"
     ]
    },
    {
     "name": "stdout",
     "output_type": "stream",
     "text": [
      "\n",
      "      Epoch    GPU_mem       loss  Instances       Size\n"
     ]
    },
    {
     "name": "stderr",
     "output_type": "stream",
     "text": [
      "       5/50     0.476G     0.8082          2        224: 100%|██████████| 1215/1215 [00:29<00:00, 41.64it/s]\n",
      "               classes   top1_acc   top5_acc: 100%|██████████| 161/161 [00:02<00:00, 77.45it/s]"
     ]
    },
    {
     "name": "stdout",
     "output_type": "stream",
     "text": [
      "                   all      0.792      0.998\n"
     ]
    },
    {
     "name": "stderr",
     "output_type": "stream",
     "text": [
      "\n"
     ]
    },
    {
     "name": "stdout",
     "output_type": "stream",
     "text": [
      "\n",
      "      Epoch    GPU_mem       loss  Instances       Size\n"
     ]
    },
    {
     "name": "stderr",
     "output_type": "stream",
     "text": [
      "       6/50     0.478G     0.7247          2        224: 100%|██████████| 1215/1215 [00:29<00:00, 40.79it/s]\n",
      "               classes   top1_acc   top5_acc: 100%|██████████| 161/161 [00:02<00:00, 79.81it/s]"
     ]
    },
    {
     "name": "stdout",
     "output_type": "stream",
     "text": [
      "                   all      0.759      0.998\n"
     ]
    },
    {
     "name": "stderr",
     "output_type": "stream",
     "text": [
      "\n"
     ]
    },
    {
     "name": "stdout",
     "output_type": "stream",
     "text": [
      "\n",
      "      Epoch    GPU_mem       loss  Instances       Size\n"
     ]
    },
    {
     "name": "stderr",
     "output_type": "stream",
     "text": [
      "       7/50     0.487G     0.6625          2        224: 100%|██████████| 1215/1215 [00:29<00:00, 40.91it/s]\n",
      "               classes   top1_acc   top5_acc: 100%|██████████| 161/161 [00:02<00:00, 79.47it/s]"
     ]
    },
    {
     "name": "stdout",
     "output_type": "stream",
     "text": [
      "                   all      0.808          1\n"
     ]
    },
    {
     "name": "stderr",
     "output_type": "stream",
     "text": [
      "\n"
     ]
    },
    {
     "name": "stdout",
     "output_type": "stream",
     "text": [
      "\n",
      "      Epoch    GPU_mem       loss  Instances       Size\n"
     ]
    },
    {
     "name": "stderr",
     "output_type": "stream",
     "text": [
      "       8/50     0.493G     0.6075          2        224: 100%|██████████| 1215/1215 [00:30<00:00, 39.63it/s]\n",
      "               classes   top1_acc   top5_acc: 100%|██████████| 161/161 [00:02<00:00, 79.97it/s]"
     ]
    },
    {
     "name": "stdout",
     "output_type": "stream",
     "text": [
      "                   all      0.831      0.999\n"
     ]
    },
    {
     "name": "stderr",
     "output_type": "stream",
     "text": [
      "\n"
     ]
    },
    {
     "name": "stdout",
     "output_type": "stream",
     "text": [
      "\n",
      "      Epoch    GPU_mem       loss  Instances       Size\n"
     ]
    },
    {
     "name": "stderr",
     "output_type": "stream",
     "text": [
      "       9/50     0.484G     0.5943          2        224: 100%|██████████| 1215/1215 [00:28<00:00, 43.28it/s]\n",
      "               classes   top1_acc   top5_acc: 100%|██████████| 161/161 [00:02<00:00, 79.56it/s]"
     ]
    },
    {
     "name": "stdout",
     "output_type": "stream",
     "text": [
      "                   all      0.829      0.998\n"
     ]
    },
    {
     "name": "stderr",
     "output_type": "stream",
     "text": [
      "\n"
     ]
    },
    {
     "name": "stdout",
     "output_type": "stream",
     "text": [
      "\n",
      "      Epoch    GPU_mem       loss  Instances       Size\n"
     ]
    },
    {
     "name": "stderr",
     "output_type": "stream",
     "text": [
      "      10/50     0.478G     0.5486          2        224: 100%|██████████| 1215/1215 [00:28<00:00, 43.39it/s]\n",
      "               classes   top1_acc   top5_acc: 100%|██████████| 161/161 [00:01<00:00, 81.31it/s]"
     ]
    },
    {
     "name": "stdout",
     "output_type": "stream",
     "text": [
      "                   all      0.843      0.999\n"
     ]
    },
    {
     "name": "stderr",
     "output_type": "stream",
     "text": [
      "\n"
     ]
    },
    {
     "name": "stdout",
     "output_type": "stream",
     "text": [
      "\n",
      "      Epoch    GPU_mem       loss  Instances       Size\n"
     ]
    },
    {
     "name": "stderr",
     "output_type": "stream",
     "text": [
      "      11/50     0.472G     0.5214          2        224: 100%|██████████| 1215/1215 [00:28<00:00, 42.23it/s]\n",
      "               classes   top1_acc   top5_acc: 100%|██████████| 161/161 [00:01<00:00, 81.37it/s]"
     ]
    },
    {
     "name": "stdout",
     "output_type": "stream",
     "text": [
      "                   all      0.848          1\n"
     ]
    },
    {
     "name": "stderr",
     "output_type": "stream",
     "text": [
      "\n"
     ]
    },
    {
     "name": "stdout",
     "output_type": "stream",
     "text": [
      "\n",
      "      Epoch    GPU_mem       loss  Instances       Size\n"
     ]
    },
    {
     "name": "stderr",
     "output_type": "stream",
     "text": [
      "      12/50     0.474G     0.5135          2        224: 100%|██████████| 1215/1215 [00:29<00:00, 41.69it/s]\n",
      "               classes   top1_acc   top5_acc: 100%|██████████| 161/161 [00:01<00:00, 81.24it/s]"
     ]
    },
    {
     "name": "stdout",
     "output_type": "stream",
     "text": [
      "                   all      0.844          1\n"
     ]
    },
    {
     "name": "stderr",
     "output_type": "stream",
     "text": [
      "\n"
     ]
    },
    {
     "name": "stdout",
     "output_type": "stream",
     "text": [
      "\n",
      "      Epoch    GPU_mem       loss  Instances       Size\n"
     ]
    },
    {
     "name": "stderr",
     "output_type": "stream",
     "text": [
      "      13/50     0.478G      0.474          2        224: 100%|██████████| 1215/1215 [00:27<00:00, 44.97it/s]\n",
      "               classes   top1_acc   top5_acc: 100%|██████████| 161/161 [00:01<00:00, 83.23it/s]"
     ]
    },
    {
     "name": "stdout",
     "output_type": "stream",
     "text": [
      "                   all      0.863          1\n"
     ]
    },
    {
     "name": "stderr",
     "output_type": "stream",
     "text": [
      "\n"
     ]
    },
    {
     "name": "stdout",
     "output_type": "stream",
     "text": [
      "\n",
      "      Epoch    GPU_mem       loss  Instances       Size\n"
     ]
    },
    {
     "name": "stderr",
     "output_type": "stream",
     "text": [
      "      14/50      0.48G     0.4753          2        224: 100%|██████████| 1215/1215 [00:28<00:00, 42.61it/s]\n",
      "               classes   top1_acc   top5_acc: 100%|██████████| 161/161 [00:02<00:00, 80.05it/s]"
     ]
    },
    {
     "name": "stdout",
     "output_type": "stream",
     "text": [
      "                   all      0.863          1\n"
     ]
    },
    {
     "name": "stderr",
     "output_type": "stream",
     "text": [
      "\n"
     ]
    },
    {
     "name": "stdout",
     "output_type": "stream",
     "text": [
      "\n",
      "      Epoch    GPU_mem       loss  Instances       Size\n"
     ]
    },
    {
     "name": "stderr",
     "output_type": "stream",
     "text": [
      "      15/50     0.474G     0.4564          2        224: 100%|██████████| 1215/1215 [00:29<00:00, 41.62it/s]\n",
      "               classes   top1_acc   top5_acc: 100%|██████████| 161/161 [00:01<00:00, 80.93it/s]"
     ]
    },
    {
     "name": "stdout",
     "output_type": "stream",
     "text": [
      "                   all       0.87          1\n"
     ]
    },
    {
     "name": "stderr",
     "output_type": "stream",
     "text": [
      "\n"
     ]
    },
    {
     "name": "stdout",
     "output_type": "stream",
     "text": [
      "\n",
      "      Epoch    GPU_mem       loss  Instances       Size\n"
     ]
    },
    {
     "name": "stderr",
     "output_type": "stream",
     "text": [
      "      16/50     0.474G     0.4426          2        224: 100%|██████████| 1215/1215 [00:28<00:00, 42.19it/s]\n",
      "               classes   top1_acc   top5_acc: 100%|██████████| 161/161 [00:02<00:00, 80.38it/s]"
     ]
    },
    {
     "name": "stdout",
     "output_type": "stream",
     "text": [
      "                   all      0.868          1\n"
     ]
    },
    {
     "name": "stderr",
     "output_type": "stream",
     "text": [
      "\n"
     ]
    },
    {
     "name": "stdout",
     "output_type": "stream",
     "text": [
      "\n",
      "      Epoch    GPU_mem       loss  Instances       Size\n"
     ]
    },
    {
     "name": "stderr",
     "output_type": "stream",
     "text": [
      "      17/50      0.48G     0.4266          2        224: 100%|██████████| 1215/1215 [00:29<00:00, 40.54it/s]\n",
      "               classes   top1_acc   top5_acc: 100%|██████████| 161/161 [00:01<00:00, 81.70it/s]"
     ]
    },
    {
     "name": "stdout",
     "output_type": "stream",
     "text": [
      "                   all      0.876          1\n"
     ]
    },
    {
     "name": "stderr",
     "output_type": "stream",
     "text": [
      "\n"
     ]
    },
    {
     "name": "stdout",
     "output_type": "stream",
     "text": [
      "\n",
      "      Epoch    GPU_mem       loss  Instances       Size\n"
     ]
    },
    {
     "name": "stderr",
     "output_type": "stream",
     "text": [
      "      18/50     0.489G      0.418          2        224: 100%|██████████| 1215/1215 [00:29<00:00, 40.85it/s]\n",
      "               classes   top1_acc   top5_acc: 100%|██████████| 161/161 [00:02<00:00, 79.93it/s]"
     ]
    },
    {
     "name": "stdout",
     "output_type": "stream",
     "text": [
      "                   all      0.881          1\n"
     ]
    },
    {
     "name": "stderr",
     "output_type": "stream",
     "text": [
      "\n"
     ]
    },
    {
     "name": "stdout",
     "output_type": "stream",
     "text": [
      "\n",
      "      Epoch    GPU_mem       loss  Instances       Size\n"
     ]
    },
    {
     "name": "stderr",
     "output_type": "stream",
     "text": [
      "      19/50     0.487G     0.4109          2        224: 100%|██████████| 1215/1215 [00:30<00:00, 39.46it/s]\n",
      "               classes   top1_acc   top5_acc: 100%|██████████| 161/161 [00:02<00:00, 80.24it/s]"
     ]
    },
    {
     "name": "stdout",
     "output_type": "stream",
     "text": [
      "                   all      0.883          1\n"
     ]
    },
    {
     "name": "stderr",
     "output_type": "stream",
     "text": [
      "\n"
     ]
    },
    {
     "name": "stdout",
     "output_type": "stream",
     "text": [
      "\n",
      "      Epoch    GPU_mem       loss  Instances       Size\n"
     ]
    },
    {
     "name": "stderr",
     "output_type": "stream",
     "text": [
      "      20/50     0.489G     0.4014          2        224: 100%|██████████| 1215/1215 [00:29<00:00, 41.44it/s]\n",
      "               classes   top1_acc   top5_acc: 100%|██████████| 161/161 [00:02<00:00, 75.47it/s]"
     ]
    },
    {
     "name": "stdout",
     "output_type": "stream",
     "text": [
      "                   all       0.88          1\n"
     ]
    },
    {
     "name": "stderr",
     "output_type": "stream",
     "text": [
      "\n"
     ]
    },
    {
     "name": "stdout",
     "output_type": "stream",
     "text": [
      "\n",
      "      Epoch    GPU_mem       loss  Instances       Size\n"
     ]
    },
    {
     "name": "stderr",
     "output_type": "stream",
     "text": [
      "      21/50     0.478G     0.3823          2        224: 100%|██████████| 1215/1215 [00:30<00:00, 39.52it/s]\n",
      "               classes   top1_acc   top5_acc: 100%|██████████| 161/161 [00:02<00:00, 80.20it/s]"
     ]
    },
    {
     "name": "stdout",
     "output_type": "stream",
     "text": [
      "                   all      0.888          1\n"
     ]
    },
    {
     "name": "stderr",
     "output_type": "stream",
     "text": [
      "\n"
     ]
    },
    {
     "name": "stdout",
     "output_type": "stream",
     "text": [
      "\n",
      "      Epoch    GPU_mem       loss  Instances       Size\n"
     ]
    },
    {
     "name": "stderr",
     "output_type": "stream",
     "text": [
      "      22/50     0.489G     0.3775          2        224: 100%|██████████| 1215/1215 [00:29<00:00, 41.31it/s]\n",
      "               classes   top1_acc   top5_acc: 100%|██████████| 161/161 [00:02<00:00, 79.30it/s]"
     ]
    },
    {
     "name": "stdout",
     "output_type": "stream",
     "text": [
      "                   all      0.891          1\n"
     ]
    },
    {
     "name": "stderr",
     "output_type": "stream",
     "text": [
      "\n"
     ]
    },
    {
     "name": "stdout",
     "output_type": "stream",
     "text": [
      "\n",
      "      Epoch    GPU_mem       loss  Instances       Size\n"
     ]
    },
    {
     "name": "stderr",
     "output_type": "stream",
     "text": [
      "      23/50     0.484G      0.369          2        224: 100%|██████████| 1215/1215 [00:30<00:00, 40.45it/s]\n",
      "               classes   top1_acc   top5_acc: 100%|██████████| 161/161 [00:02<00:00, 78.99it/s]"
     ]
    },
    {
     "name": "stdout",
     "output_type": "stream",
     "text": [
      "                   all      0.893          1\n"
     ]
    },
    {
     "name": "stderr",
     "output_type": "stream",
     "text": [
      "\n"
     ]
    },
    {
     "name": "stdout",
     "output_type": "stream",
     "text": [
      "\n",
      "      Epoch    GPU_mem       loss  Instances       Size\n"
     ]
    },
    {
     "name": "stderr",
     "output_type": "stream",
     "text": [
      "      24/50     0.489G     0.3584          2        224: 100%|██████████| 1215/1215 [00:28<00:00, 42.54it/s]\n",
      "               classes   top1_acc   top5_acc: 100%|██████████| 161/161 [00:02<00:00, 78.79it/s]"
     ]
    },
    {
     "name": "stdout",
     "output_type": "stream",
     "text": [
      "                   all      0.896          1\n"
     ]
    },
    {
     "name": "stderr",
     "output_type": "stream",
     "text": [
      "\n"
     ]
    },
    {
     "name": "stdout",
     "output_type": "stream",
     "text": [
      "\n",
      "      Epoch    GPU_mem       loss  Instances       Size\n"
     ]
    },
    {
     "name": "stderr",
     "output_type": "stream",
     "text": [
      "      25/50     0.478G     0.3481          2        224: 100%|██████████| 1215/1215 [00:28<00:00, 42.89it/s]\n",
      "               classes   top1_acc   top5_acc: 100%|██████████| 161/161 [00:02<00:00, 79.31it/s]"
     ]
    },
    {
     "name": "stdout",
     "output_type": "stream",
     "text": [
      "                   all      0.903          1\n"
     ]
    },
    {
     "name": "stderr",
     "output_type": "stream",
     "text": [
      "\n"
     ]
    },
    {
     "name": "stdout",
     "output_type": "stream",
     "text": [
      "\n",
      "      Epoch    GPU_mem       loss  Instances       Size\n"
     ]
    },
    {
     "name": "stderr",
     "output_type": "stream",
     "text": [
      "      26/50     0.489G     0.3378          2        224: 100%|██████████| 1215/1215 [00:28<00:00, 42.19it/s]\n",
      "               classes   top1_acc   top5_acc: 100%|██████████| 161/161 [00:01<00:00, 82.03it/s]"
     ]
    },
    {
     "name": "stdout",
     "output_type": "stream",
     "text": [
      "                   all      0.905          1\n"
     ]
    },
    {
     "name": "stderr",
     "output_type": "stream",
     "text": [
      "\n"
     ]
    },
    {
     "name": "stdout",
     "output_type": "stream",
     "text": [
      "\n",
      "      Epoch    GPU_mem       loss  Instances       Size\n"
     ]
    },
    {
     "name": "stderr",
     "output_type": "stream",
     "text": [
      "      27/50     0.489G     0.3319          2        224: 100%|██████████| 1215/1215 [00:28<00:00, 42.03it/s]\n",
      "               classes   top1_acc   top5_acc: 100%|██████████| 161/161 [00:02<00:00, 78.82it/s]"
     ]
    },
    {
     "name": "stdout",
     "output_type": "stream",
     "text": [
      "                   all        0.9          1\n"
     ]
    },
    {
     "name": "stderr",
     "output_type": "stream",
     "text": [
      "\n"
     ]
    },
    {
     "name": "stdout",
     "output_type": "stream",
     "text": [
      "\n",
      "      Epoch    GPU_mem       loss  Instances       Size\n"
     ]
    },
    {
     "name": "stderr",
     "output_type": "stream",
     "text": [
      "      28/50     0.493G     0.3237          2        224: 100%|██████████| 1215/1215 [00:28<00:00, 42.51it/s]\n",
      "               classes   top1_acc   top5_acc: 100%|██████████| 161/161 [00:01<00:00, 81.36it/s]"
     ]
    },
    {
     "name": "stdout",
     "output_type": "stream",
     "text": [
      "                   all      0.903          1\n"
     ]
    },
    {
     "name": "stderr",
     "output_type": "stream",
     "text": [
      "\n"
     ]
    },
    {
     "name": "stdout",
     "output_type": "stream",
     "text": [
      "\n",
      "      Epoch    GPU_mem       loss  Instances       Size\n"
     ]
    },
    {
     "name": "stderr",
     "output_type": "stream",
     "text": [
      "      29/50     0.478G     0.3071          2        224: 100%|██████████| 1215/1215 [00:30<00:00, 40.35it/s]\n",
      "               classes   top1_acc   top5_acc: 100%|██████████| 161/161 [00:01<00:00, 81.42it/s]"
     ]
    },
    {
     "name": "stdout",
     "output_type": "stream",
     "text": [
      "                   all      0.908          1\n"
     ]
    },
    {
     "name": "stderr",
     "output_type": "stream",
     "text": [
      "\n"
     ]
    },
    {
     "name": "stdout",
     "output_type": "stream",
     "text": [
      "\n",
      "      Epoch    GPU_mem       loss  Instances       Size\n"
     ]
    },
    {
     "name": "stderr",
     "output_type": "stream",
     "text": [
      "      30/50      0.48G     0.3023          2        224: 100%|██████████| 1215/1215 [00:30<00:00, 39.35it/s]\n",
      "               classes   top1_acc   top5_acc: 100%|██████████| 161/161 [00:02<00:00, 80.38it/s]"
     ]
    },
    {
     "name": "stdout",
     "output_type": "stream",
     "text": [
      "                   all      0.913          1\n"
     ]
    },
    {
     "name": "stderr",
     "output_type": "stream",
     "text": [
      "\n"
     ]
    },
    {
     "name": "stdout",
     "output_type": "stream",
     "text": [
      "\n",
      "      Epoch    GPU_mem       loss  Instances       Size\n"
     ]
    },
    {
     "name": "stderr",
     "output_type": "stream",
     "text": [
      "      31/50     0.474G     0.2957          2        224: 100%|██████████| 1215/1215 [00:30<00:00, 40.12it/s]\n",
      "               classes   top1_acc   top5_acc: 100%|██████████| 161/161 [00:02<00:00, 79.46it/s]"
     ]
    },
    {
     "name": "stdout",
     "output_type": "stream",
     "text": [
      "                   all      0.913          1\n"
     ]
    },
    {
     "name": "stderr",
     "output_type": "stream",
     "text": [
      "\n"
     ]
    },
    {
     "name": "stdout",
     "output_type": "stream",
     "text": [
      "\n",
      "      Epoch    GPU_mem       loss  Instances       Size\n"
     ]
    },
    {
     "name": "stderr",
     "output_type": "stream",
     "text": [
      "      32/50     0.474G     0.2859          2        224: 100%|██████████| 1215/1215 [00:29<00:00, 40.50it/s]\n",
      "               classes   top1_acc   top5_acc: 100%|██████████| 161/161 [00:02<00:00, 78.96it/s]"
     ]
    },
    {
     "name": "stdout",
     "output_type": "stream",
     "text": [
      "                   all      0.915          1\n"
     ]
    },
    {
     "name": "stderr",
     "output_type": "stream",
     "text": [
      "\n"
     ]
    },
    {
     "name": "stdout",
     "output_type": "stream",
     "text": [
      "\n",
      "      Epoch    GPU_mem       loss  Instances       Size\n"
     ]
    },
    {
     "name": "stderr",
     "output_type": "stream",
     "text": [
      "      33/50     0.478G     0.2755          2        224: 100%|██████████| 1215/1215 [00:30<00:00, 40.23it/s]\n",
      "               classes   top1_acc   top5_acc: 100%|██████████| 161/161 [00:01<00:00, 80.67it/s]"
     ]
    },
    {
     "name": "stdout",
     "output_type": "stream",
     "text": [
      "                   all      0.916          1\n"
     ]
    },
    {
     "name": "stderr",
     "output_type": "stream",
     "text": [
      "\n"
     ]
    },
    {
     "name": "stdout",
     "output_type": "stream",
     "text": [
      "\n",
      "      Epoch    GPU_mem       loss  Instances       Size\n"
     ]
    },
    {
     "name": "stderr",
     "output_type": "stream",
     "text": [
      "      34/50     0.478G     0.2639          2        224: 100%|██████████| 1215/1215 [00:30<00:00, 39.81it/s]\n",
      "               classes   top1_acc   top5_acc: 100%|██████████| 161/161 [00:02<00:00, 80.13it/s]"
     ]
    },
    {
     "name": "stdout",
     "output_type": "stream",
     "text": [
      "                   all      0.913          1\n"
     ]
    },
    {
     "name": "stderr",
     "output_type": "stream",
     "text": [
      "\n"
     ]
    },
    {
     "name": "stdout",
     "output_type": "stream",
     "text": [
      "\n",
      "      Epoch    GPU_mem       loss  Instances       Size\n"
     ]
    },
    {
     "name": "stderr",
     "output_type": "stream",
     "text": [
      "      35/50     0.474G     0.2569          2        224: 100%|██████████| 1215/1215 [00:29<00:00, 41.21it/s]\n",
      "               classes   top1_acc   top5_acc: 100%|██████████| 161/161 [00:01<00:00, 81.78it/s]"
     ]
    },
    {
     "name": "stdout",
     "output_type": "stream",
     "text": [
      "                   all      0.918          1\n"
     ]
    },
    {
     "name": "stderr",
     "output_type": "stream",
     "text": [
      "\n"
     ]
    },
    {
     "name": "stdout",
     "output_type": "stream",
     "text": [
      "\n",
      "      Epoch    GPU_mem       loss  Instances       Size\n"
     ]
    },
    {
     "name": "stderr",
     "output_type": "stream",
     "text": [
      "      36/50     0.474G     0.2556          2        224: 100%|██████████| 1215/1215 [00:26<00:00, 45.22it/s]\n",
      "               classes   top1_acc   top5_acc: 100%|██████████| 161/161 [00:02<00:00, 80.03it/s]"
     ]
    },
    {
     "name": "stdout",
     "output_type": "stream",
     "text": [
      "                   all      0.917          1\n"
     ]
    },
    {
     "name": "stderr",
     "output_type": "stream",
     "text": [
      "\n"
     ]
    },
    {
     "name": "stdout",
     "output_type": "stream",
     "text": [
      "\n",
      "      Epoch    GPU_mem       loss  Instances       Size\n"
     ]
    },
    {
     "name": "stderr",
     "output_type": "stream",
     "text": [
      "      37/50     0.478G     0.2427          2        224: 100%|██████████| 1215/1215 [00:29<00:00, 41.39it/s]\n",
      "               classes   top1_acc   top5_acc: 100%|██████████| 161/161 [00:02<00:00, 76.39it/s]"
     ]
    },
    {
     "name": "stdout",
     "output_type": "stream",
     "text": [
      "                   all      0.919          1\n"
     ]
    },
    {
     "name": "stderr",
     "output_type": "stream",
     "text": [
      "\n"
     ]
    },
    {
     "name": "stdout",
     "output_type": "stream",
     "text": [
      "\n",
      "      Epoch    GPU_mem       loss  Instances       Size\n"
     ]
    },
    {
     "name": "stderr",
     "output_type": "stream",
     "text": [
      "      38/50     0.489G     0.2312          2        224: 100%|██████████| 1215/1215 [00:30<00:00, 40.34it/s]\n",
      "               classes   top1_acc   top5_acc: 100%|██████████| 161/161 [00:02<00:00, 79.87it/s]"
     ]
    },
    {
     "name": "stdout",
     "output_type": "stream",
     "text": [
      "                   all      0.922          1\n"
     ]
    },
    {
     "name": "stderr",
     "output_type": "stream",
     "text": [
      "\n"
     ]
    },
    {
     "name": "stdout",
     "output_type": "stream",
     "text": [
      "\n",
      "      Epoch    GPU_mem       loss  Instances       Size\n"
     ]
    },
    {
     "name": "stderr",
     "output_type": "stream",
     "text": [
      "      39/50     0.489G     0.2309          2        224: 100%|██████████| 1215/1215 [00:30<00:00, 39.73it/s]\n",
      "               classes   top1_acc   top5_acc: 100%|██████████| 161/161 [00:02<00:00, 79.73it/s]"
     ]
    },
    {
     "name": "stdout",
     "output_type": "stream",
     "text": [
      "                   all      0.923          1\n"
     ]
    },
    {
     "name": "stderr",
     "output_type": "stream",
     "text": [
      "\n"
     ]
    },
    {
     "name": "stdout",
     "output_type": "stream",
     "text": [
      "\n",
      "      Epoch    GPU_mem       loss  Instances       Size\n"
     ]
    },
    {
     "name": "stderr",
     "output_type": "stream",
     "text": [
      "      40/50     0.489G     0.2161          2        224: 100%|██████████| 1215/1215 [00:30<00:00, 40.26it/s]\n",
      "               classes   top1_acc   top5_acc: 100%|██████████| 161/161 [00:01<00:00, 80.54it/s]"
     ]
    },
    {
     "name": "stdout",
     "output_type": "stream",
     "text": [
      "                   all      0.923          1\n"
     ]
    },
    {
     "name": "stderr",
     "output_type": "stream",
     "text": [
      "\n"
     ]
    },
    {
     "name": "stdout",
     "output_type": "stream",
     "text": [
      "\n",
      "      Epoch    GPU_mem       loss  Instances       Size\n"
     ]
    },
    {
     "name": "stderr",
     "output_type": "stream",
     "text": [
      "      41/50     0.478G       0.22          2        224: 100%|██████████| 1215/1215 [00:30<00:00, 39.81it/s]\n",
      "               classes   top1_acc   top5_acc: 100%|██████████| 161/161 [00:02<00:00, 73.22it/s]"
     ]
    },
    {
     "name": "stdout",
     "output_type": "stream",
     "text": [
      "                   all      0.922          1\n"
     ]
    },
    {
     "name": "stderr",
     "output_type": "stream",
     "text": [
      "\n"
     ]
    },
    {
     "name": "stdout",
     "output_type": "stream",
     "text": [
      "\n",
      "      Epoch    GPU_mem       loss  Instances       Size\n"
     ]
    },
    {
     "name": "stderr",
     "output_type": "stream",
     "text": [
      "      42/50     0.487G     0.2037          2        224: 100%|██████████| 1215/1215 [00:29<00:00, 40.80it/s]\n",
      "               classes   top1_acc   top5_acc: 100%|██████████| 161/161 [00:02<00:00, 78.92it/s]"
     ]
    },
    {
     "name": "stdout",
     "output_type": "stream",
     "text": [
      "                   all      0.924          1\n"
     ]
    },
    {
     "name": "stderr",
     "output_type": "stream",
     "text": [
      "\n"
     ]
    },
    {
     "name": "stdout",
     "output_type": "stream",
     "text": [
      "\n",
      "      Epoch    GPU_mem       loss  Instances       Size\n"
     ]
    },
    {
     "name": "stderr",
     "output_type": "stream",
     "text": [
      "      43/50     0.482G     0.1932          2        224: 100%|██████████| 1215/1215 [00:29<00:00, 40.50it/s]\n",
      "               classes   top1_acc   top5_acc: 100%|██████████| 161/161 [00:02<00:00, 79.68it/s]"
     ]
    },
    {
     "name": "stdout",
     "output_type": "stream",
     "text": [
      "                   all      0.923          1\n"
     ]
    },
    {
     "name": "stderr",
     "output_type": "stream",
     "text": [
      "\n"
     ]
    },
    {
     "name": "stdout",
     "output_type": "stream",
     "text": [
      "\n",
      "      Epoch    GPU_mem       loss  Instances       Size\n"
     ]
    },
    {
     "name": "stderr",
     "output_type": "stream",
     "text": [
      "      44/50     0.489G     0.1881          2        224: 100%|██████████| 1215/1215 [00:29<00:00, 41.11it/s]\n",
      "               classes   top1_acc   top5_acc: 100%|██████████| 161/161 [00:02<00:00, 80.25it/s]"
     ]
    },
    {
     "name": "stdout",
     "output_type": "stream",
     "text": [
      "                   all      0.925          1\n"
     ]
    },
    {
     "name": "stderr",
     "output_type": "stream",
     "text": [
      "\n"
     ]
    },
    {
     "name": "stdout",
     "output_type": "stream",
     "text": [
      "\n",
      "      Epoch    GPU_mem       loss  Instances       Size\n"
     ]
    },
    {
     "name": "stderr",
     "output_type": "stream",
     "text": [
      "      45/50      0.48G     0.1817          2        224: 100%|██████████| 1215/1215 [00:29<00:00, 40.80it/s]\n",
      "               classes   top1_acc   top5_acc: 100%|██████████| 161/161 [00:01<00:00, 82.41it/s]"
     ]
    },
    {
     "name": "stdout",
     "output_type": "stream",
     "text": [
      "                   all      0.926          1\n"
     ]
    },
    {
     "name": "stderr",
     "output_type": "stream",
     "text": [
      "\n"
     ]
    },
    {
     "name": "stdout",
     "output_type": "stream",
     "text": [
      "\n",
      "      Epoch    GPU_mem       loss  Instances       Size\n"
     ]
    },
    {
     "name": "stderr",
     "output_type": "stream",
     "text": [
      "      46/50     0.487G     0.1738          2        224: 100%|██████████| 1215/1215 [00:28<00:00, 42.34it/s]\n",
      "               classes   top1_acc   top5_acc: 100%|██████████| 161/161 [00:02<00:00, 78.03it/s]"
     ]
    },
    {
     "name": "stdout",
     "output_type": "stream",
     "text": [
      "                   all      0.926          1\n"
     ]
    },
    {
     "name": "stderr",
     "output_type": "stream",
     "text": [
      "\n"
     ]
    },
    {
     "name": "stdout",
     "output_type": "stream",
     "text": [
      "\n",
      "      Epoch    GPU_mem       loss  Instances       Size\n"
     ]
    },
    {
     "name": "stderr",
     "output_type": "stream",
     "text": [
      "      47/50     0.489G     0.1645          2        224: 100%|██████████| 1215/1215 [00:28<00:00, 42.45it/s]\n",
      "               classes   top1_acc   top5_acc: 100%|██████████| 161/161 [00:02<00:00, 78.98it/s]"
     ]
    },
    {
     "name": "stdout",
     "output_type": "stream",
     "text": [
      "                   all      0.928          1\n"
     ]
    },
    {
     "name": "stderr",
     "output_type": "stream",
     "text": [
      "\n"
     ]
    },
    {
     "name": "stdout",
     "output_type": "stream",
     "text": [
      "\n",
      "      Epoch    GPU_mem       loss  Instances       Size\n"
     ]
    },
    {
     "name": "stderr",
     "output_type": "stream",
     "text": [
      "      48/50     0.495G     0.1576          2        224: 100%|██████████| 1215/1215 [00:29<00:00, 41.28it/s]\n",
      "               classes   top1_acc   top5_acc: 100%|██████████| 161/161 [00:02<00:00, 79.08it/s]"
     ]
    },
    {
     "name": "stdout",
     "output_type": "stream",
     "text": [
      "                   all      0.928          1\n"
     ]
    },
    {
     "name": "stderr",
     "output_type": "stream",
     "text": [
      "\n"
     ]
    },
    {
     "name": "stdout",
     "output_type": "stream",
     "text": [
      "\n",
      "      Epoch    GPU_mem       loss  Instances       Size\n"
     ]
    },
    {
     "name": "stderr",
     "output_type": "stream",
     "text": [
      "      49/50      0.48G     0.1539          2        224: 100%|██████████| 1215/1215 [00:30<00:00, 39.91it/s]\n",
      "               classes   top1_acc   top5_acc: 100%|██████████| 161/161 [00:02<00:00, 79.44it/s]"
     ]
    },
    {
     "name": "stdout",
     "output_type": "stream",
     "text": [
      "                   all      0.928          1\n"
     ]
    },
    {
     "name": "stderr",
     "output_type": "stream",
     "text": [
      "\n"
     ]
    },
    {
     "name": "stdout",
     "output_type": "stream",
     "text": [
      "\n",
      "      Epoch    GPU_mem       loss  Instances       Size\n"
     ]
    },
    {
     "name": "stderr",
     "output_type": "stream",
     "text": [
      "      50/50     0.478G     0.1546          2        224: 100%|██████████| 1215/1215 [00:29<00:00, 41.84it/s]\n",
      "               classes   top1_acc   top5_acc: 100%|██████████| 161/161 [00:02<00:00, 78.82it/s]"
     ]
    },
    {
     "name": "stdout",
     "output_type": "stream",
     "text": [
      "                   all      0.929          1\n"
     ]
    },
    {
     "name": "stderr",
     "output_type": "stream",
     "text": [
      "\n"
     ]
    },
    {
     "name": "stdout",
     "output_type": "stream",
     "text": [
      "\n",
      "50 epochs completed in 0.453 hours.\n",
      "Optimizer stripped from runs\\classify\\train\\weights\\last.pt, 11.0MB\n",
      "Optimizer stripped from runs\\classify\\train\\weights\\best.pt, 11.0MB\n",
      "\n",
      "Validating runs\\classify\\train\\weights\\best.pt...\n",
      "Ultralytics 8.3.65  Python-3.9.21 torch-2.5.1+cu124 CUDA:0 (NVIDIA GeForce RTX 4060 Ti, 8188MiB)\n",
      "YOLO11s-cls summary (fused): 112 layers, 5,443,095 parameters, 0 gradients, 12.0 GFLOPs\n",
      "\u001b[34m\u001b[1mtrain:\u001b[0m C:\\Users\\Guille\\Documents\\TFG\\datasetHoja\\train... found 19426 images in 7 classes  \n",
      "\u001b[34m\u001b[1mval:\u001b[0m C:\\Users\\Guille\\Documents\\TFG\\datasetHoja\\val... found 5125 images in 7 classes  \n",
      "\u001b[34m\u001b[1mtest:\u001b[0m None...\n"
     ]
    },
    {
     "name": "stderr",
     "output_type": "stream",
     "text": [
      "               classes   top1_acc   top5_acc: 100%|██████████| 161/161 [00:01<00:00, 88.91it/s]\n"
     ]
    },
    {
     "name": "stdout",
     "output_type": "stream",
     "text": [
      "                   all      0.929          1\n",
      "Speed: 0.1ms preprocess, 0.2ms inference, 0.0ms loss, 0.0ms postprocess per image\n",
      "Results saved to \u001b[1mruns\\classify\\train\u001b[0m\n"
     ]
    },
    {
     "data": {
      "text/plain": [
       "ultralytics.utils.metrics.ClassifyMetrics object with attributes:\n",
       "\n",
       "confusion_matrix: <ultralytics.utils.metrics.ConfusionMatrix object at 0x00000165DC45DA00>\n",
       "curves: []\n",
       "curves_results: []\n",
       "fitness: 0.9644877910614014\n",
       "keys: ['metrics/accuracy_top1', 'metrics/accuracy_top5']\n",
       "results_dict: {'metrics/accuracy_top1': 0.9289755821228027, 'metrics/accuracy_top5': 1.0, 'fitness': 0.9644877910614014}\n",
       "save_dir: WindowsPath('runs/classify/train')\n",
       "speed: {'preprocess': 0.06297990752429497, 'inference': 0.20332001476753048, 'loss': 0.0, 'postprocess': 0.00040207839593654727}\n",
       "task: 'classify'\n",
       "top1: 0.9289755821228027\n",
       "top5: 1.0"
      ]
     },
     "execution_count": 6,
     "metadata": {},
     "output_type": "execute_result"
    }
   ],
   "source": [
    "model.train(data='../datasetHoja', epochs=50, imgsz=224, val=True, plots=True)"
   ]
  },
  {
   "cell_type": "code",
   "execution_count": 7,
   "id": "98260d51-50fc-4cab-ae32-1bc7df38ce89",
   "metadata": {
    "scrolled": true
   },
   "outputs": [
    {
     "name": "stdout",
     "output_type": "stream",
     "text": [
      "Ultralytics 8.3.65  Python-3.9.21 torch-2.5.1+cu124 CUDA:0 (NVIDIA GeForce RTX 4060 Ti, 8188MiB)\n",
      "YOLO11s-cls summary (fused): 112 layers, 5,443,095 parameters, 0 gradients, 12.0 GFLOPs\n",
      "\u001b[34m\u001b[1mtrain:\u001b[0m C:\\Users\\Guille\\Documents\\TFG\\datasetHoja\\train... found 19426 images in 7 classes  \n",
      "\u001b[34m\u001b[1mval:\u001b[0m C:\\Users\\Guille\\Documents\\TFG\\datasetHoja\\val... found 5125 images in 7 classes  \n",
      "\u001b[34m\u001b[1mtest:\u001b[0m None...\n"
     ]
    },
    {
     "name": "stderr",
     "output_type": "stream",
     "text": [
      "\u001b[34m\u001b[1mval: \u001b[0mScanning C:\\Users\\Guille\\Documents\\TFG\\datasetHoja\\val... 5125 images, 0 corrupt: 100%|██████████| 5125/5125 [00:0\u001b[0m\n",
      "               classes   top1_acc   top5_acc: 100%|██████████| 321/321 [00:02<00:00, 121.82it/s]\n"
     ]
    },
    {
     "name": "stdout",
     "output_type": "stream",
     "text": [
      "                   all      0.929          1\n",
      "Speed: 0.1ms preprocess, 0.4ms inference, 0.0ms loss, 0.0ms postprocess per image\n",
      "Results saved to \u001b[1mruns\\classify\\val\u001b[0m\n"
     ]
    }
   ],
   "source": [
    "from ultralytics import YOLO\n",
    "\n",
    "# Cargar el modelo\n",
    "model = YOLO('runs/classify/train/weights/best.pt')\n",
    "\n",
    "# Realizar la validación\n",
    "results = model.val()"
   ]
  },
  {
   "cell_type": "code",
   "execution_count": 15,
   "id": "875f7092-7f14-49b1-9afd-ec9a1a4bee6e",
   "metadata": {
    "scrolled": true
   },
   "outputs": [
    {
     "name": "stdout",
     "output_type": "stream",
     "text": [
      "\n",
      "image 1/254 C:\\Users\\Guille\\Documents\\TFG\\yolov11\\..\\datasetUnificado\\test\\images\\000010.jpg: 384x640 9 maizes, 11 weeds, 36.4ms\n",
      "image 2/254 C:\\Users\\Guille\\Documents\\TFG\\yolov11\\..\\datasetUnificado\\test\\images\\000023.jpg: 384x640 6 maizes, 9 weeds, 40.9ms\n",
      "image 3/254 C:\\Users\\Guille\\Documents\\TFG\\yolov11\\..\\datasetUnificado\\test\\images\\000029.jpg: 384x640 6 maizes, 8 weeds, 13.7ms\n",
      "image 4/254 C:\\Users\\Guille\\Documents\\TFG\\yolov11\\..\\datasetUnificado\\test\\images\\000031.jpg: 384x640 6 maizes, 7 weeds, 11.7ms\n",
      "image 5/254 C:\\Users\\Guille\\Documents\\TFG\\yolov11\\..\\datasetUnificado\\test\\images\\000043.jpg: 384x640 10 maizes, 9 weeds, 11.2ms\n",
      "image 6/254 C:\\Users\\Guille\\Documents\\TFG\\yolov11\\..\\datasetUnificado\\test\\images\\000044.jpg: 384x640 10 maizes, 10 weeds, 12.1ms\n",
      "image 7/254 C:\\Users\\Guille\\Documents\\TFG\\yolov11\\..\\datasetUnificado\\test\\images\\000049.jpg: 384x640 11 maizes, 9 weeds, 11.1ms\n",
      "image 8/254 C:\\Users\\Guille\\Documents\\TFG\\yolov11\\..\\datasetUnificado\\test\\images\\000051.jpg: 384x640 10 maizes, 14 weeds, 11.3ms\n",
      "image 9/254 C:\\Users\\Guille\\Documents\\TFG\\yolov11\\..\\datasetUnificado\\test\\images\\000054.jpg: 384x640 9 maizes, 11 weeds, 11.7ms\n",
      "image 10/254 C:\\Users\\Guille\\Documents\\TFG\\yolov11\\..\\datasetUnificado\\test\\images\\000056.jpg: 384x640 9 maizes, 10 weeds, 10.6ms\n",
      "image 11/254 C:\\Users\\Guille\\Documents\\TFG\\yolov11\\..\\datasetUnificado\\test\\images\\000058.jpg: 384x640 8 maizes, 8 weeds, 14.1ms\n",
      "image 12/254 C:\\Users\\Guille\\Documents\\TFG\\yolov11\\..\\datasetUnificado\\test\\images\\000063.jpg: 384x640 8 maizes, 9 weeds, 10.2ms\n",
      "image 13/254 C:\\Users\\Guille\\Documents\\TFG\\yolov11\\..\\datasetUnificado\\test\\images\\000065.jpg: 384x640 8 maizes, 9 weeds, 13.1ms\n",
      "image 14/254 C:\\Users\\Guille\\Documents\\TFG\\yolov11\\..\\datasetUnificado\\test\\images\\000070.jpg: 384x640 8 maizes, 10 weeds, 12.2ms\n",
      "image 15/254 C:\\Users\\Guille\\Documents\\TFG\\yolov11\\..\\datasetUnificado\\test\\images\\000076.jpg: 384x640 7 maizes, 14 weeds, 14.8ms\n",
      "image 16/254 C:\\Users\\Guille\\Documents\\TFG\\yolov11\\..\\datasetUnificado\\test\\images\\000078.jpg: 384x640 7 maizes, 12 weeds, 11.6ms\n",
      "image 17/254 C:\\Users\\Guille\\Documents\\TFG\\yolov11\\..\\datasetUnificado\\test\\images\\000081.jpg: 384x640 7 maizes, 10 weeds, 11.6ms\n",
      "image 18/254 C:\\Users\\Guille\\Documents\\TFG\\yolov11\\..\\datasetUnificado\\test\\images\\000086.jpg: 384x640 7 maizes, 8 weeds, 11.6ms\n",
      "image 19/254 C:\\Users\\Guille\\Documents\\TFG\\yolov11\\..\\datasetUnificado\\test\\images\\000096.jpg: 384x640 6 maizes, 8 weeds, 11.1ms\n",
      "image 20/254 C:\\Users\\Guille\\Documents\\TFG\\yolov11\\..\\datasetUnificado\\test\\images\\000101.jpg: 384x640 6 maizes, 6 weeds, 11.9ms\n",
      "image 21/254 C:\\Users\\Guille\\Documents\\TFG\\yolov11\\..\\datasetUnificado\\test\\images\\000107.jpg: 384x640 7 maizes, 6 weeds, 11.2ms\n",
      "image 22/254 C:\\Users\\Guille\\Documents\\TFG\\yolov11\\..\\datasetUnificado\\test\\images\\000109.jpg: 384x640 6 maizes, 7 weeds, 14.3ms\n",
      "image 23/254 C:\\Users\\Guille\\Documents\\TFG\\yolov11\\..\\datasetUnificado\\test\\images\\000113.jpg: 384x640 7 maizes, 6 weeds, 14.8ms\n",
      "image 24/254 C:\\Users\\Guille\\Documents\\TFG\\yolov11\\..\\datasetUnificado\\test\\images\\000123.jpg: 384x640 7 maizes, 8 weeds, 14.7ms\n",
      "image 25/254 C:\\Users\\Guille\\Documents\\TFG\\yolov11\\..\\datasetUnificado\\test\\images\\000128.jpg: 384x640 6 maizes, 9 weeds, 15.4ms\n",
      "image 26/254 C:\\Users\\Guille\\Documents\\TFG\\yolov11\\..\\datasetUnificado\\test\\images\\000135.jpg: 384x640 7 maizes, 7 weeds, 14.9ms\n",
      "image 27/254 C:\\Users\\Guille\\Documents\\TFG\\yolov11\\..\\datasetUnificado\\test\\images\\000140.jpg: 384x640 8 maizes, 8 weeds, 16.3ms\n",
      "image 28/254 C:\\Users\\Guille\\Documents\\TFG\\yolov11\\..\\datasetUnificado\\test\\images\\000147.jpg: 384x640 9 maizes, 7 weeds, 15.7ms\n",
      "image 29/254 C:\\Users\\Guille\\Documents\\TFG\\yolov11\\..\\datasetUnificado\\test\\images\\000155.jpg: 384x640 7 maizes, 7 weeds, 16.2ms\n",
      "image 30/254 C:\\Users\\Guille\\Documents\\TFG\\yolov11\\..\\datasetUnificado\\test\\images\\000158.jpg: 384x640 7 maizes, 6 weeds, 15.8ms\n",
      "image 31/254 C:\\Users\\Guille\\Documents\\TFG\\yolov11\\..\\datasetUnificado\\test\\images\\000163.jpg: 384x640 8 maizes, 8 weeds, 15.1ms\n",
      "image 32/254 C:\\Users\\Guille\\Documents\\TFG\\yolov11\\..\\datasetUnificado\\test\\images\\000168.jpg: 384x640 8 maizes, 6 weeds, 17.0ms\n",
      "image 33/254 C:\\Users\\Guille\\Documents\\TFG\\yolov11\\..\\datasetUnificado\\test\\images\\000170.jpg: 384x640 8 maizes, 10 weeds, 15.9ms\n",
      "image 34/254 C:\\Users\\Guille\\Documents\\TFG\\yolov11\\..\\datasetUnificado\\test\\images\\000174.jpg: 384x640 7 maizes, 8 weeds, 17.7ms\n",
      "image 35/254 C:\\Users\\Guille\\Documents\\TFG\\yolov11\\..\\datasetUnificado\\test\\images\\000184.jpg: 384x640 6 maizes, 8 weeds, 11.2ms\n",
      "image 36/254 C:\\Users\\Guille\\Documents\\TFG\\yolov11\\..\\datasetUnificado\\test\\images\\000192.jpg: 384x640 6 maizes, 9 weeds, 12.9ms\n",
      "image 37/254 C:\\Users\\Guille\\Documents\\TFG\\yolov11\\..\\datasetUnificado\\test\\images\\000196.jpg: 384x640 6 maizes, 9 weeds, 12.1ms\n",
      "image 38/254 C:\\Users\\Guille\\Documents\\TFG\\yolov11\\..\\datasetUnificado\\test\\images\\000198.jpg: 384x640 6 maizes, 9 weeds, 14.4ms\n",
      "image 39/254 C:\\Users\\Guille\\Documents\\TFG\\yolov11\\..\\datasetUnificado\\test\\images\\000199.jpg: 384x640 6 maizes, 9 weeds, 15.1ms\n",
      "image 40/254 C:\\Users\\Guille\\Documents\\TFG\\yolov11\\..\\datasetUnificado\\test\\images\\000208.jpg: 384x640 8 maizes, 9 weeds, 14.9ms\n",
      "image 41/254 C:\\Users\\Guille\\Documents\\TFG\\yolov11\\..\\datasetUnificado\\test\\images\\000209.jpg: 384x640 7 maizes, 8 weeds, 15.1ms\n",
      "image 42/254 C:\\Users\\Guille\\Documents\\TFG\\yolov11\\..\\datasetUnificado\\test\\images\\000210.jpg: 384x640 6 maizes, 8 weeds, 15.3ms\n",
      "image 43/254 C:\\Users\\Guille\\Documents\\TFG\\yolov11\\..\\datasetUnificado\\test\\images\\000218.jpg: 384x640 5 maizes, 6 weeds, 11.1ms\n",
      "image 44/254 C:\\Users\\Guille\\Documents\\TFG\\yolov11\\..\\datasetUnificado\\test\\images\\000220.jpg: 384x640 6 maizes, 6 weeds, 11.4ms\n",
      "image 45/254 C:\\Users\\Guille\\Documents\\TFG\\yolov11\\..\\datasetUnificado\\test\\images\\000221.jpg: 384x640 5 maizes, 7 weeds, 11.4ms\n",
      "image 46/254 C:\\Users\\Guille\\Documents\\TFG\\yolov11\\..\\datasetUnificado\\test\\images\\000231.jpg: 384x640 4 maizes, 4 weeds, 16.9ms\n",
      "image 47/254 C:\\Users\\Guille\\Documents\\TFG\\yolov11\\..\\datasetUnificado\\test\\images\\000233.jpg: 384x640 4 maizes, 5 weeds, 14.0ms\n",
      "image 48/254 C:\\Users\\Guille\\Documents\\TFG\\yolov11\\..\\datasetUnificado\\test\\images\\000240.jpg: 384x640 6 maizes, 6 weeds, 11.7ms\n",
      "image 49/254 C:\\Users\\Guille\\Documents\\TFG\\yolov11\\..\\datasetUnificado\\test\\images\\000243.jpg: 384x640 7 maizes, 6 weeds, 11.0ms\n",
      "image 50/254 C:\\Users\\Guille\\Documents\\TFG\\yolov11\\..\\datasetUnificado\\test\\images\\000244.jpg: 384x640 6 maizes, 7 weeds, 12.4ms\n",
      "image 51/254 C:\\Users\\Guille\\Documents\\TFG\\yolov11\\..\\datasetUnificado\\test\\images\\000247.jpg: 384x640 6 maizes, 10 weeds, 14.7ms\n",
      "image 52/254 C:\\Users\\Guille\\Documents\\TFG\\yolov11\\..\\datasetUnificado\\test\\images\\000254.jpg: 384x640 8 maizes, 10 weeds, 13.5ms\n",
      "image 53/254 C:\\Users\\Guille\\Documents\\TFG\\yolov11\\..\\datasetUnificado\\test\\images\\000259.jpg: 384x640 8 maizes, 9 weeds, 12.2ms\n",
      "image 54/254 C:\\Users\\Guille\\Documents\\TFG\\yolov11\\..\\datasetUnificado\\test\\images\\000261.jpg: 384x640 8 maizes, 8 weeds, 14.0ms\n",
      "image 55/254 C:\\Users\\Guille\\Documents\\TFG\\yolov11\\..\\datasetUnificado\\test\\images\\000270.jpg: 384x640 8 maizes, 7 weeds, 12.3ms\n",
      "image 56/254 C:\\Users\\Guille\\Documents\\TFG\\yolov11\\..\\datasetUnificado\\test\\images\\000282.jpg: 384x640 5 maizes, 4 weeds, 14.8ms\n",
      "image 57/254 C:\\Users\\Guille\\Documents\\TFG\\yolov11\\..\\datasetUnificado\\test\\images\\000286.jpg: 384x640 5 maizes, 3 weeds, 15.6ms\n",
      "image 58/254 C:\\Users\\Guille\\Documents\\TFG\\yolov11\\..\\datasetUnificado\\test\\images\\000289.jpg: 384x640 3 maizes, 4 weeds, 16.9ms\n",
      "image 59/254 C:\\Users\\Guille\\Documents\\TFG\\yolov11\\..\\datasetUnificado\\test\\images\\000290.jpg: 384x640 4 maizes, 4 weeds, 12.0ms\n",
      "image 60/254 C:\\Users\\Guille\\Documents\\TFG\\yolov11\\..\\datasetUnificado\\test\\images\\000294.jpg: 384x640 3 maizes, 3 weeds, 11.2ms\n",
      "image 61/254 C:\\Users\\Guille\\Documents\\TFG\\yolov11\\..\\datasetUnificado\\test\\images\\000296.jpg: 384x640 4 maizes, 3 weeds, 11.9ms\n",
      "image 62/254 C:\\Users\\Guille\\Documents\\TFG\\yolov11\\..\\datasetUnificado\\test\\images\\000297.jpg: 384x640 4 maizes, 3 weeds, 12.2ms\n",
      "image 63/254 C:\\Users\\Guille\\Documents\\TFG\\yolov11\\..\\datasetUnificado\\test\\images\\000298.jpg: 384x640 4 maizes, 3 weeds, 13.5ms\n",
      "image 64/254 C:\\Users\\Guille\\Documents\\TFG\\yolov11\\..\\datasetUnificado\\test\\images\\000303.jpg: 384x640 4 maizes, 4 weeds, 17.8ms\n",
      "image 65/254 C:\\Users\\Guille\\Documents\\TFG\\yolov11\\..\\datasetUnificado\\test\\images\\000306.jpg: 384x640 4 maizes, 5 weeds, 11.1ms\n",
      "image 66/254 C:\\Users\\Guille\\Documents\\TFG\\yolov11\\..\\datasetUnificado\\test\\images\\000308.jpg: 384x640 4 maizes, 4 weeds, 12.2ms\n",
      "image 67/254 C:\\Users\\Guille\\Documents\\TFG\\yolov11\\..\\datasetUnificado\\test\\images\\000309.jpg: 384x640 4 maizes, 3 weeds, 16.7ms\n",
      "image 68/254 C:\\Users\\Guille\\Documents\\TFG\\yolov11\\..\\datasetUnificado\\test\\images\\000312.jpg: 384x640 3 maizes, 4 weeds, 13.5ms\n",
      "image 69/254 C:\\Users\\Guille\\Documents\\TFG\\yolov11\\..\\datasetUnificado\\test\\images\\000327.jpg: 384x640 3 maizes, 4 weeds, 11.7ms\n",
      "image 70/254 C:\\Users\\Guille\\Documents\\TFG\\yolov11\\..\\datasetUnificado\\test\\images\\000328.jpg: 384x640 3 maizes, 5 weeds, 15.6ms\n",
      "image 71/254 C:\\Users\\Guille\\Documents\\TFG\\yolov11\\..\\datasetUnificado\\test\\images\\000331.jpg: 384x640 4 maizes, 2 weeds, 12.0ms\n",
      "image 72/254 C:\\Users\\Guille\\Documents\\TFG\\yolov11\\..\\datasetUnificado\\test\\images\\000332.jpg: 384x640 4 maizes, 2 weeds, 11.9ms\n",
      "image 73/254 C:\\Users\\Guille\\Documents\\TFG\\yolov11\\..\\datasetUnificado\\test\\images\\000333.jpg: 384x640 4 maizes, 3 weeds, 10.8ms\n",
      "image 74/254 C:\\Users\\Guille\\Documents\\TFG\\yolov11\\..\\datasetUnificado\\test\\images\\000342.jpg: 384x640 6 maizes, 6 weeds, 11.7ms\n",
      "image 75/254 C:\\Users\\Guille\\Documents\\TFG\\yolov11\\..\\datasetUnificado\\test\\images\\000344.jpg: 384x640 6 maizes, 6 weeds, 14.7ms\n",
      "image 76/254 C:\\Users\\Guille\\Documents\\TFG\\yolov11\\..\\datasetUnificado\\test\\images\\000346.jpg: 384x640 7 maizes, 6 weeds, 17.3ms\n",
      "image 77/254 C:\\Users\\Guille\\Documents\\TFG\\yolov11\\..\\datasetUnificado\\test\\images\\000350.jpg: 384x640 6 maizes, 4 weeds, 17.0ms\n",
      "image 78/254 C:\\Users\\Guille\\Documents\\TFG\\yolov11\\..\\datasetUnificado\\test\\images\\000352.jpg: 384x640 7 maizes, 5 weeds, 15.9ms\n",
      "image 79/254 C:\\Users\\Guille\\Documents\\TFG\\yolov11\\..\\datasetUnificado\\test\\images\\000355.jpg: 384x640 6 maizes, 7 weeds, 14.2ms\n",
      "image 80/254 C:\\Users\\Guille\\Documents\\TFG\\yolov11\\..\\datasetUnificado\\test\\images\\000363.jpg: 384x640 6 maizes, 6 weeds, 12.2ms\n",
      "image 81/254 C:\\Users\\Guille\\Documents\\TFG\\yolov11\\..\\datasetUnificado\\test\\images\\000367.jpg: 384x640 8 maizes, 6 weeds, 12.3ms\n",
      "image 82/254 C:\\Users\\Guille\\Documents\\TFG\\yolov11\\..\\datasetUnificado\\test\\images\\000371.jpg: 384x640 8 maizes, 8 weeds, 12.2ms\n",
      "image 83/254 C:\\Users\\Guille\\Documents\\TFG\\yolov11\\..\\datasetUnificado\\test\\images\\000374.jpg: 384x640 6 maizes, 7 weeds, 11.6ms\n",
      "image 84/254 C:\\Users\\Guille\\Documents\\TFG\\yolov11\\..\\datasetUnificado\\test\\images\\000381.jpg: 384x640 6 maizes, 8 weeds, 12.2ms\n",
      "image 85/254 C:\\Users\\Guille\\Documents\\TFG\\yolov11\\..\\datasetUnificado\\test\\images\\000382.jpg: 384x640 6 maizes, 5 weeds, 13.3ms\n",
      "image 86/254 C:\\Users\\Guille\\Documents\\TFG\\yolov11\\..\\datasetUnificado\\test\\images\\000390.jpg: 384x640 6 maizes, 7 weeds, 16.0ms\n",
      "image 87/254 C:\\Users\\Guille\\Documents\\TFG\\yolov11\\..\\datasetUnificado\\test\\images\\000405.jpg: 384x640 6 maizes, 7 weeds, 16.8ms\n",
      "image 88/254 C:\\Users\\Guille\\Documents\\TFG\\yolov11\\..\\datasetUnificado\\test\\images\\000409.jpg: 384x640 10 maizes, 10 weeds, 15.6ms\n",
      "image 89/254 C:\\Users\\Guille\\Documents\\TFG\\yolov11\\..\\datasetUnificado\\test\\images\\000411.jpg: 384x640 8 maizes, 9 weeds, 12.0ms\n",
      "image 90/254 C:\\Users\\Guille\\Documents\\TFG\\yolov11\\..\\datasetUnificado\\test\\images\\000413.jpg: 384x640 8 maizes, 9 weeds, 12.2ms\n",
      "image 91/254 C:\\Users\\Guille\\Documents\\TFG\\yolov11\\..\\datasetUnificado\\test\\images\\000415.jpg: 384x640 7 maizes, 14 weeds, 11.4ms\n",
      "image 92/254 C:\\Users\\Guille\\Documents\\TFG\\yolov11\\..\\datasetUnificado\\test\\images\\000422.jpg: 384x640 5 maizes, 7 weeds, 12.2ms\n",
      "image 93/254 C:\\Users\\Guille\\Documents\\TFG\\yolov11\\..\\datasetUnificado\\test\\images\\000424.jpg: 384x640 5 maizes, 6 weeds, 12.2ms\n",
      "image 94/254 C:\\Users\\Guille\\Documents\\TFG\\yolov11\\..\\datasetUnificado\\test\\images\\000427.jpg: 384x640 8 maizes, 8 weeds, 12.2ms\n",
      "image 95/254 C:\\Users\\Guille\\Documents\\TFG\\yolov11\\..\\datasetUnificado\\test\\images\\000435.jpg: 384x640 4 maizes, 3 weeds, 12.7ms\n",
      "image 96/254 C:\\Users\\Guille\\Documents\\TFG\\yolov11\\..\\datasetUnificado\\test\\images\\000442.jpg: 384x640 5 maizes, 2 weeds, 15.7ms\n",
      "image 97/254 C:\\Users\\Guille\\Documents\\TFG\\yolov11\\..\\datasetUnificado\\test\\images\\000447.jpg: 384x640 6 maizes, 6 weeds, 13.5ms\n",
      "image 98/254 C:\\Users\\Guille\\Documents\\TFG\\yolov11\\..\\datasetUnificado\\test\\images\\000453.jpg: 384x640 6 maizes, 10 weeds, 12.2ms\n",
      "image 99/254 C:\\Users\\Guille\\Documents\\TFG\\yolov11\\..\\datasetUnificado\\test\\images\\000462.jpg: 384x640 8 maizes, 7 weeds, 11.7ms\n",
      "image 100/254 C:\\Users\\Guille\\Documents\\TFG\\yolov11\\..\\datasetUnificado\\test\\images\\000464.jpg: 384x640 6 maizes, 6 weeds, 11.8ms\n",
      "image 101/254 C:\\Users\\Guille\\Documents\\TFG\\yolov11\\..\\datasetUnificado\\test\\images\\000471.jpg: 384x640 7 maizes, 8 weeds, 16.8ms\n",
      "image 102/254 C:\\Users\\Guille\\Documents\\TFG\\yolov11\\..\\datasetUnificado\\test\\images\\000481.jpg: 384x640 4 maizes, 4 weeds, 12.1ms\n",
      "image 103/254 C:\\Users\\Guille\\Documents\\TFG\\yolov11\\..\\datasetUnificado\\test\\images\\000485.jpg: 384x640 4 maizes, 5 weeds, 12.1ms\n",
      "image 104/254 C:\\Users\\Guille\\Documents\\TFG\\yolov11\\..\\datasetUnificado\\test\\images\\000486.jpg: 384x640 5 maizes, 3 weeds, 16.3ms\n",
      "image 105/254 C:\\Users\\Guille\\Documents\\TFG\\yolov11\\..\\datasetUnificado\\test\\images\\000490.jpg: 384x640 7 maizes, 7 weeds, 11.8ms\n",
      "image 106/254 C:\\Users\\Guille\\Documents\\TFG\\yolov11\\..\\datasetUnificado\\test\\images\\000493.jpg: 384x640 6 maizes, 7 weeds, 11.7ms\n",
      "image 107/254 C:\\Users\\Guille\\Documents\\TFG\\yolov11\\..\\datasetUnificado\\test\\images\\000513.jpg: 640x640 6 maizes, 6 weeds, 27.9ms\n",
      "image 108/254 C:\\Users\\Guille\\Documents\\TFG\\yolov11\\..\\datasetUnificado\\test\\images\\000522.jpg: 640x640 4 maizes, 23.4ms\n",
      "image 109/254 C:\\Users\\Guille\\Documents\\TFG\\yolov11\\..\\datasetUnificado\\test\\images\\000527.jpg: 640x640 12 maizes, 5 weeds, 21.3ms\n",
      "image 110/254 C:\\Users\\Guille\\Documents\\TFG\\yolov11\\..\\datasetUnificado\\test\\images\\000528.jpg: 640x640 5 maizes, 5 weeds, 18.9ms\n",
      "image 111/254 C:\\Users\\Guille\\Documents\\TFG\\yolov11\\..\\datasetUnificado\\test\\images\\000529.jpg: 640x640 7 maizes, 3 weeds, 26.9ms\n",
      "image 112/254 C:\\Users\\Guille\\Documents\\TFG\\yolov11\\..\\datasetUnificado\\test\\images\\000532.jpg: 640x640 4 maizes, 17.3ms\n",
      "image 113/254 C:\\Users\\Guille\\Documents\\TFG\\yolov11\\..\\datasetUnificado\\test\\images\\000533.jpg: 640x640 4 maizes, 16.9ms\n",
      "image 114/254 C:\\Users\\Guille\\Documents\\TFG\\yolov11\\..\\datasetUnificado\\test\\images\\000534.jpg: 640x640 4 maizes, 26.9ms\n",
      "image 115/254 C:\\Users\\Guille\\Documents\\TFG\\yolov11\\..\\datasetUnificado\\test\\images\\000541.jpg: 640x640 4 maizes, 2 weeds, 23.3ms\n",
      "image 116/254 C:\\Users\\Guille\\Documents\\TFG\\yolov11\\..\\datasetUnificado\\test\\images\\000543.jpg: 640x640 1 maize, 1 weed, 15.8ms\n",
      "image 117/254 C:\\Users\\Guille\\Documents\\TFG\\yolov11\\..\\datasetUnificado\\test\\images\\000548.jpg: 640x640 2 maizes, 1 weed, 20.1ms\n",
      "image 118/254 C:\\Users\\Guille\\Documents\\TFG\\yolov11\\..\\datasetUnificado\\test\\images\\000552.jpg: 640x640 4 maizes, 18.3ms\n",
      "image 119/254 C:\\Users\\Guille\\Documents\\TFG\\yolov11\\..\\datasetUnificado\\test\\images\\000554.jpg: 640x640 4 maizes, 17.9ms\n",
      "image 120/254 C:\\Users\\Guille\\Documents\\TFG\\yolov11\\..\\datasetUnificado\\test\\images\\000561.jpg: 640x640 5 maizes, 2 weeds, 6.8ms\n",
      "image 121/254 C:\\Users\\Guille\\Documents\\TFG\\yolov11\\..\\datasetUnificado\\test\\images\\000573.jpg: 640x640 4 maizes, 3 weeds, 6.2ms\n",
      "image 122/254 C:\\Users\\Guille\\Documents\\TFG\\yolov11\\..\\datasetUnificado\\test\\images\\000575.jpg: 640x640 4 maizes, 6.1ms\n",
      "image 123/254 C:\\Users\\Guille\\Documents\\TFG\\yolov11\\..\\datasetUnificado\\test\\images\\000579.jpg: 640x640 3 maizes, 1 weed, 6.0ms\n",
      "image 124/254 C:\\Users\\Guille\\Documents\\TFG\\yolov11\\..\\datasetUnificado\\test\\images\\000581.jpg: 640x640 6 maizes, 4.8ms\n",
      "image 125/254 C:\\Users\\Guille\\Documents\\TFG\\yolov11\\..\\datasetUnificado\\test\\images\\000583.jpg: 640x640 5 maizes, 5.9ms\n",
      "image 126/254 C:\\Users\\Guille\\Documents\\TFG\\yolov11\\..\\datasetUnificado\\test\\images\\000588.jpg: 640x640 4 maizes, 6.0ms\n",
      "image 127/254 C:\\Users\\Guille\\Documents\\TFG\\yolov11\\..\\datasetUnificado\\test\\images\\000591.jpg: 640x640 3 maizes, 1 weed, 7.2ms\n",
      "image 128/254 C:\\Users\\Guille\\Documents\\TFG\\yolov11\\..\\datasetUnificado\\test\\images\\000597.jpg: 640x640 2 maizes, 1 weed, 6.8ms\n",
      "image 129/254 C:\\Users\\Guille\\Documents\\TFG\\yolov11\\..\\datasetUnificado\\test\\images\\000599.jpg: 640x640 3 maizes, 1 weed, 5.1ms\n",
      "image 130/254 C:\\Users\\Guille\\Documents\\TFG\\yolov11\\..\\datasetUnificado\\test\\images\\000609.jpg: 640x640 5 maizes, 2 weeds, 9.2ms\n",
      "image 131/254 C:\\Users\\Guille\\Documents\\TFG\\yolov11\\..\\datasetUnificado\\test\\images\\000615.jpg: 640x640 3 maizes, 1 weed, 6.2ms\n",
      "image 132/254 C:\\Users\\Guille\\Documents\\TFG\\yolov11\\..\\datasetUnificado\\test\\images\\000620.jpg: 640x640 3 maizes, 8.1ms\n",
      "image 133/254 C:\\Users\\Guille\\Documents\\TFG\\yolov11\\..\\datasetUnificado\\test\\images\\000621.jpg: 640x640 6 maizes, 1 weed, 6.1ms\n",
      "image 134/254 C:\\Users\\Guille\\Documents\\TFG\\yolov11\\..\\datasetUnificado\\test\\images\\000624.jpg: 640x640 5 maizes, 5.8ms\n",
      "image 135/254 C:\\Users\\Guille\\Documents\\TFG\\yolov11\\..\\datasetUnificado\\test\\images\\000626.jpg: 640x640 2 maizes, 5.0ms\n",
      "image 136/254 C:\\Users\\Guille\\Documents\\TFG\\yolov11\\..\\datasetUnificado\\test\\images\\000631.jpg: 640x640 4 maizes, 1 weed, 6.0ms\n",
      "image 137/254 C:\\Users\\Guille\\Documents\\TFG\\yolov11\\..\\datasetUnificado\\test\\images\\000634.jpg: 640x640 6 maizes, 1 weed, 6.1ms\n",
      "image 138/254 C:\\Users\\Guille\\Documents\\TFG\\yolov11\\..\\datasetUnificado\\test\\images\\000643.jpg: 640x640 7 maizes, 4 weeds, 6.2ms\n",
      "image 139/254 C:\\Users\\Guille\\Documents\\TFG\\yolov11\\..\\datasetUnificado\\test\\images\\000651.jpg: 640x640 10 maizes, 7 weeds, 5.0ms\n",
      "image 140/254 C:\\Users\\Guille\\Documents\\TFG\\yolov11\\..\\datasetUnificado\\test\\images\\000660.jpg: 640x640 3 maizes, 1 weed, 5.1ms\n",
      "image 141/254 C:\\Users\\Guille\\Documents\\TFG\\yolov11\\..\\datasetUnificado\\test\\images\\000661.jpg: 640x640 3 maizes, 1 weed, 5.2ms\n",
      "image 142/254 C:\\Users\\Guille\\Documents\\TFG\\yolov11\\..\\datasetUnificado\\test\\images\\000676.jpg: 640x640 5 maizes, 7.2ms\n",
      "image 143/254 C:\\Users\\Guille\\Documents\\TFG\\yolov11\\..\\datasetUnificado\\test\\images\\000680.jpg: 640x640 4 maizes, 3 weeds, 6.0ms\n",
      "image 144/254 C:\\Users\\Guille\\Documents\\TFG\\yolov11\\..\\datasetUnificado\\test\\images\\000693.jpg: 640x640 2 maizes, 6.4ms\n",
      "image 145/254 C:\\Users\\Guille\\Documents\\TFG\\yolov11\\..\\datasetUnificado\\test\\images\\000695.jpg: 640x640 4 maizes, 5.2ms\n",
      "image 146/254 C:\\Users\\Guille\\Documents\\TFG\\yolov11\\..\\datasetUnificado\\test\\images\\000704.jpg: 640x640 3 maizes, 7.1ms\n",
      "image 147/254 C:\\Users\\Guille\\Documents\\TFG\\yolov11\\..\\datasetUnificado\\test\\images\\000706.jpg: 640x640 3 maizes, 6.1ms\n",
      "image 148/254 C:\\Users\\Guille\\Documents\\TFG\\yolov11\\..\\datasetUnificado\\test\\images\\000710.jpg: 640x640 4 maizes, 1 weed, 6.0ms\n",
      "image 149/254 C:\\Users\\Guille\\Documents\\TFG\\yolov11\\..\\datasetUnificado\\test\\images\\000713.jpg: 640x640 3 maizes, 1 weed, 5.7ms\n",
      "image 150/254 C:\\Users\\Guille\\Documents\\TFG\\yolov11\\..\\datasetUnificado\\test\\images\\000720.jpg: 640x640 2 maizes, 5.7ms\n",
      "image 151/254 C:\\Users\\Guille\\Documents\\TFG\\yolov11\\..\\datasetUnificado\\test\\images\\000743.jpg: 640x640 3 maizes, 5.2ms\n",
      "image 152/254 C:\\Users\\Guille\\Documents\\TFG\\yolov11\\..\\datasetUnificado\\test\\images\\000746.jpg: 640x640 6 maizes, 1 weed, 5.6ms\n",
      "image 153/254 C:\\Users\\Guille\\Documents\\TFG\\yolov11\\..\\datasetUnificado\\test\\images\\000752.jpg: 640x640 7 maizes, 14 weeds, 5.1ms\n",
      "image 154/254 C:\\Users\\Guille\\Documents\\TFG\\yolov11\\..\\datasetUnificado\\test\\images\\000754.jpg: 640x640 7 maizes, 7 weeds, 6.2ms\n",
      "image 155/254 C:\\Users\\Guille\\Documents\\TFG\\yolov11\\..\\datasetUnificado\\test\\images\\000762.jpg: 640x640 1 maize, 1 weed, 6.1ms\n",
      "image 156/254 C:\\Users\\Guille\\Documents\\TFG\\yolov11\\..\\datasetUnificado\\test\\images\\000767.jpg: 640x640 9 maizes, 1 weed, 8.1ms\n",
      "image 157/254 C:\\Users\\Guille\\Documents\\TFG\\yolov11\\..\\datasetUnificado\\test\\images\\000771.jpg: 640x640 7 maizes, 6.2ms\n",
      "image 158/254 C:\\Users\\Guille\\Documents\\TFG\\yolov11\\..\\datasetUnificado\\test\\images\\000781.jpg: 640x640 5 maizes, 1 weed, 6.2ms\n",
      "image 159/254 C:\\Users\\Guille\\Documents\\TFG\\yolov11\\..\\datasetUnificado\\test\\images\\000785.jpg: 640x640 5 maizes, 1 weed, 5.2ms\n",
      "image 160/254 C:\\Users\\Guille\\Documents\\TFG\\yolov11\\..\\datasetUnificado\\test\\images\\000796.jpg: 640x640 3 maizes, 6.1ms\n",
      "image 161/254 C:\\Users\\Guille\\Documents\\TFG\\yolov11\\..\\datasetUnificado\\test\\images\\000802.jpg: 640x640 4 maizes, 5.2ms\n",
      "image 162/254 C:\\Users\\Guille\\Documents\\TFG\\yolov11\\..\\datasetUnificado\\test\\images\\000803.jpg: 640x640 4 maizes, 7.2ms\n",
      "image 163/254 C:\\Users\\Guille\\Documents\\TFG\\yolov11\\..\\datasetUnificado\\test\\images\\000807.jpg: 640x640 3 maizes, 6.2ms\n",
      "image 164/254 C:\\Users\\Guille\\Documents\\TFG\\yolov11\\..\\datasetUnificado\\test\\images\\000808.jpg: 640x640 4 maizes, 5.6ms\n",
      "image 165/254 C:\\Users\\Guille\\Documents\\TFG\\yolov11\\..\\datasetUnificado\\test\\images\\000812.jpg: 640x640 5 maizes, 5.4ms\n",
      "image 166/254 C:\\Users\\Guille\\Documents\\TFG\\yolov11\\..\\datasetUnificado\\test\\images\\000818.jpg: 640x640 2 maizes, 1 weed, 6.1ms\n",
      "image 167/254 C:\\Users\\Guille\\Documents\\TFG\\yolov11\\..\\datasetUnificado\\test\\images\\000820.jpg: 640x640 8 maizes, 1 weed, 7.5ms\n",
      "image 168/254 C:\\Users\\Guille\\Documents\\TFG\\yolov11\\..\\datasetUnificado\\test\\images\\000823.jpg: 640x640 3 maizes, 1 weed, 6.1ms\n",
      "image 169/254 C:\\Users\\Guille\\Documents\\TFG\\yolov11\\..\\datasetUnificado\\test\\images\\000825.jpg: 640x640 4 maizes, 1 weed, 8.0ms\n",
      "image 170/254 C:\\Users\\Guille\\Documents\\TFG\\yolov11\\..\\datasetUnificado\\test\\images\\000848.jpg: 640x640 3 maizes, 6.2ms\n",
      "image 171/254 C:\\Users\\Guille\\Documents\\TFG\\yolov11\\..\\datasetUnificado\\test\\images\\000852.jpg: 640x640 2 maizes, 9.1ms\n",
      "image 172/254 C:\\Users\\Guille\\Documents\\TFG\\yolov11\\..\\datasetUnificado\\test\\images\\000869.jpg: 640x640 3 maizes, 6.0ms\n",
      "image 173/254 C:\\Users\\Guille\\Documents\\TFG\\yolov11\\..\\datasetUnificado\\test\\images\\000879.jpg: 640x640 7 maizes, 3 weeds, 6.0ms\n",
      "image 174/254 C:\\Users\\Guille\\Documents\\TFG\\yolov11\\..\\datasetUnificado\\test\\images\\000884.jpg: 640x640 2 maizes, 2 weeds, 5.6ms\n",
      "image 175/254 C:\\Users\\Guille\\Documents\\TFG\\yolov11\\..\\datasetUnificado\\test\\images\\000886.jpg: 640x640 6 maizes, 1 weed, 5.2ms\n",
      "image 176/254 C:\\Users\\Guille\\Documents\\TFG\\yolov11\\..\\datasetUnificado\\test\\images\\000894.jpg: 640x640 2 maizes, 2 weeds, 5.7ms\n",
      "image 177/254 C:\\Users\\Guille\\Documents\\TFG\\yolov11\\..\\datasetUnificado\\test\\images\\000900.jpg: 640x640 4 maizes, 1 weed, 6.0ms\n",
      "image 178/254 C:\\Users\\Guille\\Documents\\TFG\\yolov11\\..\\datasetUnificado\\test\\images\\000908.jpg: 640x640 3 maizes, 1 weed, 5.7ms\n",
      "image 179/254 C:\\Users\\Guille\\Documents\\TFG\\yolov11\\..\\datasetUnificado\\test\\images\\000912.jpg: 640x640 3 maizes, 1 weed, 6.1ms\n",
      "image 180/254 C:\\Users\\Guille\\Documents\\TFG\\yolov11\\..\\datasetUnificado\\test\\images\\000917.jpg: 640x640 2 maizes, 6.1ms\n",
      "image 181/254 C:\\Users\\Guille\\Documents\\TFG\\yolov11\\..\\datasetUnificado\\test\\images\\000919.jpg: 640x640 3 maizes, 1 weed, 6.0ms\n",
      "image 182/254 C:\\Users\\Guille\\Documents\\TFG\\yolov11\\..\\datasetUnificado\\test\\images\\000921.jpg: 640x640 1 maize, 6.0ms\n",
      "image 183/254 C:\\Users\\Guille\\Documents\\TFG\\yolov11\\..\\datasetUnificado\\test\\images\\000924.jpg: 640x640 3 maizes, 1 weed, 8.2ms\n",
      "image 184/254 C:\\Users\\Guille\\Documents\\TFG\\yolov11\\..\\datasetUnificado\\test\\images\\000925.jpg: 640x640 6 maizes, 1 weed, 5.1ms\n",
      "image 185/254 C:\\Users\\Guille\\Documents\\TFG\\yolov11\\..\\datasetUnificado\\test\\images\\000932.jpg: 640x640 2 maizes, 1 weed, 6.1ms\n",
      "image 186/254 C:\\Users\\Guille\\Documents\\TFG\\yolov11\\..\\datasetUnificado\\test\\images\\000934.jpg: 640x640 2 maizes, 4 weeds, 6.2ms\n",
      "image 187/254 C:\\Users\\Guille\\Documents\\TFG\\yolov11\\..\\datasetUnificado\\test\\images\\000936.jpg: 640x640 5 maizes, 2 weeds, 8.7ms\n",
      "image 188/254 C:\\Users\\Guille\\Documents\\TFG\\yolov11\\..\\datasetUnificado\\test\\images\\000938.jpg: 640x640 4 maizes, 5.0ms\n",
      "image 189/254 C:\\Users\\Guille\\Documents\\TFG\\yolov11\\..\\datasetUnificado\\test\\images\\000950.jpg: 640x640 5 maizes, 1 weed, 5.6ms\n",
      "image 190/254 C:\\Users\\Guille\\Documents\\TFG\\yolov11\\..\\datasetUnificado\\test\\images\\000952.jpg: 640x640 7 maizes, 2 weeds, 5.1ms\n",
      "image 191/254 C:\\Users\\Guille\\Documents\\TFG\\yolov11\\..\\datasetUnificado\\test\\images\\000953.jpg: 640x640 5 maizes, 2 weeds, 6.1ms\n",
      "image 192/254 C:\\Users\\Guille\\Documents\\TFG\\yolov11\\..\\datasetUnificado\\test\\images\\000967.jpg: 640x640 2 maizes, 1 weed, 6.1ms\n",
      "image 193/254 C:\\Users\\Guille\\Documents\\TFG\\yolov11\\..\\datasetUnificado\\test\\images\\000977.jpg: 640x640 2 maizes, 8.1ms\n",
      "image 194/254 C:\\Users\\Guille\\Documents\\TFG\\yolov11\\..\\datasetUnificado\\test\\images\\000978.jpg: 640x640 5 maizes, 1 weed, 5.0ms\n",
      "image 195/254 C:\\Users\\Guille\\Documents\\TFG\\yolov11\\..\\datasetUnificado\\test\\images\\000987.jpg: 640x640 4 maizes, 3 weeds, 6.2ms\n",
      "image 196/254 C:\\Users\\Guille\\Documents\\TFG\\yolov11\\..\\datasetUnificado\\test\\images\\000988.jpg: 640x640 7 maizes, 1 weed, 6.0ms\n",
      "image 197/254 C:\\Users\\Guille\\Documents\\TFG\\yolov11\\..\\datasetUnificado\\test\\images\\000991.jpg: 640x640 3 maizes, 1 weed, 5.6ms\n",
      "image 198/254 C:\\Users\\Guille\\Documents\\TFG\\yolov11\\..\\datasetUnificado\\test\\images\\000994.jpg: 640x640 5 maizes, 1 weed, 7.0ms\n",
      "image 199/254 C:\\Users\\Guille\\Documents\\TFG\\yolov11\\..\\datasetUnificado\\test\\images\\000997.jpg: 640x640 3 maizes, 5.7ms\n",
      "image 200/254 C:\\Users\\Guille\\Documents\\TFG\\yolov11\\..\\datasetUnificado\\test\\images\\001004.jpg: 640x640 2 maizes, 6.4ms\n",
      "image 201/254 C:\\Users\\Guille\\Documents\\TFG\\yolov11\\..\\datasetUnificado\\test\\images\\001007.jpg: 640x640 5 maizes, 1 weed, 5.8ms\n",
      "image 202/254 C:\\Users\\Guille\\Documents\\TFG\\yolov11\\..\\datasetUnificado\\test\\images\\001009.jpg: 640x640 7 maizes, 11.2ms\n",
      "image 203/254 C:\\Users\\Guille\\Documents\\TFG\\yolov11\\..\\datasetUnificado\\test\\images\\001015.jpg: 640x640 5 maizes, 2 weeds, 6.2ms\n",
      "image 204/254 C:\\Users\\Guille\\Documents\\TFG\\yolov11\\..\\datasetUnificado\\test\\images\\001019.jpg: 640x640 8 maizes, 3 weeds, 6.6ms\n",
      "image 205/254 C:\\Users\\Guille\\Documents\\TFG\\yolov11\\..\\datasetUnificado\\test\\images\\001032.jpg: 640x640 6 maizes, 1 weed, 7.2ms\n",
      "image 206/254 C:\\Users\\Guille\\Documents\\TFG\\yolov11\\..\\datasetUnificado\\test\\images\\001033.jpg: 640x640 8 maizes, 4 weeds, 8.6ms\n",
      "image 207/254 C:\\Users\\Guille\\Documents\\TFG\\yolov11\\..\\datasetUnificado\\test\\images\\001039.jpg: 640x640 6 maizes, 3 weeds, 5.4ms\n",
      "image 208/254 C:\\Users\\Guille\\Documents\\TFG\\yolov11\\..\\datasetUnificado\\test\\images\\001045.jpg: 640x640 4 maizes, 9.1ms\n",
      "image 209/254 C:\\Users\\Guille\\Documents\\TFG\\yolov11\\..\\datasetUnificado\\test\\images\\001048.jpg: 640x640 4 maizes, 3 weeds, 5.6ms\n",
      "image 210/254 C:\\Users\\Guille\\Documents\\TFG\\yolov11\\..\\datasetUnificado\\test\\images\\001063.jpg: 640x640 2 maizes, 6.3ms\n",
      "image 211/254 C:\\Users\\Guille\\Documents\\TFG\\yolov11\\..\\datasetUnificado\\test\\images\\001069.jpg: 640x640 2 maizes, 1 weed, 6.1ms\n",
      "image 212/254 C:\\Users\\Guille\\Documents\\TFG\\yolov11\\..\\datasetUnificado\\test\\images\\001077.jpg: 640x640 6 maizes, 6.0ms\n",
      "image 213/254 C:\\Users\\Guille\\Documents\\TFG\\yolov11\\..\\datasetUnificado\\test\\images\\001079.jpg: 640x640 5 maizes, 1 weed, 5.3ms\n",
      "image 214/254 C:\\Users\\Guille\\Documents\\TFG\\yolov11\\..\\datasetUnificado\\test\\images\\001083.jpg: 640x640 5 maizes, 6.6ms\n",
      "image 215/254 C:\\Users\\Guille\\Documents\\TFG\\yolov11\\..\\datasetUnificado\\test\\images\\001088.jpg: 640x640 3 maizes, 1 weed, 5.0ms\n",
      "image 216/254 C:\\Users\\Guille\\Documents\\TFG\\yolov11\\..\\datasetUnificado\\test\\images\\001096.jpg: 640x640 2 maizes, 1 weed, 7.2ms\n",
      "image 217/254 C:\\Users\\Guille\\Documents\\TFG\\yolov11\\..\\datasetUnificado\\test\\images\\001098.jpg: 640x640 4 maizes, 6.0ms\n",
      "image 218/254 C:\\Users\\Guille\\Documents\\TFG\\yolov11\\..\\datasetUnificado\\test\\images\\001105.jpg: 640x640 3 maizes, 6.0ms\n",
      "image 219/254 C:\\Users\\Guille\\Documents\\TFG\\yolov11\\..\\datasetUnificado\\test\\images\\001116.jpg: 640x640 2 maizes, 6.1ms\n",
      "image 220/254 C:\\Users\\Guille\\Documents\\TFG\\yolov11\\..\\datasetUnificado\\test\\images\\001117.jpg: 640x640 2 maizes, 6.2ms\n",
      "image 221/254 C:\\Users\\Guille\\Documents\\TFG\\yolov11\\..\\datasetUnificado\\test\\images\\001118.jpg: 640x640 2 maizes, 7.1ms\n",
      "image 222/254 C:\\Users\\Guille\\Documents\\TFG\\yolov11\\..\\datasetUnificado\\test\\images\\001120.jpg: 640x640 3 maizes, 6.0ms\n",
      "image 223/254 C:\\Users\\Guille\\Documents\\TFG\\yolov11\\..\\datasetUnificado\\test\\images\\001124.jpg: 640x640 3 maizes, 1 weed, 6.0ms\n",
      "image 224/254 C:\\Users\\Guille\\Documents\\TFG\\yolov11\\..\\datasetUnificado\\test\\images\\001135.jpg: 640x640 7 maizes, 2 weeds, 6.7ms\n",
      "image 225/254 C:\\Users\\Guille\\Documents\\TFG\\yolov11\\..\\datasetUnificado\\test\\images\\001137.jpg: 640x640 4 maizes, 6.5ms\n",
      "image 226/254 C:\\Users\\Guille\\Documents\\TFG\\yolov11\\..\\datasetUnificado\\test\\images\\001139.jpg: 640x640 4 maizes, 1 weed, 5.9ms\n",
      "image 227/254 C:\\Users\\Guille\\Documents\\TFG\\yolov11\\..\\datasetUnificado\\test\\images\\001145.jpg: 640x640 9 maizes, 12 weeds, 6.3ms\n",
      "image 228/254 C:\\Users\\Guille\\Documents\\TFG\\yolov11\\..\\datasetUnificado\\test\\images\\001149.jpg: 640x640 6 maizes, 10 weeds, 5.8ms\n",
      "image 229/254 C:\\Users\\Guille\\Documents\\TFG\\yolov11\\..\\datasetUnificado\\test\\images\\001157.jpg: 640x640 6 maizes, 8 weeds, 6.7ms\n",
      "image 230/254 C:\\Users\\Guille\\Documents\\TFG\\yolov11\\..\\datasetUnificado\\test\\images\\001160.jpg: 640x640 8 maizes, 11 weeds, 6.1ms\n",
      "image 231/254 C:\\Users\\Guille\\Documents\\TFG\\yolov11\\..\\datasetUnificado\\test\\images\\001161.jpg: 640x640 8 maizes, 8 weeds, 5.7ms\n",
      "image 232/254 C:\\Users\\Guille\\Documents\\TFG\\yolov11\\..\\datasetUnificado\\test\\images\\001163.jpg: 640x640 6 maizes, 8 weeds, 6.6ms\n",
      "image 233/254 C:\\Users\\Guille\\Documents\\TFG\\yolov11\\..\\datasetUnificado\\test\\images\\001165.jpg: 640x640 6 maizes, 7 weeds, 10.1ms\n",
      "image 234/254 C:\\Users\\Guille\\Documents\\TFG\\yolov11\\..\\datasetUnificado\\test\\images\\001172.jpg: 640x640 8 maizes, 9 weeds, 6.0ms\n",
      "image 235/254 C:\\Users\\Guille\\Documents\\TFG\\yolov11\\..\\datasetUnificado\\test\\images\\001174.jpg: 640x640 4 maizes, 6 weeds, 6.9ms\n",
      "image 236/254 C:\\Users\\Guille\\Documents\\TFG\\yolov11\\..\\datasetUnificado\\test\\images\\001175.jpg: 640x640 6 maizes, 9 weeds, 7.2ms\n",
      "image 237/254 C:\\Users\\Guille\\Documents\\TFG\\yolov11\\..\\datasetUnificado\\test\\images\\001186.jpg: 640x640 4 maizes, 5 weeds, 7.7ms\n",
      "image 238/254 C:\\Users\\Guille\\Documents\\TFG\\yolov11\\..\\datasetUnificado\\test\\images\\001194.jpg: 640x640 7 maizes, 7 weeds, 6.2ms\n",
      "image 239/254 C:\\Users\\Guille\\Documents\\TFG\\yolov11\\..\\datasetUnificado\\test\\images\\001201.jpg: 640x640 1 maize, 1 weed, 7.1ms\n",
      "image 240/254 C:\\Users\\Guille\\Documents\\TFG\\yolov11\\..\\datasetUnificado\\test\\images\\001207.jpg: 640x640 3 maizes, 4 weeds, 7.0ms\n",
      "image 241/254 C:\\Users\\Guille\\Documents\\TFG\\yolov11\\..\\datasetUnificado\\test\\images\\001208.jpg: 640x640 3 maizes, 4 weeds, 6.7ms\n",
      "image 242/254 C:\\Users\\Guille\\Documents\\TFG\\yolov11\\..\\datasetUnificado\\test\\images\\001210.jpg: 640x640 2 maizes, 2 weeds, 8.1ms\n",
      "image 243/254 C:\\Users\\Guille\\Documents\\TFG\\yolov11\\..\\datasetUnificado\\test\\images\\001213.jpg: 640x640 3 maizes, 3 weeds, 8.0ms\n",
      "image 244/254 C:\\Users\\Guille\\Documents\\TFG\\yolov11\\..\\datasetUnificado\\test\\images\\001226.jpg: 640x640 6 maizes, 10 weeds, 6.7ms\n",
      "image 245/254 C:\\Users\\Guille\\Documents\\TFG\\yolov11\\..\\datasetUnificado\\test\\images\\001235.jpg: 640x640 6 maizes, 6 weeds, 8.4ms\n",
      "image 246/254 C:\\Users\\Guille\\Documents\\TFG\\yolov11\\..\\datasetUnificado\\test\\images\\001240.jpg: 640x640 5 maizes, 1 weed, 7.0ms\n",
      "image 247/254 C:\\Users\\Guille\\Documents\\TFG\\yolov11\\..\\datasetUnificado\\test\\images\\001251.jpg: 640x640 8 maizes, 7 weeds, 6.1ms\n",
      "image 248/254 C:\\Users\\Guille\\Documents\\TFG\\yolov11\\..\\datasetUnificado\\test\\images\\001252.jpg: 640x640 7 maizes, 14 weeds, 10.1ms\n",
      "image 249/254 C:\\Users\\Guille\\Documents\\TFG\\yolov11\\..\\datasetUnificado\\test\\images\\001253.jpg: 640x640 7 maizes, 8 weeds, 6.1ms\n",
      "image 250/254 C:\\Users\\Guille\\Documents\\TFG\\yolov11\\..\\datasetUnificado\\test\\images\\001255.jpg: 640x640 7 maizes, 12 weeds, 8.1ms\n",
      "image 251/254 C:\\Users\\Guille\\Documents\\TFG\\yolov11\\..\\datasetUnificado\\test\\images\\001256.jpg: 640x640 5 maizes, 7 weeds, 6.8ms\n",
      "image 252/254 C:\\Users\\Guille\\Documents\\TFG\\yolov11\\..\\datasetUnificado\\test\\images\\001258.jpg: 640x640 4 maizes, 6 weeds, 6.6ms\n",
      "image 253/254 C:\\Users\\Guille\\Documents\\TFG\\yolov11\\..\\datasetUnificado\\test\\images\\001259.jpg: 640x640 4 maizes, 3 weeds, 6.0ms\n",
      "image 254/254 C:\\Users\\Guille\\Documents\\TFG\\yolov11\\..\\datasetUnificado\\test\\images\\001265.jpg: 640x640 4 maizes, 2 weeds, 6.2ms\n",
      "Speed: 1.8ms preprocess, 10.3ms inference, 1.2ms postprocess per image at shape (1, 3, 640, 640)\n",
      "Results saved to \u001b[1mruns\\detect\\predict4\u001b[0m\n",
      "254 labels saved to runs\\detect\\predict4\\labels\n"
     ]
    }
   ],
   "source": [
    "from ultralytics import YOLO\n",
    "\n",
    "# Cargar el modelo\n",
    "model = YOLO('runs/detect/train222/weights/best.pt')\n",
    "\n",
    "results = model.predict(source='../datasetUnificado/test/images', imgsz=640, conf=0.25, save=True, save_txt=True)"
   ]
  },
  {
   "cell_type": "code",
   "execution_count": null,
   "id": "b1dad0ed-9882-4f2c-a58b-2d6b12407417",
   "metadata": {},
   "outputs": [],
   "source": []
  },
  {
   "cell_type": "code",
   "execution_count": null,
   "id": "569ef10c-0929-41e7-a5fd-842445f469c0",
   "metadata": {},
   "outputs": [],
   "source": []
  }
 ],
 "metadata": {
  "kernelspec": {
   "display_name": "Python (yolov11)",
   "language": "python",
   "name": "yolov11"
  },
  "language_info": {
   "codemirror_mode": {
    "name": "ipython",
    "version": 3
   },
   "file_extension": ".py",
   "mimetype": "text/x-python",
   "name": "python",
   "nbconvert_exporter": "python",
   "pygments_lexer": "ipython3",
   "version": "3.9.21"
  }
 },
 "nbformat": 4,
 "nbformat_minor": 5
}
