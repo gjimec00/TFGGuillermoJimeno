{
 "cells": [
  {
   "cell_type": "code",
   "execution_count": 1,
   "id": "3f4a16a6-6d45-4f92-b431-179e7079c4ec",
   "metadata": {},
   "outputs": [
    {
     "name": "stdout",
     "output_type": "stream",
     "text": [
      "¡Proceso completado! Archivos separados correctamente.\n"
     ]
    }
   ],
   "source": [
    "import os\n",
    "import random\n",
    "import shutil\n",
    "\n",
    "def separar_archivos(ruta_carpeta):\n",
    "    # Rutas de las carpetas finales\n",
    "    rutas_finales = {\n",
    "        'train': os.path.join(ruta_carpeta, 'train'),\n",
    "        'valid': os.path.join(ruta_carpeta, 'valid'),\n",
    "        'test': os.path.join(ruta_carpeta, 'test')\n",
    "    }\n",
    "\n",
    "    # Crear las carpetas finales si no existen\n",
    "    for carpeta in rutas_finales.values():\n",
    "        os.makedirs(os.path.join(carpeta, 'images'), exist_ok=True)\n",
    "        os.makedirs(os.path.join(carpeta, 'labels'), exist_ok=True)\n",
    "\n",
    "    # Obtener la lista de imágenes (archivos .jpg)\n",
    "    imagenes = [archivo for archivo in os.listdir(ruta_carpeta) if archivo.endswith('.jpg')]\n",
    "    random.shuffle(imagenes)  # Mezclar las imágenes aleatoriamente\n",
    "\n",
    "    # Calcular el número de imágenes para cada conjunto\n",
    "    total_imagenes = len(imagenes)\n",
    "    num_train = int(total_imagenes * 0.7)\n",
    "    num_valid = int(total_imagenes * 0.2)\n",
    "    num_test = total_imagenes - num_train - num_valid\n",
    "\n",
    "    # Separar las imágenes en train, valid y test\n",
    "    conjuntos = {\n",
    "        'train': imagenes[:num_train],\n",
    "        'valid': imagenes[num_train:num_train + num_valid],\n",
    "        'test': imagenes[num_train + num_valid:]\n",
    "    }\n",
    "\n",
    "    # Mover las imágenes y sus archivos correspondientes\n",
    "    for conjunto, archivos in conjuntos.items():\n",
    "        for archivo in archivos:\n",
    "            # Mover la imagen\n",
    "            ruta_imagen_origen = os.path.join(ruta_carpeta, archivo)\n",
    "            ruta_imagen_destino = os.path.join(rutas_finales[conjunto], 'images', archivo)\n",
    "            shutil.move(ruta_imagen_origen, ruta_imagen_destino)\n",
    "\n",
    "            # Mover el archivo .txt si existe\n",
    "            nombre_base = os.path.splitext(archivo)[0]\n",
    "            ruta_txt_origen = os.path.join(ruta_carpeta, f\"{nombre_base}.txt\")\n",
    "            ruta_txt_destino = os.path.join(rutas_finales[conjunto], 'labels', f\"{nombre_base}.txt\")\n",
    "            if os.path.exists(ruta_txt_origen):\n",
    "                shutil.move(ruta_txt_origen, ruta_txt_destino)\n",
    "\n",
    "            # Mover el archivo .xml si existe\n",
    "            ruta_xml_origen = os.path.join(ruta_carpeta, f\"{nombre_base}.xml\")\n",
    "            ruta_xml_destino = os.path.join(rutas_finales[conjunto], 'labels', f\"{nombre_base}.xml\")\n",
    "            if os.path.exists(ruta_xml_origen):\n",
    "                shutil.move(ruta_xml_origen, ruta_xml_destino)\n",
    "\n",
    "    print(\"¡Proceso completado! Archivos separados correctamente.\")\n",
    "\n",
    "# Ejemplo de uso\n",
    "ruta_carpeta = 'C:/Users/Guille/Desktop/Maize-Weed Image Dataset/Annotated Maize-Weed Images'  # Cambia esto por la ruta de tu carpeta\n",
    "separar_archivos(ruta_carpeta)"
   ]
  },
  {
   "cell_type": "code",
   "execution_count": null,
   "id": "a2f2a2db-1b66-4330-8043-26010f035324",
   "metadata": {},
   "outputs": [],
   "source": []
  }
 ],
 "metadata": {
  "kernelspec": {
   "display_name": "Python (yolov8)",
   "language": "python",
   "name": "yolov8"
  },
  "language_info": {
   "codemirror_mode": {
    "name": "ipython",
    "version": 3
   },
   "file_extension": ".py",
   "mimetype": "text/x-python",
   "name": "python",
   "nbconvert_exporter": "python",
   "pygments_lexer": "ipython3",
   "version": "3.9.21"
  }
 },
 "nbformat": 4,
 "nbformat_minor": 5
}
